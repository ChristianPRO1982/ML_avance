{
 "cells": [
  {
   "cell_type": "markdown",
   "metadata": {},
   "source": [
    "# Courbe ROC, AUC et Courbe Precision/Recall"
   ]
  },
  {
   "cell_type": "markdown",
   "metadata": {},
   "source": [
    "## Introduction"
   ]
  },
  {
   "cell_type": "markdown",
   "metadata": {},
   "source": [
    "En plus des métriques de precision, recall et F1 score, il existe d'autres outils qui permettent de mesurer les performances d'un modèle de classification : la courbe precision/recall, la courbe ROC (ROC Curve) et l'AUC.\n",
    "\n",
    "La courbe precision/recall représente l'évolution de la precision en fonction du recall.\n",
    "\n",
    "La courbe ROC et sa mesure associée l'AUC (Aire sous la courbe) permettent d'évaluer les performances globales d'un modèle mais aussi de comparer facilement les performances de plusieurs modèles de classifications entre eux. \n",
    "\n",
    "La courbe ROC est donc un outil qui peut faciliter notre décision concernant le choix du modèle de classification à utiliser."
   ]
  },
  {
   "cell_type": "markdown",
   "metadata": {},
   "source": [
    "## Partie théorique "
   ]
  },
  {
   "cell_type": "markdown",
   "metadata": {},
   "source": [
    "Lorsqu'un modèle de classification fait une prédiction sur une observation, il va lui attribuer une classe. \n",
    "\n",
    "Par exemple si notre modèle doit prédire si un signal radar provient d'un avion ou d'un nuage, alors les classes seront avion et nuage. La classe positive (1) est généralement celle qu'on cherche à détecter. Dans cette exemple la classe avion sera la classe positive. La classe nuage sera donc la classe négative (0). \n",
    "\n",
    "Pour choisir dans quelle classe placer une observation, le modèle va utiliser le score de la fonction de décision. Plus ce score est élevé, plus la prédiction est susceptible d'être positive. C'est une estimation de la probabilité que ce qu'on doit prédire soit positif.\n",
    "\n",
    "Afin de choisir comment classer les observations entre ces deux classes on va utiliser un **seuil** ou **threshold**. Si le score de la fonction de décision est supérieur au seuil, alors l'observation sera prédite comme positive (avion), si elle est inférieur, alors elle sera prédite comme négative (nuage)."
   ]
  },
  {
   "cell_type": "markdown",
   "metadata": {},
   "source": [
    "<img src=\"imgs/threshold.PNG\">\n",
    "\n",
    "Sur cette image est représentée la classe réelle des observations (nuage ou avion). La ligne noire représente le seuil. Les observations ayant un score supérieur à ce seuil sont prédites comme positives par le modèle."
   ]
  },
  {
   "cell_type": "markdown",
   "metadata": {},
   "source": [
    "En déplaçant ce seuil, on va modifier la capacité de notre modèle à détecter la classe positive. Lorsque l'on baisse ce seuil, notre modèle va classer un plus grand nombre d'observations comme positives. A l'inverse, lorsque l'on monte le seuil notre modèle va classer un moins grand nombre d'observations comme positives.\n",
    "\n",
    "On va utiliser ce seuil pour tracer la courbe ROC, qui est un outil pour mesurer les performances globales d'un modèle de classification."
   ]
  },
  {
   "cell_type": "markdown",
   "metadata": {},
   "source": [
    "Pour obtenir la courbe ROC, on fait varier le seuil, et pour chaque valeur du seuil on place un point correspondant à l’intersection entre le TPR et le FPR sur un graphique.\n",
    "\n",
    "- Le **TPR**, ou taux de vrai positif, est un autre nom pour le recall. Il correspond aux nombres de prédictions positives correctes parmi toutes les observations positives. Dans notre exemple, le nombre de prédictions d'avions correctes parmi le nombre total d'observations d'avions.\n",
    "\n",
    "- Le **FPR**, ou taux de faux positif, correspond aux nombres de prédictions positives incorrectes parmi les observations négatives. Dans notre exemple, le nombre de prédictions d'avions incorrectes parmi le nombre total d'observations de nuages.\n",
    "\n",
    "En plaçant toutes les combinaisons on obtient la courbe ROC."
   ]
  },
  {
   "cell_type": "markdown",
   "metadata": {},
   "source": [
    "<img src=\"imgs/creating-roc.PNG\">\n",
    "\n",
    "Sur ce graphique le point mis en avant avec le TPR à 0.8 et le FPR à 0.4 correspond au seuil de l'image précédente."
   ]
  },
  {
   "cell_type": "markdown",
   "metadata": {},
   "source": [
    "Si on défini le seuil de notre modèle au minimum, alors toutes les observations seront classées comme positives → TPR de 1, mais FPR de 1 également.\n",
    "\n",
    "A l’inverse si le seuil de notre modèle est au maximum, alors toutes les observations seront classés comme négatives → TPR de 0 et FPR de 0."
   ]
  },
  {
   "cell_type": "markdown",
   "metadata": {},
   "source": [
    "L’objectif est donc de trouver le seuil pour maximiser notre taux de vrai positif et minimiser notre taux de faux positif. En modifiant le seuil on affecte les performances de notre modèle.\n",
    "\n",
    "L’intérêt de la courbe ROC est de voir les performances du modèle et d’ajuster le seuil en fonction, mais aussi de comparer les performances du modèle avec celles des autres modèles."
   ]
  },
  {
   "cell_type": "markdown",
   "metadata": {},
   "source": [
    "<img src=\"imgs/roc-curves.png\">"
   ]
  },
  {
   "cell_type": "markdown",
   "metadata": {},
   "source": [
    "L’objectif est que la courbe ROC du modèle se rapproche le plus possible de la courbe parfaite. En revanche une courbe ROC ressemblant à celle de la courbe parfaite peut aussi être le signe d’overfitting ou de data leaking."
   ]
  },
  {
   "cell_type": "markdown",
   "metadata": {},
   "source": [
    "L'AUC ou aire sous la courbe, est une mesure complémentaire à la courbe ROC. L’AUC permet aussi d’évaluer la performance d’un modèle. \n",
    "Elle correspond à l’aire sous la courbe ROC. Plus l’AUC est élevée, meilleur est le modèle.\n",
    "\n",
    "L’AUC évalue les performances globales du modèle, en s’intéressant à toute les combinaisons possibles produites avec le seuil, pour donner un score. En revanche l’AUC ne tient pas compte du type d’erreur pouvant être fait par le modèle, tout comme la courbe ROC."
   ]
  },
  {
   "cell_type": "markdown",
   "metadata": {},
   "source": [
    "<img src=\"imgs/auc.PNG\">"
   ]
  },
  {
   "cell_type": "markdown",
   "metadata": {},
   "source": [
    "La courbe ROC et l'AUC sont des métriques utiles lorsque l'on s'intéresse aux performances globales des modèles, que les classes sont assez équilibrées et que l'on ne s'intéresse pas à un type d'erreur en particulier."
   ]
  },
  {
   "cell_type": "markdown",
   "metadata": {},
   "source": [
    "## Partie pratique"
   ]
  },
  {
   "cell_type": "markdown",
   "metadata": {},
   "source": [
    "### Création d'un jeu de données pour la classification"
   ]
  },
  {
   "cell_type": "code",
   "execution_count": 116,
   "metadata": {},
   "outputs": [],
   "source": [
    "# Importation des librairies\n",
    "\n",
    "import matplotlib.pyplot as plt\n",
    "import numpy as np\n",
    "import pandas as pd\n",
    "\n",
    "from sklearn.datasets import make_classification\n",
    "from sklearn.model_selection import train_test_split, cross_val_predict"
   ]
  },
  {
   "cell_type": "code",
   "execution_count": 117,
   "metadata": {},
   "outputs": [],
   "source": [
    "# Création d'un jeu de données avec deux classes à prédire\n",
    "\n",
    "X, y = make_classification(n_samples=10000, n_features=10, n_informative=3, n_classes=2, weights= [0.6, 0.4], flip_y=0.15, random_state=42)"
   ]
  },
  {
   "cell_type": "markdown",
   "metadata": {},
   "source": [
    "`make_classification` est une fonction qui permet de créer un jeu de données fictif, dont on peut modifier les paramètres. \n",
    "\n",
    "On va conserver l'exemple d'un modèle devant prédire si une observation est un nuage ou un avion selon le signal radio reçu. Le nombre d'observations est de 10 000, 6000 sont des observations de nuages et 4000 d'avions. La classe positive (1) sera la classe avion."
   ]
  },
  {
   "cell_type": "code",
   "execution_count": 118,
   "metadata": {},
   "outputs": [],
   "source": [
    "# Création des train et test set\n",
    "\n",
    "X_train, X_test, y_train, y_test = train_test_split(X, y, shuffle=True, train_size=0.8, random_state=42, stratify=y)"
   ]
  },
  {
   "cell_type": "markdown",
   "metadata": {},
   "source": [
    "### Entrainement du modèle"
   ]
  },
  {
   "cell_type": "markdown",
   "metadata": {},
   "source": [
    "On va entrainer deux modèles, un decision tree et un random forest. Le modèle random forest servira de comparaison pour montrer l'intérêt de la courbe ROC et AUC."
   ]
  },
  {
   "cell_type": "code",
   "execution_count": 119,
   "metadata": {},
   "outputs": [
    {
     "data": {
      "text/html": [
       "<style>#sk-container-id-3 {\n",
       "  /* Definition of color scheme common for light and dark mode */\n",
       "  --sklearn-color-text: black;\n",
       "  --sklearn-color-line: gray;\n",
       "  /* Definition of color scheme for unfitted estimators */\n",
       "  --sklearn-color-unfitted-level-0: #fff5e6;\n",
       "  --sklearn-color-unfitted-level-1: #f6e4d2;\n",
       "  --sklearn-color-unfitted-level-2: #ffe0b3;\n",
       "  --sklearn-color-unfitted-level-3: chocolate;\n",
       "  /* Definition of color scheme for fitted estimators */\n",
       "  --sklearn-color-fitted-level-0: #f0f8ff;\n",
       "  --sklearn-color-fitted-level-1: #d4ebff;\n",
       "  --sklearn-color-fitted-level-2: #b3dbfd;\n",
       "  --sklearn-color-fitted-level-3: cornflowerblue;\n",
       "\n",
       "  /* Specific color for light theme */\n",
       "  --sklearn-color-text-on-default-background: var(--sg-text-color, var(--theme-code-foreground, var(--jp-content-font-color1, black)));\n",
       "  --sklearn-color-background: var(--sg-background-color, var(--theme-background, var(--jp-layout-color0, white)));\n",
       "  --sklearn-color-border-box: var(--sg-text-color, var(--theme-code-foreground, var(--jp-content-font-color1, black)));\n",
       "  --sklearn-color-icon: #696969;\n",
       "\n",
       "  @media (prefers-color-scheme: dark) {\n",
       "    /* Redefinition of color scheme for dark theme */\n",
       "    --sklearn-color-text-on-default-background: var(--sg-text-color, var(--theme-code-foreground, var(--jp-content-font-color1, white)));\n",
       "    --sklearn-color-background: var(--sg-background-color, var(--theme-background, var(--jp-layout-color0, #111)));\n",
       "    --sklearn-color-border-box: var(--sg-text-color, var(--theme-code-foreground, var(--jp-content-font-color1, white)));\n",
       "    --sklearn-color-icon: #878787;\n",
       "  }\n",
       "}\n",
       "\n",
       "#sk-container-id-3 {\n",
       "  color: var(--sklearn-color-text);\n",
       "}\n",
       "\n",
       "#sk-container-id-3 pre {\n",
       "  padding: 0;\n",
       "}\n",
       "\n",
       "#sk-container-id-3 input.sk-hidden--visually {\n",
       "  border: 0;\n",
       "  clip: rect(1px 1px 1px 1px);\n",
       "  clip: rect(1px, 1px, 1px, 1px);\n",
       "  height: 1px;\n",
       "  margin: -1px;\n",
       "  overflow: hidden;\n",
       "  padding: 0;\n",
       "  position: absolute;\n",
       "  width: 1px;\n",
       "}\n",
       "\n",
       "#sk-container-id-3 div.sk-dashed-wrapped {\n",
       "  border: 1px dashed var(--sklearn-color-line);\n",
       "  margin: 0 0.4em 0.5em 0.4em;\n",
       "  box-sizing: border-box;\n",
       "  padding-bottom: 0.4em;\n",
       "  background-color: var(--sklearn-color-background);\n",
       "}\n",
       "\n",
       "#sk-container-id-3 div.sk-container {\n",
       "  /* jupyter's `normalize.less` sets `[hidden] { display: none; }`\n",
       "     but bootstrap.min.css set `[hidden] { display: none !important; }`\n",
       "     so we also need the `!important` here to be able to override the\n",
       "     default hidden behavior on the sphinx rendered scikit-learn.org.\n",
       "     See: https://github.com/scikit-learn/scikit-learn/issues/21755 */\n",
       "  display: inline-block !important;\n",
       "  position: relative;\n",
       "}\n",
       "\n",
       "#sk-container-id-3 div.sk-text-repr-fallback {\n",
       "  display: none;\n",
       "}\n",
       "\n",
       "div.sk-parallel-item,\n",
       "div.sk-serial,\n",
       "div.sk-item {\n",
       "  /* draw centered vertical line to link estimators */\n",
       "  background-image: linear-gradient(var(--sklearn-color-text-on-default-background), var(--sklearn-color-text-on-default-background));\n",
       "  background-size: 2px 100%;\n",
       "  background-repeat: no-repeat;\n",
       "  background-position: center center;\n",
       "}\n",
       "\n",
       "/* Parallel-specific style estimator block */\n",
       "\n",
       "#sk-container-id-3 div.sk-parallel-item::after {\n",
       "  content: \"\";\n",
       "  width: 100%;\n",
       "  border-bottom: 2px solid var(--sklearn-color-text-on-default-background);\n",
       "  flex-grow: 1;\n",
       "}\n",
       "\n",
       "#sk-container-id-3 div.sk-parallel {\n",
       "  display: flex;\n",
       "  align-items: stretch;\n",
       "  justify-content: center;\n",
       "  background-color: var(--sklearn-color-background);\n",
       "  position: relative;\n",
       "}\n",
       "\n",
       "#sk-container-id-3 div.sk-parallel-item {\n",
       "  display: flex;\n",
       "  flex-direction: column;\n",
       "}\n",
       "\n",
       "#sk-container-id-3 div.sk-parallel-item:first-child::after {\n",
       "  align-self: flex-end;\n",
       "  width: 50%;\n",
       "}\n",
       "\n",
       "#sk-container-id-3 div.sk-parallel-item:last-child::after {\n",
       "  align-self: flex-start;\n",
       "  width: 50%;\n",
       "}\n",
       "\n",
       "#sk-container-id-3 div.sk-parallel-item:only-child::after {\n",
       "  width: 0;\n",
       "}\n",
       "\n",
       "/* Serial-specific style estimator block */\n",
       "\n",
       "#sk-container-id-3 div.sk-serial {\n",
       "  display: flex;\n",
       "  flex-direction: column;\n",
       "  align-items: center;\n",
       "  background-color: var(--sklearn-color-background);\n",
       "  padding-right: 1em;\n",
       "  padding-left: 1em;\n",
       "}\n",
       "\n",
       "\n",
       "/* Toggleable style: style used for estimator/Pipeline/ColumnTransformer box that is\n",
       "clickable and can be expanded/collapsed.\n",
       "- Pipeline and ColumnTransformer use this feature and define the default style\n",
       "- Estimators will overwrite some part of the style using the `sk-estimator` class\n",
       "*/\n",
       "\n",
       "/* Pipeline and ColumnTransformer style (default) */\n",
       "\n",
       "#sk-container-id-3 div.sk-toggleable {\n",
       "  /* Default theme specific background. It is overwritten whether we have a\n",
       "  specific estimator or a Pipeline/ColumnTransformer */\n",
       "  background-color: var(--sklearn-color-background);\n",
       "}\n",
       "\n",
       "/* Toggleable label */\n",
       "#sk-container-id-3 label.sk-toggleable__label {\n",
       "  cursor: pointer;\n",
       "  display: block;\n",
       "  width: 100%;\n",
       "  margin-bottom: 0;\n",
       "  padding: 0.5em;\n",
       "  box-sizing: border-box;\n",
       "  text-align: center;\n",
       "}\n",
       "\n",
       "#sk-container-id-3 label.sk-toggleable__label-arrow:before {\n",
       "  /* Arrow on the left of the label */\n",
       "  content: \"▸\";\n",
       "  float: left;\n",
       "  margin-right: 0.25em;\n",
       "  color: var(--sklearn-color-icon);\n",
       "}\n",
       "\n",
       "#sk-container-id-3 label.sk-toggleable__label-arrow:hover:before {\n",
       "  color: var(--sklearn-color-text);\n",
       "}\n",
       "\n",
       "/* Toggleable content - dropdown */\n",
       "\n",
       "#sk-container-id-3 div.sk-toggleable__content {\n",
       "  max-height: 0;\n",
       "  max-width: 0;\n",
       "  overflow: hidden;\n",
       "  text-align: left;\n",
       "  /* unfitted */\n",
       "  background-color: var(--sklearn-color-unfitted-level-0);\n",
       "}\n",
       "\n",
       "#sk-container-id-3 div.sk-toggleable__content.fitted {\n",
       "  /* fitted */\n",
       "  background-color: var(--sklearn-color-fitted-level-0);\n",
       "}\n",
       "\n",
       "#sk-container-id-3 div.sk-toggleable__content pre {\n",
       "  margin: 0.2em;\n",
       "  border-radius: 0.25em;\n",
       "  color: var(--sklearn-color-text);\n",
       "  /* unfitted */\n",
       "  background-color: var(--sklearn-color-unfitted-level-0);\n",
       "}\n",
       "\n",
       "#sk-container-id-3 div.sk-toggleable__content.fitted pre {\n",
       "  /* unfitted */\n",
       "  background-color: var(--sklearn-color-fitted-level-0);\n",
       "}\n",
       "\n",
       "#sk-container-id-3 input.sk-toggleable__control:checked~div.sk-toggleable__content {\n",
       "  /* Expand drop-down */\n",
       "  max-height: 200px;\n",
       "  max-width: 100%;\n",
       "  overflow: auto;\n",
       "}\n",
       "\n",
       "#sk-container-id-3 input.sk-toggleable__control:checked~label.sk-toggleable__label-arrow:before {\n",
       "  content: \"▾\";\n",
       "}\n",
       "\n",
       "/* Pipeline/ColumnTransformer-specific style */\n",
       "\n",
       "#sk-container-id-3 div.sk-label input.sk-toggleable__control:checked~label.sk-toggleable__label {\n",
       "  color: var(--sklearn-color-text);\n",
       "  background-color: var(--sklearn-color-unfitted-level-2);\n",
       "}\n",
       "\n",
       "#sk-container-id-3 div.sk-label.fitted input.sk-toggleable__control:checked~label.sk-toggleable__label {\n",
       "  background-color: var(--sklearn-color-fitted-level-2);\n",
       "}\n",
       "\n",
       "/* Estimator-specific style */\n",
       "\n",
       "/* Colorize estimator box */\n",
       "#sk-container-id-3 div.sk-estimator input.sk-toggleable__control:checked~label.sk-toggleable__label {\n",
       "  /* unfitted */\n",
       "  background-color: var(--sklearn-color-unfitted-level-2);\n",
       "}\n",
       "\n",
       "#sk-container-id-3 div.sk-estimator.fitted input.sk-toggleable__control:checked~label.sk-toggleable__label {\n",
       "  /* fitted */\n",
       "  background-color: var(--sklearn-color-fitted-level-2);\n",
       "}\n",
       "\n",
       "#sk-container-id-3 div.sk-label label.sk-toggleable__label,\n",
       "#sk-container-id-3 div.sk-label label {\n",
       "  /* The background is the default theme color */\n",
       "  color: var(--sklearn-color-text-on-default-background);\n",
       "}\n",
       "\n",
       "/* On hover, darken the color of the background */\n",
       "#sk-container-id-3 div.sk-label:hover label.sk-toggleable__label {\n",
       "  color: var(--sklearn-color-text);\n",
       "  background-color: var(--sklearn-color-unfitted-level-2);\n",
       "}\n",
       "\n",
       "/* Label box, darken color on hover, fitted */\n",
       "#sk-container-id-3 div.sk-label.fitted:hover label.sk-toggleable__label.fitted {\n",
       "  color: var(--sklearn-color-text);\n",
       "  background-color: var(--sklearn-color-fitted-level-2);\n",
       "}\n",
       "\n",
       "/* Estimator label */\n",
       "\n",
       "#sk-container-id-3 div.sk-label label {\n",
       "  font-family: monospace;\n",
       "  font-weight: bold;\n",
       "  display: inline-block;\n",
       "  line-height: 1.2em;\n",
       "}\n",
       "\n",
       "#sk-container-id-3 div.sk-label-container {\n",
       "  text-align: center;\n",
       "}\n",
       "\n",
       "/* Estimator-specific */\n",
       "#sk-container-id-3 div.sk-estimator {\n",
       "  font-family: monospace;\n",
       "  border: 1px dotted var(--sklearn-color-border-box);\n",
       "  border-radius: 0.25em;\n",
       "  box-sizing: border-box;\n",
       "  margin-bottom: 0.5em;\n",
       "  /* unfitted */\n",
       "  background-color: var(--sklearn-color-unfitted-level-0);\n",
       "}\n",
       "\n",
       "#sk-container-id-3 div.sk-estimator.fitted {\n",
       "  /* fitted */\n",
       "  background-color: var(--sklearn-color-fitted-level-0);\n",
       "}\n",
       "\n",
       "/* on hover */\n",
       "#sk-container-id-3 div.sk-estimator:hover {\n",
       "  /* unfitted */\n",
       "  background-color: var(--sklearn-color-unfitted-level-2);\n",
       "}\n",
       "\n",
       "#sk-container-id-3 div.sk-estimator.fitted:hover {\n",
       "  /* fitted */\n",
       "  background-color: var(--sklearn-color-fitted-level-2);\n",
       "}\n",
       "\n",
       "/* Specification for estimator info (e.g. \"i\" and \"?\") */\n",
       "\n",
       "/* Common style for \"i\" and \"?\" */\n",
       "\n",
       ".sk-estimator-doc-link,\n",
       "a:link.sk-estimator-doc-link,\n",
       "a:visited.sk-estimator-doc-link {\n",
       "  float: right;\n",
       "  font-size: smaller;\n",
       "  line-height: 1em;\n",
       "  font-family: monospace;\n",
       "  background-color: var(--sklearn-color-background);\n",
       "  border-radius: 1em;\n",
       "  height: 1em;\n",
       "  width: 1em;\n",
       "  text-decoration: none !important;\n",
       "  margin-left: 1ex;\n",
       "  /* unfitted */\n",
       "  border: var(--sklearn-color-unfitted-level-1) 1pt solid;\n",
       "  color: var(--sklearn-color-unfitted-level-1);\n",
       "}\n",
       "\n",
       ".sk-estimator-doc-link.fitted,\n",
       "a:link.sk-estimator-doc-link.fitted,\n",
       "a:visited.sk-estimator-doc-link.fitted {\n",
       "  /* fitted */\n",
       "  border: var(--sklearn-color-fitted-level-1) 1pt solid;\n",
       "  color: var(--sklearn-color-fitted-level-1);\n",
       "}\n",
       "\n",
       "/* On hover */\n",
       "div.sk-estimator:hover .sk-estimator-doc-link:hover,\n",
       ".sk-estimator-doc-link:hover,\n",
       "div.sk-label-container:hover .sk-estimator-doc-link:hover,\n",
       ".sk-estimator-doc-link:hover {\n",
       "  /* unfitted */\n",
       "  background-color: var(--sklearn-color-unfitted-level-3);\n",
       "  color: var(--sklearn-color-background);\n",
       "  text-decoration: none;\n",
       "}\n",
       "\n",
       "div.sk-estimator.fitted:hover .sk-estimator-doc-link.fitted:hover,\n",
       ".sk-estimator-doc-link.fitted:hover,\n",
       "div.sk-label-container:hover .sk-estimator-doc-link.fitted:hover,\n",
       ".sk-estimator-doc-link.fitted:hover {\n",
       "  /* fitted */\n",
       "  background-color: var(--sklearn-color-fitted-level-3);\n",
       "  color: var(--sklearn-color-background);\n",
       "  text-decoration: none;\n",
       "}\n",
       "\n",
       "/* Span, style for the box shown on hovering the info icon */\n",
       ".sk-estimator-doc-link span {\n",
       "  display: none;\n",
       "  z-index: 9999;\n",
       "  position: relative;\n",
       "  font-weight: normal;\n",
       "  right: .2ex;\n",
       "  padding: .5ex;\n",
       "  margin: .5ex;\n",
       "  width: min-content;\n",
       "  min-width: 20ex;\n",
       "  max-width: 50ex;\n",
       "  color: var(--sklearn-color-text);\n",
       "  box-shadow: 2pt 2pt 4pt #999;\n",
       "  /* unfitted */\n",
       "  background: var(--sklearn-color-unfitted-level-0);\n",
       "  border: .5pt solid var(--sklearn-color-unfitted-level-3);\n",
       "}\n",
       "\n",
       ".sk-estimator-doc-link.fitted span {\n",
       "  /* fitted */\n",
       "  background: var(--sklearn-color-fitted-level-0);\n",
       "  border: var(--sklearn-color-fitted-level-3);\n",
       "}\n",
       "\n",
       ".sk-estimator-doc-link:hover span {\n",
       "  display: block;\n",
       "}\n",
       "\n",
       "/* \"?\"-specific style due to the `<a>` HTML tag */\n",
       "\n",
       "#sk-container-id-3 a.estimator_doc_link {\n",
       "  float: right;\n",
       "  font-size: 1rem;\n",
       "  line-height: 1em;\n",
       "  font-family: monospace;\n",
       "  background-color: var(--sklearn-color-background);\n",
       "  border-radius: 1rem;\n",
       "  height: 1rem;\n",
       "  width: 1rem;\n",
       "  text-decoration: none;\n",
       "  /* unfitted */\n",
       "  color: var(--sklearn-color-unfitted-level-1);\n",
       "  border: var(--sklearn-color-unfitted-level-1) 1pt solid;\n",
       "}\n",
       "\n",
       "#sk-container-id-3 a.estimator_doc_link.fitted {\n",
       "  /* fitted */\n",
       "  border: var(--sklearn-color-fitted-level-1) 1pt solid;\n",
       "  color: var(--sklearn-color-fitted-level-1);\n",
       "}\n",
       "\n",
       "/* On hover */\n",
       "#sk-container-id-3 a.estimator_doc_link:hover {\n",
       "  /* unfitted */\n",
       "  background-color: var(--sklearn-color-unfitted-level-3);\n",
       "  color: var(--sklearn-color-background);\n",
       "  text-decoration: none;\n",
       "}\n",
       "\n",
       "#sk-container-id-3 a.estimator_doc_link.fitted:hover {\n",
       "  /* fitted */\n",
       "  background-color: var(--sklearn-color-fitted-level-3);\n",
       "}\n",
       "</style><div id=\"sk-container-id-3\" class=\"sk-top-container\"><div class=\"sk-text-repr-fallback\"><pre>RandomForestClassifier(random_state=42)</pre><b>In a Jupyter environment, please rerun this cell to show the HTML representation or trust the notebook. <br />On GitHub, the HTML representation is unable to render, please try loading this page with nbviewer.org.</b></div><div class=\"sk-container\" hidden><div class=\"sk-item\"><div class=\"sk-estimator fitted sk-toggleable\"><input class=\"sk-toggleable__control sk-hidden--visually\" id=\"sk-estimator-id-3\" type=\"checkbox\" checked><label for=\"sk-estimator-id-3\" class=\"sk-toggleable__label fitted sk-toggleable__label-arrow fitted\">&nbsp;&nbsp;RandomForestClassifier<a class=\"sk-estimator-doc-link fitted\" rel=\"noreferrer\" target=\"_blank\" href=\"https://scikit-learn.org/1.4/modules/generated/sklearn.ensemble.RandomForestClassifier.html\">?<span>Documentation for RandomForestClassifier</span></a><span class=\"sk-estimator-doc-link fitted\">i<span>Fitted</span></span></label><div class=\"sk-toggleable__content fitted\"><pre>RandomForestClassifier(random_state=42)</pre></div> </div></div></div></div>"
      ],
      "text/plain": [
       "RandomForestClassifier(random_state=42)"
      ]
     },
     "execution_count": 119,
     "metadata": {},
     "output_type": "execute_result"
    }
   ],
   "source": [
    "from sklearn.tree import DecisionTreeClassifier\n",
    "from sklearn.ensemble import RandomForestClassifier\n",
    "\n",
    "# Entrainement de plusieurs modèles de classifications\n",
    "tr_clf = DecisionTreeClassifier(random_state=42)\n",
    "tr_clf.fit(X_train, y_train)\n",
    "\n",
    "rf_clf = RandomForestClassifier(random_state=42)\n",
    "rf_clf.fit(X_train, y_train)"
   ]
  },
  {
   "cell_type": "markdown",
   "metadata": {},
   "source": [
    "### Réalisation des prédictions"
   ]
  },
  {
   "cell_type": "code",
   "execution_count": 120,
   "metadata": {},
   "outputs": [],
   "source": [
    "# On sauvegarde les prédictions faites sur le training set pour les modèles\n",
    "y_train_pred_tr = cross_val_predict(tr_clf, X_train, y_train)\n",
    "y_train_pred_rf = cross_val_predict(rf_clf, X_train, y_train)"
   ]
  },
  {
   "cell_type": "markdown",
   "metadata": {},
   "source": [
    "Ici on réalise les prédictions sur le training set car on va chercher à ajuster au mieux nos hyperparamètres dont le seuil de classification (c'est possible grâce à la cross validation). Lorsque l'on sera satisfait du modèle on pourra l'évaluer sur le testing set."
   ]
  },
  {
   "cell_type": "markdown",
   "metadata": {},
   "source": [
    "### Rappel sur les métriques"
   ]
  },
  {
   "cell_type": "markdown",
   "metadata": {},
   "source": [
    "#### Matrice de confusion"
   ]
  },
  {
   "cell_type": "markdown",
   "metadata": {},
   "source": [
    "On peut représenter les prédictions du modèle dans une matrice de confusion, qui permet de mieux comprendre les prédictions faites par le modèle et ses erreurs.\n",
    "\n",
    "Le code ci-dessous propose trois façons de représenter la matrice de confusion, la basique et deux plus élaborées."
   ]
  },
  {
   "cell_type": "code",
   "execution_count": 121,
   "metadata": {},
   "outputs": [
    {
     "data": {
      "text/plain": [
       "array([[3831,  830],\n",
       "       [ 750, 2589]])"
      ]
     },
     "metadata": {},
     "output_type": "display_data"
    },
    {
     "data": {
      "text/html": [
       "<div>\n",
       "<style scoped>\n",
       "    .dataframe tbody tr th:only-of-type {\n",
       "        vertical-align: middle;\n",
       "    }\n",
       "\n",
       "    .dataframe tbody tr th {\n",
       "        vertical-align: top;\n",
       "    }\n",
       "\n",
       "    .dataframe thead th {\n",
       "        text-align: right;\n",
       "    }\n",
       "</style>\n",
       "<table border=\"1\" class=\"dataframe\">\n",
       "  <thead>\n",
       "    <tr style=\"text-align: right;\">\n",
       "      <th></th>\n",
       "      <th>Predicted Cloud (0)</th>\n",
       "      <th>Predicted Plane (1)</th>\n",
       "    </tr>\n",
       "  </thead>\n",
       "  <tbody>\n",
       "    <tr>\n",
       "      <th>Actual Cloud (0)</th>\n",
       "      <td>3831</td>\n",
       "      <td>830</td>\n",
       "    </tr>\n",
       "    <tr>\n",
       "      <th>Actual Plane (1)</th>\n",
       "      <td>750</td>\n",
       "      <td>2589</td>\n",
       "    </tr>\n",
       "  </tbody>\n",
       "</table>\n",
       "</div>"
      ],
      "text/plain": [
       "                  Predicted Cloud (0)  Predicted Plane (1)\n",
       "Actual Cloud (0)                 3831                  830\n",
       "Actual Plane (1)                  750                 2589"
      ]
     },
     "metadata": {},
     "output_type": "display_data"
    },
    {
     "data": {
      "text/plain": [
       "<sklearn.metrics._plot.confusion_matrix.ConfusionMatrixDisplay at 0x7b02b3a0b100>"
      ]
     },
     "execution_count": 121,
     "metadata": {},
     "output_type": "execute_result"
    },
    {
     "data": {
      "image/png": "[encoded data removed]",
      "text/plain": [
       "<Figure size 640x480 with 2 Axes>"
      ]
     },
     "metadata": {},
     "output_type": "display_data"
    }
   ],
   "source": [
    "from sklearn.metrics import ConfusionMatrixDisplay, confusion_matrix\n",
    "\n",
    "# On crée la matrice de confusion en passant les classes et les prédictions du modèle, puis on l'affiche\n",
    "cm = confusion_matrix(y_train, y_train_pred_tr)\n",
    "display(cm)\n",
    "\n",
    "# Affichage avec un DataFrame\n",
    "conf_matrix = pd.DataFrame(cm, index=[\"Actual Cloud (0)\", \"Actual Plane (1)\"], columns=[\"Predicted Cloud (0)\", \"Predicted Plane (1)\"])\n",
    "display(conf_matrix)\n",
    "\n",
    "# Affichage avec un plot\n",
    "graph_cm = ConfusionMatrixDisplay(confusion_matrix=cm, display_labels=[\"Cloud\", \"Plane\"])\n",
    "graph_cm.plot(cmap=\"Blues\")"
   ]
  },
  {
   "cell_type": "markdown",
   "metadata": {},
   "source": [
    "#### Accuracy, recall, precision, F1 score"
   ]
  },
  {
   "cell_type": "markdown",
   "metadata": {},
   "source": [
    "Lorsque l'on souhaite mesurer les performances d'un modèle de classification on dispose de plusieurs métriques : \n",
    "\n",
    "- L'accuracy -> Le nombre total de prédictions correctes parmi toutes les observations\n",
    "- Le recall -> Le nombre prédictions positives correctes parmi toutes les observations positives\n",
    "- La precision -> le nombre de prédictions positives correctes parmi les prédictions positives\n",
    "- Le F1 score -> Une combinaison entre le recall et la precision"
   ]
  },
  {
   "cell_type": "code",
   "execution_count": 122,
   "metadata": {},
   "outputs": [
    {
     "name": "stdout",
     "output_type": "stream",
     "text": [
      "Score de l'accuracy :  0.8025\n",
      "Score du recall :  0.7753818508535489\n",
      "Score de la precision :  0.7572389587598714\n",
      "Score F1 :  0.7662030186445694\n"
     ]
    }
   ],
   "source": [
    "from sklearn.metrics import accuracy_score, f1_score, precision_score, recall_score\n",
    "\n",
    "print(\"Score de l'accuracy : \", accuracy_score(y_train, y_train_pred_tr))\n",
    "print(\"Score du recall : \", recall_score(y_train, y_train_pred_tr))\n",
    "print(\"Score de la precision : \", precision_score(y_train, y_train_pred_tr))\n",
    "print(\"Score F1 : \", f1_score(y_train, y_train_pred_tr))"
   ]
  },
  {
   "cell_type": "markdown",
   "metadata": {},
   "source": [
    "Il existe une fonction dans sklearn qui nous permet d'obtenir ces différentes métriques. Cette fonction  permet également de voir les métriques pour nos deux classes."
   ]
  },
  {
   "cell_type": "code",
   "execution_count": 123,
   "metadata": {},
   "outputs": [
    {
     "name": "stdout",
     "output_type": "stream",
     "text": [
      "              precision    recall  f1-score   support\n",
      "\n",
      "           0       0.84      0.82      0.83      4661\n",
      "           1       0.76      0.78      0.77      3339\n",
      "\n",
      "    accuracy                           0.80      8000\n",
      "   macro avg       0.80      0.80      0.80      8000\n",
      "weighted avg       0.80      0.80      0.80      8000\n",
      "\n"
     ]
    }
   ],
   "source": [
    "from sklearn.metrics import classification_report\n",
    "\n",
    "print(classification_report(y_train, y_train_pred_tr))"
   ]
  },
  {
   "cell_type": "markdown",
   "metadata": {},
   "source": [
    "#### Visualisation de la precision et du recall"
   ]
  },
  {
   "cell_type": "markdown",
   "metadata": {},
   "source": [
    "On peut aussi visualiser sur un graphique l'évolution de la précision et du recall en fonction du seuil. Pour ça on va récupérer les probabilités calculées par le modèle pour chaque observations."
   ]
  },
  {
   "cell_type": "code",
   "execution_count": 124,
   "metadata": {},
   "outputs": [
    {
     "data": {
      "text/plain": [
       "array([[1., 0.],\n",
       "       [0., 1.],\n",
       "       [1., 0.],\n",
       "       ...,\n",
       "       [1., 0.],\n",
       "       [1., 0.],\n",
       "       [1., 0.]])"
      ]
     },
     "metadata": {},
     "output_type": "display_data"
    }
   ],
   "source": [
    "from sklearn.metrics import precision_recall_curve\n",
    "\n",
    "# Au lieu d'obtenir les prédictions, on récupere les scores de probabilités pour chaque observations\n",
    "y_probas_tr = cross_val_predict(tr_clf, X_train, y_train, method=\"predict_proba\")\n",
    "display(y_probas_tr)\n",
    "\n",
    "# On récupere uniquement les probabilités pour la classe positive\n",
    "y_scores_tr = y_probas_tr[:, 1]\n",
    "\n",
    "# A partir des probabilités on calcule les combinaisons de scores pour recall et precision en fonction du seuil\n",
    "precisions_tr, recalls_tr, thresholds_tr = precision_recall_curve(y_train, y_scores_tr)"
   ]
  },
  {
   "cell_type": "markdown",
   "metadata": {},
   "source": [
    "La fonction `cross_val_predict` peut être utilisé avec le paramètre `method=`, afin d'obtenir les scores de probabilités pour chaque classe ou alors les scores de la fonction décision."
   ]
  },
  {
   "cell_type": "code",
   "execution_count": 125,
   "metadata": {},
   "outputs": [
    {
     "data": {
      "image/png": "[encoded data removed]",
      "text/plain": [
       "<Figure size 640x480 with 1 Axes>"
      ]
     },
     "metadata": {},
     "output_type": "display_data"
    }
   ],
   "source": [
    "plt.plot(thresholds_tr, precisions_tr[:-1], \"b--\", label=\"Precision\")\n",
    "plt.plot(thresholds_tr, recalls_tr[:-1], \"g--\", label=\"Recall\")\n",
    "plt.title(\"Evolution du score precision/recall en fonction du seuil\")\n",
    "plt.xlabel(\"Seuil\")\n",
    "plt.ylabel(\"Score\")\n",
    "plt.legend()\n",
    "plt.show()"
   ]
  },
  {
   "cell_type": "markdown",
   "metadata": {},
   "source": [
    "### Courbe precision/recall et AUC associée"
   ]
  },
  {
   "cell_type": "markdown",
   "metadata": {},
   "source": [
    "On peut également représenter l'évolution de la precision en fonction du recall et calculer l'aire sous la courbe."
   ]
  },
  {
   "cell_type": "code",
   "execution_count": 126,
   "metadata": {},
   "outputs": [
    {
     "data": {
      "image/png": "[encoded data removed]",
      "text/plain": [
       "<Figure size 640x480 with 1 Axes>"
      ]
     },
     "metadata": {},
     "output_type": "display_data"
    },
    {
     "data": {
      "text/plain": [
       "0.6808993453816433"
      ]
     },
     "metadata": {},
     "output_type": "display_data"
    }
   ],
   "source": [
    "from sklearn.metrics import average_precision_score\n",
    "\n",
    "plt.plot(recalls_tr[:-1], precisions_tr[:-1])\n",
    "\n",
    "plt.title(\"Evolution de la precision en fonction du recall\")\n",
    "plt.xlabel(\"Recall\")\n",
    "plt.ylabel(\"Precision\")\n",
    "plt.grid()\n",
    "plt.show()\n",
    "\n",
    "auc_pr = average_precision_score(y_train, y_scores_tr)\n",
    "display(auc_pr)"
   ]
  },
  {
   "cell_type": "markdown",
   "metadata": {},
   "source": [
    "Lorsque l'on augmente le recall, on diminue la precision. \n",
    "\n",
    "Lorsque l'on a un problème de classification pour lequel on ne s'intéresse pas au type d'erreur, alors on va chercher à trouver un équilibre entre les deux. \n",
    "En revanche lorsqu'un type d'erreur à une importance plus grande qu'un autre type d'erreur, alors on va chercher à maximiser soit le recall, soit la precision.\n",
    "\n",
    "Dans notre exemple de détection d'avion, on va chercher à maximiser le nombre de prédictions positives correctes, les vrai positifs (ou minimiser le nombre de prédictions négatives incorrectes, les faux négatifs). On ne souhaite pas que le modèle prédise un nuage alors que c'est en réalité un avion. On va chercher à maximiser le recall.\n",
    "\n",
    "Dans le cas ou on cherche à minimiser le nombre de prédictions positifs incorrectes, les faux positifs, alors on va chercher à maximiser la precision.\n",
    "\n",
    "maximiser le recall -> diminuer le nombre de faux négatifs\n",
    "\n",
    "maximiser la precision -> diminuer le nombre de faux positifs"
   ]
  },
  {
   "cell_type": "markdown",
   "metadata": {},
   "source": [
    "### Choix d'un seuil suivant un score de métrique"
   ]
  },
  {
   "cell_type": "markdown",
   "metadata": {},
   "source": [
    "Lorsque l'on cherche à optimiser une métrique plutôt qu'une autre on va vouloir diminuer ou augmenter notre seuil.\n",
    "Dans le cas ou on souhaite augmenter la precision, on augmente le seuil.\n",
    "Dans le cas ou on souhaite augmenter le recall, on diminue le seuil."
   ]
  },
  {
   "cell_type": "markdown",
   "metadata": {},
   "source": [
    "Voici le code si on souhaite obtenir un score de recall de 0,9."
   ]
  },
  {
   "cell_type": "code",
   "execution_count": 127,
   "metadata": {},
   "outputs": [
    {
     "name": "stdout",
     "output_type": "stream",
     "text": [
      "Seuil pour obtenir un recall de 90% :  1.0\n",
      "score du recall 0.7753818508535489\n",
      "score de precision 0.7572389587598714\n"
     ]
    }
   ],
   "source": [
    "# On cherche dans recalls l'index de la première valeur inférieur à 0.91\n",
    "index_90_recall_tr = np.argmax(recalls_tr <= 0.91)\n",
    "\n",
    "# On récupère le seuil associé à l'index \n",
    "treshold_90_recall_tr = thresholds_tr[index_90_recall_tr]\n",
    "\n",
    "print(\"Seuil pour obtenir un recall de 90% : \", treshold_90_recall_tr)\n",
    "\n",
    "# On crée de nouvelle prédictions ou la classe sera positive si son score est supérieur au seuil permettant d'avoir un recall de 0.9\n",
    "y_train_pred_90_tr = (y_scores_tr >= treshold_90_recall_tr)\n",
    "\n",
    "print(\"score du recall\", recall_score(y_train, y_train_pred_90_tr))\n",
    "print(\"score de precision\", precision_score(y_train, y_train_pred_90_tr))"
   ]
  },
  {
   "cell_type": "markdown",
   "metadata": {},
   "source": [
    "Dans ce cas précis on obtient le même résultat qu'auparavant pour le recall. C'est du à l'utilisation de d'un decision tree, si on print recalls ou thresold, on se rend compte qu'il n'y a que 3 valeurs. \n",
    "\n",
    "Ici on utilise `recalls_tr <= 0.91` car les valeurs pour recalls sont dans un ordre décroissant. Si on recherche un score de precision supérieur à 0.9 alors il faut utiliser `precisions_tr >= 0.9` car les valeurs pour precisions sont dans un ordre croissant."
   ]
  },
  {
   "cell_type": "markdown",
   "metadata": {},
   "source": [
    "On va maintenant essayer d'obtenir un score de recall choisi pour le modèle Random Forest. On vérifie d'abord son score de recall."
   ]
  },
  {
   "cell_type": "code",
   "execution_count": 128,
   "metadata": {},
   "outputs": [
    {
     "name": "stdout",
     "output_type": "stream",
     "text": [
      "              precision    recall  f1-score   support\n",
      "\n",
      "           0       0.89      0.93      0.91      4661\n",
      "           1       0.89      0.84      0.86      3339\n",
      "\n",
      "    accuracy                           0.89      8000\n",
      "   macro avg       0.89      0.88      0.89      8000\n",
      "weighted avg       0.89      0.89      0.89      8000\n",
      "\n"
     ]
    }
   ],
   "source": [
    "print(classification_report(y_train, y_train_pred_rf))"
   ]
  },
  {
   "cell_type": "markdown",
   "metadata": {},
   "source": [
    "On voit que le recall pour la classe 1 est à 0.84, on va rechercher le seuil pour atteindre 0.9."
   ]
  },
  {
   "cell_type": "code",
   "execution_count": 129,
   "metadata": {},
   "outputs": [
    {
     "name": "stdout",
     "output_type": "stream",
     "text": [
      "Seuil pour obtenir un recall de 90% 0.18\n",
      "              precision    recall  f1-score   support\n",
      "\n",
      "           0       0.92      0.71      0.80      4661\n",
      "           1       0.69      0.91      0.78      3339\n",
      "\n",
      "    accuracy                           0.79      8000\n",
      "   macro avg       0.80      0.81      0.79      8000\n",
      "weighted avg       0.82      0.79      0.79      8000\n",
      "\n"
     ]
    }
   ],
   "source": [
    "# On récupere les probabilités pour chaque observations\n",
    "y_probas_rf = cross_val_predict(rf_clf, X_train, y_train, method=\"predict_proba\")\n",
    "y_scores_rf = y_probas_rf[:, 1]\n",
    "\n",
    "# On calcule la precision, recall et seuil en fonction des proba pour la classe 1\n",
    "precisions_rf, recalls_rf, thresholds_rf = precision_recall_curve(y_train, y_scores_rf)\n",
    "\n",
    "# On cherche dans recalls l'index de la première valeur inférieur à 0.91\n",
    "index_90_recall_rf = np.argmax(recalls_rf <= 0.91)\n",
    "\n",
    "# On récupère le seuil associé à l'index \n",
    "treshold_90_recall_rf = thresholds_rf[index_90_recall_rf]\n",
    "\n",
    "print(\"Seuil pour obtenir un recall de 90%\", treshold_90_recall_rf)\n",
    "\n",
    "# On crée de nouvelle prédictions ou la classe sera positive si son score est supérieur au seuil permettant d'avoir un recall de 0.9\n",
    "y_train_pred_90_rf = (y_scores_rf >= treshold_90_recall_rf)\n",
    "\n",
    "print(classification_report(y_train, y_train_pred_90_rf))"
   ]
  },
  {
   "cell_type": "markdown",
   "metadata": {},
   "source": [
    "Si on compare ces métriques avec les précédentes, on se rend compte que pour ces nouvelles prédictions, notre recall est bien à 0.9 mais que l'on a fait baisser la precision pour la classe 1 et donc le recall pour la classe 0. L'accuracy est elle passée de 0.89 à 0.79. \n",
    "\n",
    "Si on reprend notre exemple de détection d'avions, on préfére avoir un meilleur score de recall pour la classe avion, et un score de recall moins bon pour la classe nuage."
   ]
  },
  {
   "cell_type": "markdown",
   "metadata": {},
   "source": [
    "### Application du seuil pour prédiction sur le test"
   ]
  },
  {
   "cell_type": "markdown",
   "metadata": {},
   "source": [
    "On va réutiliser le seuil qui permet d'avoir un recall de 0.9 pour les prédictions sur le testing set et comparer les résultats aux prédictions sans utilisation du seuil."
   ]
  },
  {
   "cell_type": "code",
   "execution_count": 130,
   "metadata": {},
   "outputs": [
    {
     "name": "stdout",
     "output_type": "stream",
     "text": [
      "Métriques sur les prédictions de base pour le modèle Random Forest\n",
      "\n",
      "              precision    recall  f1-score   support\n",
      "\n",
      "           0       0.89      0.93      0.91      1165\n",
      "           1       0.89      0.83      0.86       835\n",
      "\n",
      "    accuracy                           0.89      2000\n",
      "   macro avg       0.89      0.88      0.88      2000\n",
      "weighted avg       0.89      0.89      0.89      2000\n",
      "\n",
      "Métriques sur les prédictions modifiées pour le modèle Random Forest\n",
      "\n",
      "              precision    recall  f1-score   support\n",
      "\n",
      "           0       0.92      0.73      0.81      1165\n",
      "           1       0.70      0.91      0.79       835\n",
      "\n",
      "    accuracy                           0.80      2000\n",
      "   macro avg       0.81      0.82      0.80      2000\n",
      "weighted avg       0.83      0.80      0.80      2000\n",
      "\n"
     ]
    }
   ],
   "source": [
    "# On récupere les prédictions sur le test set\n",
    "test_predict_rf = rf_clf.predict(X_test)\n",
    "\n",
    "print(\"Métriques sur les prédictions de base pour le modèle Random Forest\")\n",
    "print(\"\")\n",
    "print(classification_report(y_test, test_predict_rf))\n",
    "\n",
    "# On récupere les probas sur le test set\n",
    "test_probas_rf = rf_clf.predict_proba(X_test)\n",
    "test_scores_rf = test_probas_rf[:, 1]\n",
    "\n",
    "# A partir des probas on crée de nouvelles prédictions en utilisant le seuil pour obtenir un recall de 0.9\n",
    "test_predict_90_rf = (test_scores_rf >= treshold_90_recall_rf)\n",
    "\n",
    "print(\"Métriques sur les prédictions modifiées pour le modèle Random Forest\")\n",
    "print(\"\")\n",
    "print(classification_report(y_test, test_predict_90_rf))"
   ]
  },
  {
   "cell_type": "markdown",
   "metadata": {},
   "source": [
    "On peut donc utiliser un seuil identifié pendant l'entrainement du modèle afin de modifier les prédictions réaliser par ce modèle sur de nouvelles observations."
   ]
  },
  {
   "cell_type": "markdown",
   "metadata": {},
   "source": [
    "### Courbe ROC "
   ]
  },
  {
   "cell_type": "markdown",
   "metadata": {},
   "source": [
    "On va maintenant représenter la courbe ROC. Pour rappel la courbe ROC est obtenue en variant le seuil donnant différentes valeurs de scores pour le TPR (taux de vrai positif, le recall) et le FPR (taux de faux positif)."
   ]
  },
  {
   "cell_type": "code",
   "execution_count": 131,
   "metadata": {},
   "outputs": [],
   "source": [
    "from sklearn.metrics import roc_curve\n",
    "\n",
    "# La fonction roc_curve retourne le FPR, TPR et les seuils \n",
    "fpr_tr, tpr_tr, tresholds_tr = roc_curve(y_train, y_scores_tr)"
   ]
  },
  {
   "cell_type": "code",
   "execution_count": 132,
   "metadata": {},
   "outputs": [],
   "source": [
    "# Fonction pour représenter la courbe ROC\n",
    "def plot_roc_curve(fpr, tpr, label=None):\n",
    "\n",
    "    plt.plot(fpr, tpr, linewidth=2, label=label)\n",
    "    plt.plot([0, 1], [0, 1], \"k--\")\n",
    "    plt.title(\"Courbe ROC\")\n",
    "    plt.xlabel(\"Taux de Faux Positif\")\n",
    "    plt.ylabel(\"Taux de Vrai Positif\")\n",
    "    plt.grid()"
   ]
  },
  {
   "cell_type": "code",
   "execution_count": 133,
   "metadata": {},
   "outputs": [
    {
     "data": {
      "image/png": "[encoded data removed]",
      "text/plain": [
       "<Figure size 640x480 with 1 Axes>"
      ]
     },
     "metadata": {},
     "output_type": "display_data"
    }
   ],
   "source": [
    "plot_roc_curve(fpr_tr, tpr_tr)\n",
    "plt.show()"
   ]
  },
  {
   "cell_type": "markdown",
   "metadata": {},
   "source": [
    "La courbe ROC pour le modèle Decision Tree est bien au-dessus de la courbe du random classifier. Le modèle est performant pour notre problème de classification."
   ]
  },
  {
   "cell_type": "markdown",
   "metadata": {},
   "source": [
    "### AUC"
   ]
  },
  {
   "cell_type": "markdown",
   "metadata": {},
   "source": [
    "On peut calculer l'aire sous la courbe ROC."
   ]
  },
  {
   "cell_type": "code",
   "execution_count": 134,
   "metadata": {},
   "outputs": [
    {
     "data": {
      "text/plain": [
       "0.7986542380206384"
      ]
     },
     "metadata": {},
     "output_type": "display_data"
    }
   ],
   "source": [
    "from sklearn.metrics import roc_auc_score\n",
    "\n",
    "display(roc_auc_score(y_train, y_scores_tr))"
   ]
  },
  {
   "cell_type": "markdown",
   "metadata": {},
   "source": [
    "Pour le modèle Decision Tree on a donc une AUC de 0,798."
   ]
  },
  {
   "cell_type": "markdown",
   "metadata": {},
   "source": [
    "### Comparaison de modèle avec ROC et AUC"
   ]
  },
  {
   "cell_type": "markdown",
   "metadata": {},
   "source": [
    "L'intérêt de la courbe ROC et de l'AUC est de pouvoir comparer les performances de plusieurs modèles entre eux. \n",
    "Ici on va reprendre le modèle utilisé et le comparer avec un le modèle random forest."
   ]
  },
  {
   "cell_type": "code",
   "execution_count": 135,
   "metadata": {},
   "outputs": [
    {
     "data": {
      "image/png": "[encoded data removed]",
      "text/plain": [
       "<Figure size 640x480 with 1 Axes>"
      ]
     },
     "metadata": {},
     "output_type": "display_data"
    },
    {
     "name": "stdout",
     "output_type": "stream",
     "text": [
      "AUC modèle SGD 0.7986542380206384\n",
      "AUC modèle Random Forest 0.9097498316367861\n"
     ]
    }
   ],
   "source": [
    "# On récupere les scores pour le modèle random forest\n",
    "y_probas_rf = cross_val_predict(rf_clf, X_train, y_train, method=\"predict_proba\")\n",
    "y_scores_rf = y_probas_rf[:, 1]\n",
    "\n",
    "# On calcule le TPR et FPR pour le modèle random forest\n",
    "fpr_rf, tpr_rf, thresholds_rf = roc_curve(y_train, y_scores_rf)\n",
    "\n",
    "# On représente graphiquement les deux modèles\n",
    "plt.plot(fpr_tr, tpr_tr, \"b:\", label=\"SGD\")\n",
    "plot_roc_curve(fpr_rf, tpr_rf, \"Random Forest\")\n",
    "plt.legend(loc=\"lower right\")\n",
    "plt.show()\n",
    "\n",
    "print(\"AUC modèle SGD\", roc_auc_score(y_train, y_scores_tr))\n",
    "print(\"AUC modèle Random Forest\", roc_auc_score(y_train, y_scores_rf))"
   ]
  },
  {
   "cell_type": "markdown",
   "metadata": {},
   "source": [
    "On se rend compte ici que le modèle Random Forest est plus performant que le modèle Decision Tree. La courbe ROC pour le modèle Random Forest est toujours au-dessus de celle du Decision Tree. C'est confirmé par l'AUC avec un écart de 0.1 entre les deux modèles."
   ]
  }
 ],
 "metadata": {
  "kernelspec": {
   "display_name": ".venv",
   "language": "python",
   "name": "python3"
  },
  "language_info": {
   "codemirror_mode": {
    "name": "ipython",
    "version": 3
   },
   "file_extension": ".py",
   "mimetype": "text/x-python",
   "name": "python",
   "nbconvert_exporter": "python",
   "pygments_lexer": "ipython3",
   "version": "3.9.2"
  }
 },
 "nbformat": 4,
 "nbformat_minor": 2
}
