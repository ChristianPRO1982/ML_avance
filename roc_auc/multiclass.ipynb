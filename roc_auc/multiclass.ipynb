{
 "cells": [
  {
   "cell_type": "markdown",
   "metadata": {},
   "source": [
    "# La classification multiple"
   ]
  },
  {
   "cell_type": "markdown",
   "metadata": {},
   "source": [
    "## Introduction"
   ]
  },
  {
   "cell_type": "markdown",
   "metadata": {},
   "source": [
    "Dans le cadre d'un problème de classification, on peut avoir différent cas pour la target :\n",
    "\n",
    "- un problème ou il n'y a que deux classes / deux choix possibles pour la prédiction -> problème de classification binaire\n",
    "- un problème ou il y a plus de deux classes / deux choix possibles pour la prédiction -> problème de classification à multiple classes\n",
    "\n",
    "On va s'intéresser au second cas et les changements que ça implique concernant les métriques."
   ]
  },
  {
   "cell_type": "markdown",
   "metadata": {},
   "source": [
    "## Partie théorique"
   ]
  },
  {
   "cell_type": "markdown",
   "metadata": {},
   "source": [
    "Lorsque l'on travaille sur un problème de classification multi-classes on peut se retrouver dans le même cas que pour un problème de classification binaire. Soit les classes ont une importance équivalente et l'on cherche à créer un modèle performant sur chacune d'entre elles, soit on cherche à détecter une classe en particulier.\n",
    "\n",
    "Dans les deux cas il est intéressant de représenter la matrice de confusion pour mieux comprendre le modèle et ses prédictions :\n",
    "- Sur quelle classe est-il le meilleur ? \n",
    "- Sur quelle classe est-il le plus mauvais ? \n",
    "- A t'il du mal à faire la distinction entre deux classes sur les n classes ? "
   ]
  },
  {
   "cell_type": "markdown",
   "metadata": {},
   "source": [
    "<img src=\"imgs/multiclass.png\">"
   ]
  },
  {
   "cell_type": "markdown",
   "metadata": {},
   "source": [
    "Dans cette exemple, ou l'objectif est de détecter un animal sur une image, on se rend compte que le modèle est mauvais pour détecter un tigre. On remarque aussi qu'il a du mal à distinguer le loup et le chien lorsqu'il est confornté à une observation de loup."
   ]
  },
  {
   "cell_type": "markdown",
   "metadata": {},
   "source": [
    "En ce qui concerne les métriques il y a deux méthodes de les obtenir, on va prendre comme exemple un problème à trois classes, A, B et C :\n",
    "- One versus All, chaque classe est comparé avec les autres classes réunies (A vs BC, B vs AC, C vs AB)\n",
    "- One versus One, chaque classe est comparé avec chaque classe (A vs B, A vs C, B vs C), puis on fait la moyenne des résultats pour chaque classe (AB et AC, BA et BC, CA et CB)"
   ]
  },
  {
   "cell_type": "markdown",
   "metadata": {},
   "source": [
    "Il existe différents types de scores F1 pour les problèmes multi-classes :\n",
    "- **macro average** -> on réalise la moyenne des différents scores F1, on ne tient pas compte des proportions des différentes classes\n",
    "- **weighted average** -> on réalise la moyenne des différents scores F1 en appliquant un coefficient à chaque classe qui est égale à sa proportion au sein du dataset, on tient compte des proportions des différentes classes\n",
    "- **micro average** ->cette moyenne correspond en réalité à l’accuracy, le nombre de prédictions correctes parmi toutes les observations"
   ]
  },
  {
   "cell_type": "markdown",
   "metadata": {},
   "source": [
    "En fonction du problème on va vouloir privilégier un score F1 plutôt qu'un autre :\n",
    "- Dans un jeu de données déséquilibré ou toutes les classes ont la même importances → macro average\n",
    "- Dans un jeu de données déséquilibré ou on souhaite attribuer plus d’importance à la classe avec la plus forte proportion → weighted average\n",
    "- Dans le cas d’un jeu de données équilibré et qu’on s’intéresse aux performances globales peut importe la classe → micro average / accuracy"
   ]
  },
  {
   "cell_type": "markdown",
   "metadata": {},
   "source": [
    "Scikit-learn peut gèrer automatiquement la classification à classes mutliples, en réalisant l'une des deux méthodes pour comparer les classes entre elles."
   ]
  }
 ],
 "metadata": {
  "kernelspec": {
   "display_name": "ml",
   "language": "python",
   "name": "python3"
  },
  "language_info": {
   "name": "python",
   "version": "3.9.2"
  }
 },
 "nbformat": 4,
 "nbformat_minor": 2
}
