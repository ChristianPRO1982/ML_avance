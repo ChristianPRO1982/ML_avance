{
 "cells": [
  {
   "cell_type": "markdown",
   "metadata": {},
   "source": [
    "# La classification multiple"
   ]
  },
  {
   "cell_type": "markdown",
   "metadata": {},
   "source": [
    "## Introduction"
   ]
  },
  {
   "cell_type": "markdown",
   "metadata": {},
   "source": [
    "Dans le cadre d'un problème de classification, on peut avoir différent cas pour la target :\n",
    "\n",
    "- un problème ou il n'y a que deux classes / deux choix possibles pour la prédiction -> problème de classification binaire\n",
    "- un problème ou il y a plus de deux classes / deux choix possibles pour la prédiction -> problème de classification à multiple classes\n",
    "\n",
    "On va s'intéresser ici au second cas."
   ]
  },
  {
   "cell_type": "markdown",
   "metadata": {},
   "source": [
    "## Partie théorique"
   ]
  },
  {
   "cell_type": "markdown",
   "metadata": {},
   "source": []
  },
  {
   "cell_type": "markdown",
   "metadata": {},
   "source": [
    "Scikit-learn peut gèrer automatiquement la classification à classes mutliples, en réalisant l'une des deux méthodes pour comparer les classes entre elles."
   ]
  }
 ],
 "metadata": {
  "kernelspec": {
   "display_name": "ml",
   "language": "python",
   "name": "python3"
  },
  "language_info": {
   "name": "python",
   "version": "3.9.2"
  }
 },
 "nbformat": 4,
 "nbformat_minor": 2
}
