{
 "cells": [
  {
   "cell_type": "markdown",
   "metadata": {},
   "source": [
    "# La classification multiple"
   ]
  },
  {
   "cell_type": "markdown",
   "metadata": {},
   "source": [
    "## Introduction"
   ]
  },
  {
   "cell_type": "markdown",
   "metadata": {},
   "source": [
    "Dans le cadre d'un problème de classification, on peut avoir différent cas pour la target :\n",
    "\n",
    "- un problème ou il n'y a que deux classes / deux choix possibles pour la prédiction -> problème de classification binaire\n",
    "- un problème ou il y a plus de deux classes / deux choix possibles pour la prédiction -> problème de classification à multiple classes\n",
    "\n",
    "On va s'intéresser au second cas et les changements que ça implique concernant les métriques."
   ]
  },
  {
   "cell_type": "markdown",
   "metadata": {},
   "source": [
    "## Partie théorique"
   ]
  },
  {
   "cell_type": "markdown",
   "metadata": {},
   "source": [
    "Lorsque l'on travaille sur un problème de classification multi-classes on peut se retrouver dans le même cas que pour un problème de classification binaire. Soit les classes ont une importance équivalente et l'on cherche à créer un modèle performant sur chacune d'entre elles, soit on cherche à détecter une classe en particulier.\n",
    "\n",
    "Dans les deux cas il est intéressant de représenter la matrice de confusion pour mieux comprendre le modèle et ses prédictions :\n",
    "- Sur quelle classe est-il le meilleur ? \n",
    "- Sur quelle classe est-il le plus mauvais ? \n",
    "- A t'il du mal à faire la distinction entre deux classes sur les n classes ? "
   ]
  },
  {
   "cell_type": "markdown",
   "metadata": {},
   "source": [
    "<img src=\"imgs/multiclass.png\">"
   ]
  },
  {
   "cell_type": "markdown",
   "metadata": {},
   "source": [
    "Dans cette exemple, ou l'objectif est de détecter un animal sur une image, on se rend compte que le modèle est mauvais pour détecter un tigre. On remarque aussi qu'il a du mal à distinguer le loup et le chien lorsqu'il est confronté à une observation de loup."
   ]
  },
  {
   "cell_type": "markdown",
   "metadata": {},
   "source": [
    "#### Prédiction pour le multi-classe"
   ]
  },
  {
   "cell_type": "markdown",
   "metadata": {},
   "source": [
    "Pour effectuer ces prédictions, le modèle peut utiliser deux techniques différentes. Prenons l'exemple d'un problème à trois classes, A, B et C :\n",
    "\n",
    "- One versus All, chaque classe est comparé avec les autres classes réunies (A vs BC, B vs AC, C vs AB)\n",
    "- One versus One, chaque classe est comparé avec chaque classe (A vs B, A vs C, B vs C)"
   ]
  },
  {
   "cell_type": "markdown",
   "metadata": {},
   "source": [
    "Scikit-learn peut gèrer automatiquement la classification à classes mutliples, en réalisant l'une des deux méthodes pour comparer les classes entre elles."
   ]
  },
  {
   "cell_type": "markdown",
   "metadata": {},
   "source": [
    "#### Métriques pour le multi-classe"
   ]
  },
  {
   "cell_type": "markdown",
   "metadata": {},
   "source": [
    "Il existe différents types de scores F1 pour les problèmes multi-classes :\n",
    "- **macro average** -> on réalise la moyenne des différents scores F1, on ne tient pas compte des proportions des différentes classes\n",
    "- **weighted average** -> on réalise la moyenne des différents scores F1 en appliquant un coefficient à chaque classe qui est égale à sa proportion au sein du dataset, on tient compte des proportions des différentes classes\n",
    "- **micro average** ->cette moyenne correspond en réalité à l’accuracy, le nombre de prédictions correctes parmi toutes les observations"
   ]
  },
  {
   "cell_type": "markdown",
   "metadata": {},
   "source": [
    "En fonction du problème on va vouloir privilégier un score F1 plutôt qu'un autre :\n",
    "- Dans un jeu de données déséquilibré ou toutes les classes ont la même importances → macro average\n",
    "- Dans un jeu de données déséquilibré ou on souhaite attribuer plus d’importance à la classe avec la plus forte proportion → weighted average\n",
    "- Dans le cas d’un jeu de données équilibré et qu’on s’intéresse aux performances globales peut importe la classe → micro average / accuracy"
   ]
  },
  {
   "cell_type": "markdown",
   "metadata": {},
   "source": [
    "## Partie pratique"
   ]
  },
  {
   "cell_type": "markdown",
   "metadata": {},
   "source": [
    "### Création d'un jeu de données pour la classification"
   ]
  },
  {
   "cell_type": "code",
   "execution_count": 10,
   "metadata": {},
   "outputs": [],
   "source": [
    "# Importation des librairies\n",
    "\n",
    "import matplotlib.pyplot as plt\n",
    "import numpy as np\n",
    "import pandas as pd\n",
    "\n",
    "from sklearn.datasets import make_classification\n",
    "from sklearn.model_selection import train_test_split, cross_val_predict"
   ]
  },
  {
   "cell_type": "code",
   "execution_count": 11,
   "metadata": {},
   "outputs": [],
   "source": [
    "# Création d'un jeu de données avec trois classes à prédire\n",
    "\n",
    "X, y = make_classification(n_samples=10000, n_features=10, n_informative=3, n_classes=3, weights= [0.4, 0.4, 0.2], flip_y=0.5, random_state=42)"
   ]
  },
  {
   "cell_type": "markdown",
   "metadata": {},
   "source": [
    "### Entrainement du modèle"
   ]
  },
  {
   "cell_type": "code",
   "execution_count": 12,
   "metadata": {},
   "outputs": [],
   "source": [
    "# Création des train et test set\n",
    "\n",
    "X_train, X_test, y_train, y_test = train_test_split(X, y, shuffle=True, train_size=0.8, random_state=42, stratify=y)"
   ]
  },
  {
   "cell_type": "code",
   "execution_count": 13,
   "metadata": {},
   "outputs": [],
   "source": [
    "from sklearn.ensemble import RandomForestClassifier\n",
    "\n",
    "rf_clf = RandomForestClassifier(random_state=42)\n",
    "rf_clf.fit(X_train, y_train)\n",
    "\n",
    "y_train_pred_rf = cross_val_predict(rf_clf, X_train, y_train)"
   ]
  },
  {
   "cell_type": "markdown",
   "metadata": {},
   "source": [
    "### Matrice de confusion et métriques"
   ]
  },
  {
   "cell_type": "code",
   "execution_count": 14,
   "metadata": {},
   "outputs": [
    {
     "data": {
      "text/html": [
       "<div>\n",
       "<style scoped>\n",
       "    .dataframe tbody tr th:only-of-type {\n",
       "        vertical-align: middle;\n",
       "    }\n",
       "\n",
       "    .dataframe tbody tr th {\n",
       "        vertical-align: top;\n",
       "    }\n",
       "\n",
       "    .dataframe thead th {\n",
       "        text-align: right;\n",
       "    }\n",
       "</style>\n",
       "<table border=\"1\" class=\"dataframe\">\n",
       "  <thead>\n",
       "    <tr style=\"text-align: right;\">\n",
       "      <th></th>\n",
       "      <th>Predicted 0</th>\n",
       "      <th>Predicted 1</th>\n",
       "      <th>Predicted 2</th>\n",
       "    </tr>\n",
       "  </thead>\n",
       "  <tbody>\n",
       "    <tr>\n",
       "      <th>Actual 0</th>\n",
       "      <td>2069</td>\n",
       "      <td>572</td>\n",
       "      <td>297</td>\n",
       "    </tr>\n",
       "    <tr>\n",
       "      <th>Actual 1</th>\n",
       "      <td>631</td>\n",
       "      <td>1948</td>\n",
       "      <td>331</td>\n",
       "    </tr>\n",
       "    <tr>\n",
       "      <th>Actual 2</th>\n",
       "      <td>603</td>\n",
       "      <td>639</td>\n",
       "      <td>910</td>\n",
       "    </tr>\n",
       "  </tbody>\n",
       "</table>\n",
       "</div>"
      ],
      "text/plain": [
       "          Predicted 0  Predicted 1  Predicted 2\n",
       "Actual 0         2069          572          297\n",
       "Actual 1          631         1948          331\n",
       "Actual 2          603          639          910"
      ]
     },
     "metadata": {},
     "output_type": "display_data"
    },
    {
     "data": {
      "text/plain": [
       "<sklearn.metrics._plot.confusion_matrix.ConfusionMatrixDisplay at 0x7fdbad0d2aa0>"
      ]
     },
     "execution_count": 14,
     "metadata": {},
     "output_type": "execute_result"
    },
    {
     "data": {
      "image/png": "[encoded data removed]",
      "text/plain": [
       "<Figure size 640x480 with 2 Axes>"
      ]
     },
     "metadata": {},
     "output_type": "display_data"
    }
   ],
   "source": [
    "from sklearn.metrics import classification_report, ConfusionMatrixDisplay, confusion_matrix\n",
    "\n",
    "cm = confusion_matrix(y_train, y_train_pred_rf)\n",
    "\n",
    "conf_matrix = pd.DataFrame(cm, index=[\"Actual 0\", \"Actual 1\", \"Actual 2\"], columns=[\"Predicted 0\", \"Predicted 1\", \"Predicted 2\"])\n",
    "display(conf_matrix)\n",
    "\n",
    "graph_cm = ConfusionMatrixDisplay(confusion_matrix=cm, display_labels=rf_clf.classes_)\n",
    "graph_cm.plot(cmap=\"Blues\")"
   ]
  },
  {
   "cell_type": "code",
   "execution_count": 15,
   "metadata": {},
   "outputs": [
    {
     "name": "stdout",
     "output_type": "stream",
     "text": [
      "              precision    recall  f1-score   support\n",
      "\n",
      "           0       0.63      0.70      0.66      2938\n",
      "           1       0.62      0.67      0.64      2910\n",
      "           2       0.59      0.42      0.49      2152\n",
      "\n",
      "    accuracy                           0.62      8000\n",
      "   macro avg       0.61      0.60      0.60      8000\n",
      "weighted avg       0.61      0.62      0.61      8000\n",
      "\n"
     ]
    }
   ],
   "source": [
    "print(classification_report(y_train, y_train_pred_rf))"
   ]
  }
 ],
 "metadata": {
  "kernelspec": {
   "display_name": "ml",
   "language": "python",
   "name": "python3"
  },
  "language_info": {
   "codemirror_mode": {
    "name": "ipython",
    "version": 3
   },
   "file_extension": ".py",
   "mimetype": "text/x-python",
   "name": "python",
   "nbconvert_exporter": "python",
   "pygments_lexer": "ipython3",
   "version": "3.10.12"
  }
 },
 "nbformat": 4,
 "nbformat_minor": 2
}
