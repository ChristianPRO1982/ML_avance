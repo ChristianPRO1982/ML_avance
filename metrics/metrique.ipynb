{
 "cells": [
  {
   "cell_type": "markdown",
   "metadata": {},
   "source": [
    "# PARTIE THÉORIQUE "
   ]
  },
  {
   "cell_type": "markdown",
   "metadata": {},
   "source": [
    "## Introduction"
   ]
  },
  {
   "cell_type": "markdown",
   "metadata": {},
   "source": [
    "Le développement d’un modèle de Machine Learning repose sur quatre étapes principales :\n",
    "\n",
    "-Sélection et préparation d'un ensemble de données d’entraînement.\n",
    "\n",
    "-Sélection  d'un algorithme à exécuter sur l’ensemble des données. Le type d’algorithme à utiliser dépend du problème et du type de volume de données d’entraînement.\n",
    "\n",
    "-Entraînement de l’algorithme. Les résultats sont comparés avec ceux qu’il aurait du produire. Les \"poids\" et le biais peuvent ensuite être ajustés pour accroître la précision du résultat.\n",
    "On exécute ensuite de nouveau les variables jusqu’à ce que l’algorithme produise un résultat acceptable.\n",
    "\n",
    "-Utilisation et amélioration du modèle. On utilise le modèle sur de nouvelles données, dont la provenance dépend du problème à résoudre."
   ]
  },
  {
   "cell_type": "markdown",
   "metadata": {},
   "source": [
    "# Matrice de confusion "
   ]
  },
  {
   "cell_type": "markdown",
   "metadata": {},
   "source": [
    "On utilise généralement la matrice de confusion, appelée aussi tableau de contingence pour mettre en valeur les prédictions correctes et incorrectes. Elle donnera surtout un indice sur le type d’erreurs commises. Pour calculer une matrice de confusion, on a besoin d’un ensemble de données de test et un autre de validation qui contient les valeurs des résultats obtenus.\n",
    "Pour calculer une matrice de confusion, on a besoin d’un ensemble de données de test et un autre de validation qui contient les valeurs des résultats \n",
    "obtenus."
   ]
  },
  {
   "cell_type": "code",
   "execution_count": 1,
   "metadata": {},
   "outputs": [
    {
     "data": {
      "image/png": "[encoded data removed]",
      "text/plain": [
       "<Figure size 800x300 with 2 Axes>"
      ]
     },
     "metadata": {},
     "output_type": "display_data"
    }
   ],
   "source": [
    "# Exemple \n",
    "\n",
    "from sklearn.metrics import confusion_matrix\n",
    "import matplotlib.pyplot as plt\n",
    "import seaborn as sns\n",
    "\n",
    "# Exemple de valeurs réelles et prédites \n",
    "y_true = ['malade', 'sain', 'sain', 'malade', 'malade', 'sain']\n",
    "y_pred = ['malade', 'malade', 'sain', 'sain', 'malade', 'sain']\n",
    "\n",
    "# Matrice de confusion\n",
    "conf_matrix = confusion_matrix(y_true, y_pred)\n",
    "\n",
    "# Affichage \n",
    "plt.figure(figsize=(8, 3))\n",
    "sns.heatmap(conf_matrix, annot=True, cmap='Blues', xticklabels=['Malade', 'Sain'], \n",
    "            yticklabels=['Malade', 'Sain'])\n",
    "plt.xlabel('Prédictions')\n",
    "plt.ylabel('Réelles')\n",
    "plt.title('Matrice de Confusion')\n",
    "plt.show()"
   ]
  },
  {
   "cell_type": "markdown",
   "metadata": {},
   "source": [
    "# Les Métriques\n",
    "\n",
    "### Qu'est ce que c'est ? À quoi ça sert ? \n"
   ]
  },
  {
   "cell_type": "markdown",
   "metadata": {},
   "source": [
    "Les métriques en machine learning sont des mesures quantitatives qui permettent d'évaluer la performance d'un modèle en comparant ses prédictions avec les valeurs réelles. \n",
    "Voici quelques-unes des métriques les plus couramment utilisées en apprentissage automatique :"
   ]
  },
  {
   "cell_type": "markdown",
   "metadata": {},
   "source": [
    "# Accuracy"
   ]
  },
  {
   "cell_type": "markdown",
   "metadata": {},
   "source": []
  },
  {
   "cell_type": "markdown",
   "metadata": {},
   "source": [
    "# Precision \n"
   ]
  },
  {
   "cell_type": "markdown",
   "metadata": {},
   "source": [
    "\n",
    "Comme les autres métriques, l’accuracy est basée sur la matrice de confusion.\n",
    "\n",
    "Un modèle parfait (perfect model/classifier) est un modèle qui sépare parfaitement les individus positifs des individus négatifs.\n",
    "\n",
    "Nous pouvons prévoir théoriquement l’accuracy d’un modèle parfait. Selon le seuil de classification utilisé, 3 cas sont possibles :\n",
    "\n",
    "Seuil trop faible : on prédit correctement les positifs mais on se trompe sur les négatifs : l’accuracy est sous-optimale et croît à mesure que le seuil augmente.\n",
    "\n",
    "Seuil optimal (séparation parfaite des deux classes) : on ne se trompe ni sur les positifs ni sur les négatifs : l’accuracy est maximale (100%).\n",
    "    \n",
    "Seuil trop élevé : on prédit correctement les négatifs mais on se trompe sur les positifs : l’accuracy est à nouveau sous-optimale et décroît à mesure que le seuil augmente."
   ]
  },
  {
   "cell_type": "markdown",
   "metadata": {},
   "source": [
    "<img src='/home/louis/Documents/projects/ML_avance/img/Capture d’écran du 2024-01-24 15-54-29.png'>  "
   ]
  },
  {
   "cell_type": "markdown",
   "metadata": {},
   "source": [
    "# Recall (Rappel)"
   ]
  },
  {
   "cell_type": "markdown",
   "metadata": {},
   "source": [
    "Le racall mesure la capacité du modèle à \"se rappeler\" ou à \"capturer\" le plus possible d'exemples positifs. Un rappel élevé indique que le modèle est efficace pour identifier la plupart des exemples positifs, minimisant donc les faux négatifs.\n",
    "\n",
    "Le choix du rappel comme métrique est particulièrement important dans des situations où les faux négatifs sont nombreux et susceptible de perturber le modèle. Par exemple, dans un système de détection de fraude, il est crucial de minimiser le nombre de transactions frauduleuses non détectées (faux négatifs), même au détriment d'un nombre accru de transactions saines incorrectement identifiées comme frauduleuses (faux positifs).\n",
    "\n",
    "Le rappel fournit une mesure de la sensibilité du modèle aux exemples positifs, et son utilisation dépend du contexte et de nos besoins.\n",
    "\n",
    "Aussi simple que pour la precision ! On remplace cette fois si les Faux positifs par les Faux négatifs "
   ]
  },
  {
   "cell_type": "markdown",
   "metadata": {},
   "source": [
    "<img src='/home/louis/Documents/projects/ML_avance/img/Capture d’écran du 2024-01-24 16-06-31.png'>  "
   ]
  },
  {
   "cell_type": "markdown",
   "metadata": {},
   "source": [
    "# La valeur F1"
   ]
  },
  {
   "cell_type": "markdown",
   "metadata": {},
   "source": [
    "Le score F1 est une mesure d'évaluation de l'apprentissage automatique qui mesure la précision d'un modèle. Il combine la précision et les scores de rappel d'un modèle.\n",
    "\n",
    "La métrique de précision calcule combien de fois un modèle a fait une prédiction correcte sur l'ensemble de l'ensemble des données. Il ne peut s'agir d'une métrique fiable que si l'ensemble de données est équilibré en classe, c'est-à-dire que chaque classe de l'ensemble de données a le même nombre d'échantillons.\n",
    "\n",
    "Néanmoins, les ensembles de données du monde réel sont fortement équilibrés en classe, ce qui rend souvent cette métrique non viable. Par exemple, si un ensemble de données de classe binaire a respectivement 90 et 10 échantillons dans la classe 1 et la classe 2, un modèle qui ne prédit que « la classe 1 », quel que soit l'échantillon, sera toujours précis à 90 %. La précision calcule combien de fois un modèle a fait une prédiction correcte sur l'ensemble des données. Cependant, ce modèle peut-il être appelé un bon prédicteur ? C'est là que le score de F1 entre en jeu.\n",
    "\n",
    "Nous allons examiner l'explication mathématique derrière la métrique dans la section suivante, mais comprenons d'abord la précision et le rappel par rapport à un ensemble de données de classe binaire avec des classes étiquetées « positives » et « négatives ».\n",
    "\n",
    "La précision mesure combien de prédictions « positives » faites par le modèle étaient correctes.\n",
    "\n",
    "Rappelez-vous que le nombre d'échantillons de classe positive présents dans l'ensemble de données ont été correctement identifiés par le modèle.\n",
    "\n",
    "La précision et le rappel offrent un compromis, c'est-à-dire qu'une métrique se fait au détriment d'une autre. Plus de précision implique un critique plus sévère (classifiant) qui doute même des échantillons positifs réels de l'ensemble de données, réduisant ainsi le score de rappel. D'autre part, plus de rappel implique un critique laxiste qui permet à tout échantillon qui ressemble à une classe positive de passer, ce qui rend les échantillons négatifs de cas de limite classés comme « positifs », réduisant ainsi la précision. Idéalement, nous voulons maximiser à la fois la précision et les métriques de rappel pour obtenir le classificateur parfait.\n",
    "\n",
    "Le score F1 combine précision et rappel en utilisant leur moyenne harmonique, et le fait de maximiser le score F1 implique simultanément de maximiser à la fois la précision et le rappel. Ainsi, le score F1 est devenu le choix des chercheurs pour évaluer leurs modèles en conjonction avec la précision."
   ]
  },
  {
   "cell_type": "markdown",
   "metadata": {},
   "source": [
    "<img src ='/home/louis/Documents/projects/ML_avance/img/Capture d’écran du 2024-01-24 16-21-25.png'>"
   ]
  },
  {
   "cell_type": "markdown",
   "metadata": {},
   "source": [
    "<img src ='/home/louis/Documents/projects/ML_avance/img/Capture d’écran du 2024-01-24 16-17-50.png'>"
   ]
  },
  {
   "cell_type": "markdown",
   "metadata": {},
   "source": [
    "# EXERCICE "
   ]
  },
  {
   "cell_type": "markdown",
   "metadata": {},
   "source": [
    "## Importation des librairies\n"
   ]
  },
  {
   "cell_type": "code",
   "execution_count": 4,
   "metadata": {},
   "outputs": [],
   "source": [
    "import matplotlib.pyplot as plt\n",
    "import numpy as np\n",
    "import pandas as pd\n",
    "import seaborn as sns\n",
    "from sklearn.datasets import make_classification\n",
    "from sklearn.model_selection import train_test_split\n",
    "from sklearn.model_selection import cross_val_predict\n",
    "from sklearn.linear_model import LogisticRegression"
   ]
  },
  {
   "cell_type": "markdown",
   "metadata": {},
   "source": [
    "Pour cette exercice nous allons utiliser de nouveaux le dataset diabetes.csv\n",
    "\n"
   ]
  },
  {
   "cell_type": "code",
   "execution_count": null,
   "metadata": {},
   "outputs": [],
   "source": [
    "df = pd.read_csv('')"
   ]
  },
  {
   "cell_type": "code",
   "execution_count": 5,
   "metadata": {},
   "outputs": [
    {
     "ename": "NameError",
     "evalue": "name 'df' is not defined",
     "output_type": "error",
     "traceback": [
      "\u001b[0;31m---------------------------------------------------------------------------\u001b[0m",
      "\u001b[0;31mNameError\u001b[0m                                 Traceback (most recent call last)",
      "Cell \u001b[0;32mIn[5], line 2\u001b[0m\n\u001b[1;32m      1\u001b[0m \u001b[38;5;66;03m# Train/Test split\u001b[39;00m\n\u001b[0;32m----> 2\u001b[0m x_train, x_test, y_train, y_test \u001b[38;5;241m=\u001b[39m train_test_split(\u001b[43mdf\u001b[49m\u001b[38;5;241m.\u001b[39mhoursOfStudy, df\u001b[38;5;241m.\u001b[39mpassing, test_size\u001b[38;5;241m=\u001b[39m\u001b[38;5;241m0.4\u001b[39m, random_state\u001b[38;5;241m=\u001b[39m\u001b[38;5;241m321\u001b[39m)\n\u001b[1;32m      4\u001b[0m \u001b[38;5;66;03m# Reshape indep variables of training data\u001b[39;00m\n\u001b[1;32m      5\u001b[0m x_train_array \u001b[38;5;241m=\u001b[39m np\u001b[38;5;241m.\u001b[39marray(x_train)\u001b[38;5;241m.\u001b[39mreshape(\u001b[38;5;241m-\u001b[39m\u001b[38;5;241m1\u001b[39m,\u001b[38;5;241m1\u001b[39m)\u001b[38;5;66;03m# Build a model\u001b[39;00m\n",
      "\u001b[0;31mNameError\u001b[0m: name 'df' is not defined"
     ]
    }
   ],
   "source": [
    "# Train/Test split\n",
    "x_train, x_test, y_train, y_test = train_test_split(df.hoursOfStudy, df.passing, test_size=0.4, random_state=321)\n",
    "\n",
    "# Reshape indep variables of training data\n",
    "x_train_array = np.array(x_train).reshape(-1,1)# Build a model\n",
    "logistic = LogisticRegression() # Fit a model\n",
    "model = logistic.fit(x_train_array, y_train)\n",
    "\n",
    "# Reshape indep variables of testing data\n",
    "x_test_array = np.array(x_test).reshape(-1,1)\n",
    "\n",
    "# Make prediction\n",
    "y_pred = model.predict(x_test_array)# Calculate confusion matrix and assign to the variables\n",
    "tn, fp, fn, tp = confusion_matrix(y_test, y_pred).ravel()"
   ]
  },
  {
   "cell_type": "markdown",
   "metadata": {},
   "source": [
    "Evaluer l'Accuracy, la Precision, le Recall et interpréter ces résultats."
   ]
  },
  {
   "cell_type": "markdown",
   "metadata": {},
   "source": [
    "D'après vous, vaut-il mieux être confronté à des erreurs de type 1 ou de type 2 avec ce jeu de donnée ?"
   ]
  },
  {
   "cell_type": "markdown",
   "metadata": {},
   "source": [
    "Calculer F1\n",
    "Que pouvez vous en déduire ?"
   ]
  }
 ],
 "metadata": {
  "kernelspec": {
   "display_name": "Python 3",
   "language": "python",
   "name": "python3"
  },
  "language_info": {
   "codemirror_mode": {
    "name": "ipython",
    "version": 3
   },
   "file_extension": ".py",
   "mimetype": "text/x-python",
   "name": "python",
   "nbconvert_exporter": "python",
   "pygments_lexer": "ipython3",
   "version": "3.10.12"
  }
 },
 "nbformat": 4,
 "nbformat_minor": 2
}
