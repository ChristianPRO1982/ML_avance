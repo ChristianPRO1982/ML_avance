{
 "cells": [
  {
   "cell_type": "markdown",
   "metadata": {},
   "source": [
    "<a href=\"https://colab.research.google.com/github/ElieLECAS/ML_avance/blob/maxime/feature_selection/filtres/SelectKBest.ipynb\" target=\"_parent\"><img src=\"https://colab.research.google.com/assets/colab-badge.svg\" alt=\"Open In Colab\"/></a>"
   ]
  },
  {
   "cell_type": "code",
   "execution_count": 16,
   "metadata": {},
   "outputs": [],
   "source": [
    "import sys\n",
    " \n",
    "# setting path\n",
    "sys.path.append('../')\n",
    "from sklearn.feature_selection import SelectKBest, f_classif, chi2\n",
    "import pandas as pd\n",
    "import numpy as np\n",
    "\n",
    "from data.utils import get_data\n",
    "\n",
    "X, _, y, _ = get_data()"
   ]
  },
  {
   "cell_type": "markdown",
   "metadata": {},
   "source": [
    "# Avec une ANOVA"
   ]
  },
  {
   "cell_type": "code",
   "execution_count": 23,
   "metadata": {},
   "outputs": [
    {
     "name": "stderr",
     "output_type": "stream",
     "text": [
      "/Volumes/DD 250/dev/_simplon/feature_selection/.venv/lib/python3.12/site-packages/sklearn/feature_selection/_univariate_selection.py:109: RuntimeWarning: invalid value encountered in divide\n",
      "  msw = sswn / float(dfwn)\n"
     ]
    },
    {
     "data": {
      "text/plain": [
       "array(['smoker', 'is_southwest', 'is_southeast', 'is_northwest',\n",
       "       'is_northeast'], dtype='<U12')"
      ]
     },
     "execution_count": 23,
     "metadata": {},
     "output_type": "execute_result"
    }
   ],
   "source": [
    "selector = SelectKBest(f_classif, k = 5).fit(X, y)\n",
    "\n",
    "# on peut afficher les features retenues plus clairement\n",
    "np.array(np.asarray(list(X)))[selector.get_support()]"
   ]
  },
  {
   "cell_type": "markdown",
   "metadata": {},
   "source": [
    "# Avec Chi2"
   ]
  },
  {
   "cell_type": "code",
   "execution_count": 24,
   "metadata": {},
   "outputs": [
    {
     "data": {
      "text/plain": [
       "array(['age', 'sex', 'is_southwest', 'is_southeast', 'is_northwest'],\n",
       "      dtype='<U12')"
      ]
     },
     "execution_count": 24,
     "metadata": {},
     "output_type": "execute_result"
    }
   ],
   "source": [
    "# on recré un dataset avec smoker comme target\n",
    "X_chi = X.drop(columns=['smoker'], axis = 1)\n",
    "y_chi = X['smoker']\n",
    "\n",
    "selector = SelectKBest(f_classif, k = 5).fit(X_chi, y_chi)\n",
    "\n",
    "np.array(np.asarray(list(X_chi)))[selector.get_support()]"
   ]
  }
 ],
 "metadata": {
  "kernelspec": {
   "display_name": ".venv",
   "language": "python",
   "name": "python3"
  },
  "language_info": {
   "codemirror_mode": {
    "name": "ipython",
    "version": 3
   },
   "file_extension": ".py",
   "mimetype": "text/x-python",
   "name": "python",
   "nbconvert_exporter": "python",
   "pygments_lexer": "ipython3",
   "version": "3.12.0"
  }
 },
 "nbformat": 4,
 "nbformat_minor": 2
}
