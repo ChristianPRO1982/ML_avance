{
 "cells": [
  {
   "cell_type": "markdown",
   "id": "405a7153-309f-47a0-a088-74fa5ac85509",
   "metadata": {},
   "source": [
    "# Imports"
   ]
  },
  {
   "cell_type": "code",
   "execution_count": 1,
   "id": "5a6bb2e4-aa0c-4fc0-bbe2-8775fa3d6799",
   "metadata": {},
   "outputs": [],
   "source": [
    "from faker import Faker\n",
    "import pandas as pd"
   ]
  },
  {
   "cell_type": "markdown",
   "id": "831e2e32-3180-407d-8f57-0e1d1441a942",
   "metadata": {},
   "source": [
    "# `OrdinalEncoder`"
   ]
  },
  {
   "cell_type": "markdown",
   "id": "684ef221-3a40-44ef-a292-ea6413feb414",
   "metadata": {},
   "source": [
    "Comme son nom l'indique, il sert à **encoder** des variables **ordinales**, c'est à dire des variables **catégorielles** pour lesquelles il existe une **hiérarchie parmi les modalités**.\n",
    "\n",
    "Par exemple, des tailles de vêtements."
   ]
  },
  {
   "cell_type": "markdown",
   "id": "6a236c87-cb40-4860-8b5e-adcbb6724b28",
   "metadata": {},
   "source": [
    "## Génération de donnée factice"
   ]
  },
  {
   "cell_type": "markdown",
   "id": "6e321b2a-e884-4deb-93f1-997912a20b92",
   "metadata": {},
   "source": [
    "Nous générons la donnée que nous allons encoder."
   ]
  },
  {
   "cell_type": "code",
   "execution_count": 10,
   "id": "d3be0e7d-699b-47f0-9f3d-0a19eb86c04d",
   "metadata": {},
   "outputs": [
    {
     "data": {
      "text/html": [
       "<div>\n",
       "<style scoped>\n",
       "    .dataframe tbody tr th:only-of-type {\n",
       "        vertical-align: middle;\n",
       "    }\n",
       "\n",
       "    .dataframe tbody tr th {\n",
       "        vertical-align: top;\n",
       "    }\n",
       "\n",
       "    .dataframe thead th {\n",
       "        text-align: right;\n",
       "    }\n",
       "</style>\n",
       "<table border=\"1\" class=\"dataframe\">\n",
       "  <thead>\n",
       "    <tr style=\"text-align: right;\">\n",
       "      <th></th>\n",
       "      <th>size</th>\n",
       "    </tr>\n",
       "  </thead>\n",
       "  <tbody>\n",
       "    <tr>\n",
       "      <th>0</th>\n",
       "      <td>XS</td>\n",
       "    </tr>\n",
       "    <tr>\n",
       "      <th>1</th>\n",
       "      <td>XS</td>\n",
       "    </tr>\n",
       "    <tr>\n",
       "      <th>2</th>\n",
       "      <td>S</td>\n",
       "    </tr>\n",
       "    <tr>\n",
       "      <th>3</th>\n",
       "      <td>XS</td>\n",
       "    </tr>\n",
       "    <tr>\n",
       "      <th>4</th>\n",
       "      <td>XL</td>\n",
       "    </tr>\n",
       "    <tr>\n",
       "      <th>5</th>\n",
       "      <td>M</td>\n",
       "    </tr>\n",
       "    <tr>\n",
       "      <th>6</th>\n",
       "      <td>M</td>\n",
       "    </tr>\n",
       "    <tr>\n",
       "      <th>7</th>\n",
       "      <td>XL</td>\n",
       "    </tr>\n",
       "    <tr>\n",
       "      <th>8</th>\n",
       "      <td>L</td>\n",
       "    </tr>\n",
       "    <tr>\n",
       "      <th>9</th>\n",
       "      <td>L</td>\n",
       "    </tr>\n",
       "  </tbody>\n",
       "</table>\n",
       "</div>"
      ],
      "text/plain": [
       "  size\n",
       "0   XS\n",
       "1   XS\n",
       "2    S\n",
       "3   XS\n",
       "4   XL\n",
       "5    M\n",
       "6    M\n",
       "7   XL\n",
       "8    L\n",
       "9    L"
      ]
     },
     "execution_count": 10,
     "metadata": {},
     "output_type": "execute_result"
    }
   ],
   "source": [
    "fake = Faker()\n",
    "Faker.seed(69)\n",
    "num_entries = 10\n",
    "\n",
    "\n",
    "fake_sizes = [fake.random_element(elements=('XS', 'S', 'M', 'L', 'XL'))\n",
    "              for _ in range(num_entries)]\n",
    "\n",
    "sizes = pd.DataFrame({'size': fake_sizes})\n",
    "sizes"
   ]
  },
  {
   "cell_type": "markdown",
   "id": "dc8232f0-0ef6-4296-9082-6a29d42c5cdd",
   "metadata": {},
   "source": [
    "## Implémentation"
   ]
  },
  {
   "cell_type": "code",
   "execution_count": 6,
   "id": "3eb896f7-785e-4e70-a24a-700b2b9d4e53",
   "metadata": {},
   "outputs": [],
   "source": [
    "from sklearn.preprocessing import OrdinalEncoder"
   ]
  },
  {
   "cell_type": "code",
   "execution_count": 7,
   "id": "b9d93613-7430-448f-9e2b-2412ed5e9997",
   "metadata": {},
   "outputs": [],
   "source": [
    "# Lister les modalités par ordre croissant\n",
    "categories = [[\"XS\", \"S\", \"M\", \"L\", \"XL\"]]  # ATTENTION: liste de listes!\n",
    "\n",
    "encoder = OrdinalEncoder(categories = categories,\n",
    "                         # Stratégie en cas de modalité inconnue dans le val ou le test set\n",
    "                         handle_unknown = \"use_encoded_value\",\n",
    "                         # Valeur assignée par défaut à ces modalités inconnues\n",
    "                         unknown_value = -1)"
   ]
  },
  {
   "cell_type": "code",
   "execution_count": 13,
   "id": "34866fea-4040-4440-8dee-529dbb038450",
   "metadata": {},
   "outputs": [
    {
     "data": {
      "text/html": [
       "<div>\n",
       "<style scoped>\n",
       "    .dataframe tbody tr th:only-of-type {\n",
       "        vertical-align: middle;\n",
       "    }\n",
       "\n",
       "    .dataframe tbody tr th {\n",
       "        vertical-align: top;\n",
       "    }\n",
       "\n",
       "    .dataframe thead th {\n",
       "        text-align: right;\n",
       "    }\n",
       "</style>\n",
       "<table border=\"1\" class=\"dataframe\">\n",
       "  <thead>\n",
       "    <tr style=\"text-align: right;\">\n",
       "      <th></th>\n",
       "      <th>size</th>\n",
       "      <th>size</th>\n",
       "    </tr>\n",
       "  </thead>\n",
       "  <tbody>\n",
       "    <tr>\n",
       "      <th>0</th>\n",
       "      <td>XS</td>\n",
       "      <td>0.0</td>\n",
       "    </tr>\n",
       "    <tr>\n",
       "      <th>1</th>\n",
       "      <td>XS</td>\n",
       "      <td>0.0</td>\n",
       "    </tr>\n",
       "    <tr>\n",
       "      <th>2</th>\n",
       "      <td>S</td>\n",
       "      <td>1.0</td>\n",
       "    </tr>\n",
       "    <tr>\n",
       "      <th>3</th>\n",
       "      <td>XS</td>\n",
       "      <td>0.0</td>\n",
       "    </tr>\n",
       "    <tr>\n",
       "      <th>4</th>\n",
       "      <td>XL</td>\n",
       "      <td>4.0</td>\n",
       "    </tr>\n",
       "    <tr>\n",
       "      <th>5</th>\n",
       "      <td>M</td>\n",
       "      <td>2.0</td>\n",
       "    </tr>\n",
       "    <tr>\n",
       "      <th>6</th>\n",
       "      <td>M</td>\n",
       "      <td>2.0</td>\n",
       "    </tr>\n",
       "    <tr>\n",
       "      <th>7</th>\n",
       "      <td>XL</td>\n",
       "      <td>4.0</td>\n",
       "    </tr>\n",
       "    <tr>\n",
       "      <th>8</th>\n",
       "      <td>L</td>\n",
       "      <td>3.0</td>\n",
       "    </tr>\n",
       "    <tr>\n",
       "      <th>9</th>\n",
       "      <td>L</td>\n",
       "      <td>3.0</td>\n",
       "    </tr>\n",
       "  </tbody>\n",
       "</table>\n",
       "</div>"
      ],
      "text/plain": [
       "   size  size\n",
       "0    XS   0.0\n",
       "1    XS   0.0\n",
       "2     S   1.0\n",
       "3    XS   0.0\n",
       "4    XL   4.0\n",
       "5     M   2.0\n",
       "6     M   2.0\n",
       "7    XL   4.0\n",
       "8     L   3.0\n",
       "9     L   3.0"
      ]
     },
     "execution_count": 13,
     "metadata": {},
     "output_type": "execute_result"
    }
   ],
   "source": [
    "# Régler l'output du transformer en structures pandas\n",
    "encoder.set_output(transform=\"pandas\")\n",
    "\n",
    "sizes_tf = encoder.fit_transform(sizes)\n",
    "\n",
    "# Check-out de l'encodage\n",
    "pd.concat([sizes, sizes_tf], axis=1)"
   ]
  },
  {
   "cell_type": "code",
   "execution_count": 14,
   "id": "f3b80d67-d6fe-432a-939b-17381f6adb10",
   "metadata": {},
   "outputs": [
    {
     "data": {
      "text/html": [
       "<div>\n",
       "<style scoped>\n",
       "    .dataframe tbody tr th:only-of-type {\n",
       "        vertical-align: middle;\n",
       "    }\n",
       "\n",
       "    .dataframe tbody tr th {\n",
       "        vertical-align: top;\n",
       "    }\n",
       "\n",
       "    .dataframe thead th {\n",
       "        text-align: right;\n",
       "    }\n",
       "</style>\n",
       "<table border=\"1\" class=\"dataframe\">\n",
       "  <thead>\n",
       "    <tr style=\"text-align: right;\">\n",
       "      <th></th>\n",
       "      <th>size</th>\n",
       "      <th>size</th>\n",
       "    </tr>\n",
       "  </thead>\n",
       "  <tbody>\n",
       "    <tr>\n",
       "      <th>0</th>\n",
       "      <td>M</td>\n",
       "      <td>2.0</td>\n",
       "    </tr>\n",
       "    <tr>\n",
       "      <th>1</th>\n",
       "      <td>S</td>\n",
       "      <td>1.0</td>\n",
       "    </tr>\n",
       "    <tr>\n",
       "      <th>2</th>\n",
       "      <td>XXL</td>\n",
       "      <td>-1.0</td>\n",
       "    </tr>\n",
       "    <tr>\n",
       "      <th>3</th>\n",
       "      <td>L</td>\n",
       "      <td>3.0</td>\n",
       "    </tr>\n",
       "  </tbody>\n",
       "</table>\n",
       "</div>"
      ],
      "text/plain": [
       "   size  size\n",
       "0     M   2.0\n",
       "1     S   1.0\n",
       "2   XXL  -1.0\n",
       "3     L   3.0"
      ]
     },
     "execution_count": 14,
     "metadata": {},
     "output_type": "execute_result"
    }
   ],
   "source": [
    "# En cas de modalité inconnue dans les nouvelles données\n",
    "new_sizes = pd.DataFrame({\"size\": [\"M\", \"S\", \"XXL\", \"L\"]})\n",
    "new_sizes_tf = encoder.fit_transform(new_sizes)\n",
    "pd.concat([new_sizes, new_sizes_tf], axis=1)"
   ]
  },
  {
   "cell_type": "code",
   "execution_count": null,
   "id": "265312d6-b696-440d-a7ed-fc9a4a3349c0",
   "metadata": {},
   "outputs": [],
   "source": []
  }
 ],
 "metadata": {
  "kernelspec": {
   "display_name": "Python 3 (ipykernel)",
   "language": "python",
   "name": "python3"
  },
  "language_info": {
   "codemirror_mode": {
    "name": "ipython",
    "version": 3
   },
   "file_extension": ".py",
   "mimetype": "text/x-python",
   "name": "python",
   "nbconvert_exporter": "python",
   "pygments_lexer": "ipython3",
   "version": "3.10.12"
  }
 },
 "nbformat": 4,
 "nbformat_minor": 5
}
