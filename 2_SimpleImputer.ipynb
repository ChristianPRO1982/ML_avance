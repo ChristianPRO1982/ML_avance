{
 "cells": [
  {
   "cell_type": "markdown",
   "metadata": {},
   "source": [
    "SimpleImputer remplace toutes les valeurs manquantes par une valeur statistique \n",
    "\n",
    " \n",
    "\n",
    "C'est un imputeur univarié complète les valeurs manquantes avec des stratégies simples. \n",
    "\n",
    "Cet imputeur intervient lorsqu'il est nécessaire de remplacer les valeurs manquantes dans un ensemble de données. Il utilise des statistiques descriptives telles que la moyenne, la médiane ou la valeur la plus fréquente pour remplacer les valeurs manquantes le long de chaque colonne.  \n",
    "\n",
    "Il offre également la possibilité de remplacer les valeurs manquantes par une valeur constante prédéfinie. Cette approche permet de maintenir l'intégrité des données en assurant qu'elles restent informatives malgré la présence de valeurs manquantes. "
   ]
  },
  {
   "cell_type": "code",
   "execution_count": 4,
   "metadata": {},
   "outputs": [
    {
     "data": {
      "text/html": [
       "<div>\n",
       "<style scoped>\n",
       "    .dataframe tbody tr th:only-of-type {\n",
       "        vertical-align: middle;\n",
       "    }\n",
       "\n",
       "    .dataframe tbody tr th {\n",
       "        vertical-align: top;\n",
       "    }\n",
       "\n",
       "    .dataframe thead th {\n",
       "        text-align: right;\n",
       "    }\n",
       "</style>\n",
       "<table border=\"1\" class=\"dataframe\">\n",
       "  <thead>\n",
       "    <tr style=\"text-align: right;\">\n",
       "      <th></th>\n",
       "      <th>A</th>\n",
       "      <th>B</th>\n",
       "      <th>C</th>\n",
       "    </tr>\n",
       "  </thead>\n",
       "  <tbody>\n",
       "    <tr>\n",
       "      <th>0</th>\n",
       "      <td>1.0</td>\n",
       "      <td>10.0</td>\n",
       "      <td>10.0</td>\n",
       "    </tr>\n",
       "    <tr>\n",
       "      <th>1</th>\n",
       "      <td>2.0</td>\n",
       "      <td>NaN</td>\n",
       "      <td>0.0</td>\n",
       "    </tr>\n",
       "    <tr>\n",
       "      <th>2</th>\n",
       "      <td>NaN</td>\n",
       "      <td>30.0</td>\n",
       "      <td>NaN</td>\n",
       "    </tr>\n",
       "    <tr>\n",
       "      <th>3</th>\n",
       "      <td>4.0</td>\n",
       "      <td>40.0</td>\n",
       "      <td>0.0</td>\n",
       "    </tr>\n",
       "    <tr>\n",
       "      <th>4</th>\n",
       "      <td>5.0</td>\n",
       "      <td>50.0</td>\n",
       "      <td>10.0</td>\n",
       "    </tr>\n",
       "  </tbody>\n",
       "</table>\n",
       "</div>"
      ],
      "text/plain": [
       "     A     B     C\n",
       "0  1.0  10.0  10.0\n",
       "1  2.0   NaN   0.0\n",
       "2  NaN  30.0   NaN\n",
       "3  4.0  40.0   0.0\n",
       "4  5.0  50.0  10.0"
      ]
     },
     "execution_count": 4,
     "metadata": {},
     "output_type": "execute_result"
    }
   ],
   "source": [
    "import pandas as pd\n",
    "import numpy as np\n",
    "from sklearn.compose import ColumnTransformer\n",
    "from sklearn.impute import SimpleImputer\n",
    "\n",
    "\n",
    "data = {'A': [1, 2, np.nan, 4, 5], \n",
    "\n",
    "   'B': [10, np.nan, 30, 40, 50], \n",
    "\n",
    "   'C': [10,0,np.nan,0,10]} \n",
    "\n",
    " \n",
    "\n",
    "df = pd.DataFrame(data) # Définir les colonnes que vous souhaitez imputer  \n",
    "df"
   ]
  },
  {
   "cell_type": "code",
   "execution_count": 5,
   "metadata": {},
   "outputs": [
    {
     "data": {
      "text/html": [
       "<div>\n",
       "<style scoped>\n",
       "    .dataframe tbody tr th:only-of-type {\n",
       "        vertical-align: middle;\n",
       "    }\n",
       "\n",
       "    .dataframe tbody tr th {\n",
       "        vertical-align: top;\n",
       "    }\n",
       "\n",
       "    .dataframe thead th {\n",
       "        text-align: right;\n",
       "    }\n",
       "</style>\n",
       "<table border=\"1\" class=\"dataframe\">\n",
       "  <thead>\n",
       "    <tr style=\"text-align: right;\">\n",
       "      <th></th>\n",
       "      <th>0</th>\n",
       "      <th>1</th>\n",
       "      <th>2</th>\n",
       "    </tr>\n",
       "  </thead>\n",
       "  <tbody>\n",
       "    <tr>\n",
       "      <th>0</th>\n",
       "      <td>1.0</td>\n",
       "      <td>10.0</td>\n",
       "      <td>10.0</td>\n",
       "    </tr>\n",
       "    <tr>\n",
       "      <th>1</th>\n",
       "      <td>2.0</td>\n",
       "      <td>32.5</td>\n",
       "      <td>0.0</td>\n",
       "    </tr>\n",
       "    <tr>\n",
       "      <th>2</th>\n",
       "      <td>3.0</td>\n",
       "      <td>30.0</td>\n",
       "      <td>5.0</td>\n",
       "    </tr>\n",
       "    <tr>\n",
       "      <th>3</th>\n",
       "      <td>4.0</td>\n",
       "      <td>40.0</td>\n",
       "      <td>0.0</td>\n",
       "    </tr>\n",
       "    <tr>\n",
       "      <th>4</th>\n",
       "      <td>5.0</td>\n",
       "      <td>50.0</td>\n",
       "      <td>10.0</td>\n",
       "    </tr>\n",
       "  </tbody>\n",
       "</table>\n",
       "</div>"
      ],
      "text/plain": [
       "     0     1     2\n",
       "0  1.0  10.0  10.0\n",
       "1  2.0  32.5   0.0\n",
       "2  3.0  30.0   5.0\n",
       "3  4.0  40.0   0.0\n",
       "4  5.0  50.0  10.0"
      ]
     },
     "execution_count": 5,
     "metadata": {},
     "output_type": "execute_result"
    }
   ],
   "source": [
    "imputer = SimpleImputer(strategy='mean')\n",
    "\n",
    "df = imputer.fit_transform(df)\n",
    "\n",
    "df = pd.DataFrame(df)\n",
    "df"
   ]
  },
  {
   "cell_type": "markdown",
   "metadata": {},
   "source": [
    "Paramètres Importants: \n",
    "\n",
    " \n",
    "\n",
    "        missing_values : (int, float, str, np.nan, None or pandas.NA, default=np.nan) \n",
    "\n",
    "La valeur de substitution pour les valeurs manquantes. Toutes les occurrences de missing_values seront imputées. Pour les DataFrames pandas avec des types de données entiers avec des valeurs manquantes, missing_values peut être défini sur np.nan ou pd.NA. \n",
    "\n",
    "        \n"
   ]
  },
  {
   "cell_type": "markdown",
   "metadata": {},
   "source": [
    "\n",
    "        \n",
    "\n",
    "        strategy : (str, default='mean') \n",
    "\n",
    "La stratégie d'imputation. \n",
    "\n",
    "Si \"mean\", remplace les valeurs manquantes par la moyenne le long de chaque colonne. Peut être utilisé uniquement avec des données numériques. \n",
    "\n",
    "\n",
    "\n",
    "Si \"median\", remplace les valeurs manquantes par la médiane le long de chaque colonne. Peut être utilisé uniquement avec des données numériques. \n",
    "\n",
    "\n",
    "\n",
    "Si \"most_frequent\", remplace les valeurs manquantes par la valeur la plus fréquente le long de chaque colonne. Peut être utilisé avec des chaînes ou des données numériques. Si plusieurs valeurs sont les plus fréquentes, seule la plus petite est renvoyée. \n",
    "\n",
    "Si \"constant\", remplace les valeurs manquantes par fill_value. Peut être utilisé avec des chaînes ou des données numériques. \n",
    "\n",
    "        \n"
   ]
  },
  {
   "cell_type": "markdown",
   "metadata": {},
   "source": [
    "\n",
    "        \n",
    "\n",
    "        fill_value : (str or valeur numérique, default=None) \n",
    "\n",
    "Lorsque strategy == \"constant\", fill_value est utilisé pour remplacer toutes les occurrences de missing_values. Pour les types de données de chaîne ou d'objet, fill_value doit être une chaîne. Si None, fill_value sera 0 lors de l'imputation des données numériques et \"missing_value\" pour les chaînes ou les types de données d'objet. \n"
   ]
  },
  {
   "cell_type": "markdown",
   "metadata": {},
   "source": [
    "\n",
    "        \n",
    "\n",
    "Ex:          \n",
    "\n",
    "        imputer = SimpleImputer(missing_values=np.nan, strategy='mean') \n",
    "\n",
    "        \n",
    "\n",
    "        imputer = SimpleImputer(strategy=\"constant\", fill_value=\"MISSING\") "
   ]
  },
  {
   "cell_type": "code",
   "execution_count": 3,
   "metadata": {},
   "outputs": [],
   "source": [
    "# columns_to_impute = ['C'] # Créer un transformateur pour imputer uniquement la colonne spécifique  \n",
    "\n",
    " \n",
    "\n",
    "# transformer = ColumnTransformer(  \n",
    "\n",
    "# transformers=[  \n",
    "\n",
    "# ('impute_column_c', SimpleImputer(strategy='constant', fill_value='MISSING'), columns_to_impute) \n",
    "\n",
    "# ],  \n",
    "\n",
    "# remainder='passthrough') # Les autres colonnes ne seront pas affectées \n",
    "\n",
    "# df = pd.DataFrame(transformer.fit_transform(df), columns=df.columns)\n",
    "\n",
    "# df"
   ]
  },
  {
   "cell_type": "code",
   "execution_count": null,
   "metadata": {},
   "outputs": [],
   "source": []
  }
 ],
 "metadata": {
  "kernelspec": {
   "display_name": "Python 3",
   "language": "python",
   "name": "python3"
  },
  "language_info": {
   "codemirror_mode": {
    "name": "ipython",
    "version": 3
   },
   "file_extension": ".py",
   "mimetype": "text/x-python",
   "name": "python",
   "nbconvert_exporter": "python",
   "pygments_lexer": "ipython3",
   "version": "3.11.7"
  }
 },
 "nbformat": 4,
 "nbformat_minor": 2
}
