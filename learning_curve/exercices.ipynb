{
 "cells": [
  {
   "cell_type": "markdown",
   "metadata": {},
   "source": [
    "Exercice 1 :  Expliquez les courbes d'apprentissages ci-dessous.<br> \n",
    "\n",
    "<img style=\"width: 50%;\" src=\"ressources/goodfitting.png\" alt=\"Description de l'image\" />\n",
    "<details>\n",
    "<summary>Cliquez pour révéler la correction</summary>\n",
    "\n",
    "Les deux courbes semblent s'améliorer ou se stabiliser à un niveau élevé, ce qui est indicatif d'un bon ajustement (good fit) du modèle aux données.\n",
    "\n",
    "</details>\n",
    "<img style=\"width: 50%;\" src=\"ressources/overfitting.png\" alt=\"Description de l'image\" />\n",
    "<details>\n",
    "<summary>Cliquez pour révéler la correction</summary>\n",
    "\n",
    "La courbe rouge représente l'exactitude sur le jeu d'entraînement, et la courbe bleue représente l'exactitude sur le jeu de test. On observe que l'exactitude sur le jeu d'entraînement continue d'augmenter avec le nombre d'époques. En revanche, l'exactitude sur le jeu de test augmente initialement, mais après un certain nombre d'époques, elle commence à diminuer, ce qui est un signe d'overfitting (surajustement). Cela signifie que le modèle devient de plus en plus spécifique aux données d'entraînement au détriment de sa capacité à généraliser à de nouvelles données.\n",
    "\n",
    "</details>\n",
    "\n",
    "\n"
   ]
  },
  {
   "cell_type": "markdown",
   "metadata": {},
   "source": [
    "<img style=\"width: 50%;\" src=\"ressources/image1.png\" alt=\"Description de l'image\" />\n",
    "<details>\n",
    "<summary>Cliquez pour révéler la correction</summary>\n",
    "\n",
    " Le fait que les deux coûts diminuent est un bon signe que le modèle apprend correctement. Si le coût de validation devait augmenter tandis que le coût d'entraînement diminue, cela pourrait être une indication de surajustement (overfitting), où le modèle apprend trop bien les données d'entraînement mais échoue à se généraliser à de nouvelles données. Cependant, dans ce graphique, les deux coûts diminuent, ce qui suggère que le modèle se généralise bien.\n",
    "</details>\n",
    "\n",
    "\n",
    "<img style=\"width: 50%;\" src=\"ressources/image2.png\" alt=\"Description de l'image\" />\n",
    "<details>\n",
    "<summary>Cliquez pour révéler la correction</summary>\n",
    "\n",
    "\n",
    "\n",
    "\n",
    "Si l'exactitude de la validation est sensiblement inférieure à l'exactitude de l'entraînement ou si elle commence à diminuer tandis que l'exactitude de l'entraînement continue d'augmenter, cela pourrait indiquer un surajustement. Toutefois, dans ce cas, les deux courbes semblent indiquer que le modèle généralise bien puisque l'exactitude de validation reste relativement élevée et stable après un certain nombre d'itérations.\n",
    "\n",
    "</details>\n",
    "\n",
    "<img style=\"width: 50%;\" src=\"ressources/image3.png\" alt=\"Description de l'image\" />\n",
    "<details>\n",
    "<summary>Cliquez pour révéler la correction</summary>\n",
    "\n",
    "\n",
    "Le graphique pourrait indiquer un sous-ajustement (underfitting) plutôt qu'une bonne généralisation. Dans le contexte de l'apprentissage automatique, le sous-ajustement se produit lorsque le modèle est trop simple pour capturer la complexité des données. Cela peut se manifester par un score de validation croisée qui reste faible même si le score d'entraînement est également faible, comme c'est le cas dans le graphique.\n",
    "\n",
    "</details>"
   ]
  },
  {
   "cell_type": "markdown",
   "metadata": {},
   "source": [
    "Exercice 2.1 : <br><br>\n",
    "A l'aide du cours, vous devez créer la learning curve du modèle ci-dessous\n",
    "- Utilisez la méthode learning_curve de sklearn (lien -> <a href='https://scikit-learn.org/stable/modules/generated/sklearn.model_selection.learning_curve.html'>Learning_curve documentation</a> ou le code exemple dans le cours)\n",
    "- métrique imposé: neg_log_loss\n",
    "\n",
    "\n",
    "Vous pouvez regarder la dernière partie du cours(learning_curve_cours.ipynb) pour plus d'aide\n"
   ]
  },
  {
   "cell_type": "code",
   "execution_count": 13,
   "metadata": {},
   "outputs": [
    {
     "name": "stdout",
     "output_type": "stream",
     "text": [
      "Accuracy: 0.8103448275862069\n",
      "Classification Report:\n",
      "              precision    recall  f1-score   support\n",
      "\n",
      "           0       0.86      0.84      0.85        76\n",
      "           1       0.71      0.75      0.73        40\n",
      "\n",
      "    accuracy                           0.81       116\n",
      "   macro avg       0.79      0.80      0.79       116\n",
      "weighted avg       0.81      0.81      0.81       116\n",
      "\n",
      "Confusion Matrix:\n",
      "[[64 12]\n",
      " [10 30]]\n"
     ]
    }
   ],
   "source": [
    "import pandas as pd\n",
    "import numpy as np\n",
    "from sklearn.experimental import enable_iterative_imputer\n",
    "from sklearn.impute import KNNImputer,SimpleImputer,IterativeImputer\n",
    "from sklearn.model_selection import train_test_split\n",
    "from sklearn.tree import DecisionTreeClassifier\n",
    "from sklearn.preprocessing import StandardScaler, PolynomialFeatures\n",
    "from sklearn.pipeline import make_pipeline\n",
    "from sklearn.metrics import classification_report, confusion_matrix,accuracy_score\n",
    "\n",
    "df = pd.read_csv('ressources/diabetes.csv')\n",
    "\n",
    "colonnes = ['BMI','Insulin', 'SkinThickness', 'BloodPressure', 'DiabetesPedigreeFunction', 'Age']\n",
    "\n",
    "imputer = KNNImputer(missing_values=0, n_neighbors=5)\n",
    "\n",
    "colonne_imputed = imputer.fit_transform(df[colonnes])\n",
    "\n",
    "df[colonnes] = colonne_imputed\n",
    "\n",
    "X = df.drop('Outcome', axis=1)\n",
    "y = df.Outcome\n",
    "\n",
    "X_train, X_test, y_train, y_test = train_test_split(X, y, shuffle=True, train_size=0.85, random_state=42, stratify=y)\n",
    "model = make_pipeline(\n",
    "    PolynomialFeatures(2),\n",
    "    StandardScaler(),\n",
    "    DecisionTreeClassifier(random_state=42)\n",
    ")\n",
    "\n",
    "\n",
    "model.fit(X_train, y_train)\n",
    "score = model.score(X_train, y_train)\n",
    "\n",
    "y_pred = model.predict(X_test)\n",
    "\n",
    "accuracy = accuracy_score(y_test, y_pred)\n",
    "print(\"Accuracy:\", accuracy)\n",
    "\n",
    "print(\"Classification Report:\")\n",
    "print(classification_report(y_test, y_pred))\n",
    "\n",
    "print(\"Confusion Matrix:\")\n",
    "print(confusion_matrix(y_test, y_pred))\n"
   ]
  },
  {
   "cell_type": "code",
   "execution_count": 14,
   "metadata": {},
   "outputs": [],
   "source": [
    "from sklearn.model_selection import learning_curve\n",
    "import matplotlib.pyplot as plt\n",
    "\n",
    "#ton code ici\n",
    "#\n",
    "#\n",
    "#\n",
    "#"
   ]
  },
  {
   "cell_type": "markdown",
   "metadata": {},
   "source": [
    "Exercice 2.2 : <br><br>\n",
    "- Analysez les performances du modèle sur les données d'entrainement et la performance sur les données de validation.<br>\n",
    "Expliquez les comportements\n",
    "\n",
    " - Comment ce modèle pourrait-il être amélioré d'apres vos observations? <br>Vous pouvez créer une nouvelle modelisation à partir de celle ci et créer sa courbe d'apprentissage pour analyser le comportement et comparer avec le modèle précédent."
   ]
  },
  {
   "cell_type": "markdown",
   "metadata": {},
   "source": [
    "Exercice 3 : <br><br>\n",
    "- Créé la courbe d'apprentissage et analyse le comportement d'une de tes meilleures modélisations. (classification ou regression) <br>\n",
    "Métrique non imposé, choix selon les objectifs de ton modèle\n"
   ]
  },
  {
   "cell_type": "code",
   "execution_count": 15,
   "metadata": {},
   "outputs": [],
   "source": [
    "#ton code ici\n",
    "#\n",
    "#\n",
    "#\n",
    "#"
   ]
  }
 ],
 "metadata": {
  "kernelspec": {
   "display_name": "venv",
   "language": "python",
   "name": "python3"
  },
  "language_info": {
   "codemirror_mode": {
    "name": "ipython",
    "version": 3
   },
   "file_extension": ".py",
   "mimetype": "text/x-python",
   "name": "python",
   "nbconvert_exporter": "python",
   "pygments_lexer": "ipython3",
   "version": "3.10.11"
  }
 },
 "nbformat": 4,
 "nbformat_minor": 2
}
