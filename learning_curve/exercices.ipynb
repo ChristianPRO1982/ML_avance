{
 "cells": [
  {
   "cell_type": "markdown",
   "metadata": {},
   "source": [
    "Premier exercice : Expliquez les courbes d'apprentissages ci-dessous.<br> \n",
    "\n",
    "<img style=\"width: 50%;\" src=\"ressources/goodfitting.png\" alt=\"Description de l'image\" />\n",
    "<img style=\"width: 50%;\" src=\"ressources/overfitting.png\" alt=\"Description de l'image\" />\n",
    "<img style=\"width: 50%;\" src=\"ressources/underfit.webp\" alt=\"Description de l'image\" />"
   ]
  },
  {
   "cell_type": "markdown",
   "metadata": {},
   "source": [
    "Deuxième exercice : <br><br>\n",
    "A l'aide du cours, vous devez créer la learning curve du modèle de votre choix\n",
    "- Utilisez la méthode learning_curve de sklearn(voir la doc ou le code exemple dans le cours)\n",
    "- métrique imposé: neg_log_loss\n",
    "\n",
    "N'oubliez pas que c'est une métrique de perte pour classification et qu'il ne peut être négatif<br>\n",
    "\n",
    "Lien vers la doc -> <a href='https://scikit-learn.org/stable/modules/generated/sklearn.model_selection.learning_curve.html'>Learning_curve documentation</a><br><br><br>\n",
    "Vous pouvez regarder la dernière partie du cours pour plus d'aide\n"
   ]
  },
  {
   "cell_type": "code",
   "execution_count": null,
   "metadata": {},
   "outputs": [],
   "source": [
    "#ton code ici"
   ]
  }
 ],
 "metadata": {
  "kernelspec": {
   "display_name": "venv",
   "language": "python",
   "name": "python3"
  },
  "language_info": {
   "name": "python",
   "version": "3.10.11"
  }
 },
 "nbformat": 4,
 "nbformat_minor": 2
}
