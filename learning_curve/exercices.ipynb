{
 "cells": [
  {
   "cell_type": "markdown",
   "metadata": {},
   "source": [
    "Premier exercice : Expliquez les courbes d'apprentissages ci-dessous.<br> \n",
    "\n",
    "<img style=\"width: 50%;\" src=\"ressources/goodfitting.png\" alt=\"Description de l'image\" />\n",
    "<details>\n",
    "<summary>Cliquez pour révéler la correction</summary>\n",
    "\n",
    "Le contenu que vous voulez cacher va ici.\n",
    "\n",
    "</details>\n",
    "<img style=\"width: 50%;\" src=\"ressources/overfitting.png\" alt=\"Description de l'image\" />\n",
    "<details>\n",
    "<summary>Cliquez pour révéler la correction</summary>\n",
    "\n",
    "Le contenu que vous voulez cacher va ici.\n",
    "\n",
    "</details>\n",
    "<img style=\"width: 50%;\" src=\"ressources/underfit.webp\" alt=\"Description de l'image\" />\n",
    "<details>\n",
    "<summary>Cliquez pour révéler la correction</summary>\n",
    "\n",
    "Le contenu que vous voulez cacher va ici.\n",
    "\n",
    "</details>"
   ]
  },
  {
   "cell_type": "markdown",
   "metadata": {},
   "source": [
    "Deuxième exercice : <br><br>\n",
    "A l'aide du cours, vous devez créer la learning curve du modèle de votre choix\n",
    "- Utilisez la méthode learning_curve de sklearn(voir la doc ou le code exemple dans le cours)\n",
    "- métrique imposé: neg_log_loss\n",
    "\n",
    "N'oubliez pas que c'est une métrique de perte pour classification et qu'il ne peut être négatif<br>\n",
    "\n",
    "Lien vers la doc -> <a href='https://scikit-learn.org/stable/modules/generated/sklearn.model_selection.learning_curve.html'>Learning_curve documentation</a><br><br><br>\n",
    "Vous pouvez regarder la dernière partie du cours(learning_curve_cours.ipynb) pour plus d'aide\n"
   ]
  },
  {
   "cell_type": "code",
   "execution_count": 5,
   "metadata": {},
   "outputs": [],
   "source": [
    "#ton code ici"
   ]
  }
 ],
 "metadata": {
  "kernelspec": {
   "display_name": "venv",
   "language": "python",
   "name": "python3"
  },
  "language_info": {
   "codemirror_mode": {
    "name": "ipython",
    "version": 3
   },
   "file_extension": ".py",
   "mimetype": "text/x-python",
   "name": "python",
   "nbconvert_exporter": "python",
   "pygments_lexer": "ipython3",
   "version": "3.10.11"
  }
 },
 "nbformat": 4,
 "nbformat_minor": 2
}
