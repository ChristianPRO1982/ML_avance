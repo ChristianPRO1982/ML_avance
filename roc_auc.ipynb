{
 "cells": [
  {
   "cell_type": "code",
   "execution_count": 29,
   "metadata": {},
   "outputs": [
    {
     "data": {
      "text/html": [
       "<div>\n",
       "<style scoped>\n",
       "    .dataframe tbody tr th:only-of-type {\n",
       "        vertical-align: middle;\n",
       "    }\n",
       "\n",
       "    .dataframe tbody tr th {\n",
       "        vertical-align: top;\n",
       "    }\n",
       "\n",
       "    .dataframe thead th {\n",
       "        text-align: right;\n",
       "    }\n",
       "</style>\n",
       "<table border=\"1\" class=\"dataframe\">\n",
       "  <thead>\n",
       "    <tr style=\"text-align: right;\">\n",
       "      <th></th>\n",
       "      <th>Predicted Class 0</th>\n",
       "      <th>Predicted Class 1</th>\n",
       "    </tr>\n",
       "  </thead>\n",
       "  <tbody>\n",
       "    <tr>\n",
       "      <th>Actual Class 0</th>\n",
       "      <td>332</td>\n",
       "      <td>71</td>\n",
       "    </tr>\n",
       "    <tr>\n",
       "      <th>Actual Class 1</th>\n",
       "      <td>29</td>\n",
       "      <td>368</td>\n",
       "    </tr>\n",
       "  </tbody>\n",
       "</table>\n",
       "</div>"
      ],
      "text/plain": [
       "                Predicted Class 0  Predicted Class 1\n",
       "Actual Class 0                332                 71\n",
       "Actual Class 1                 29                368"
      ]
     },
     "metadata": {},
     "output_type": "display_data"
    },
    {
     "name": "stdout",
     "output_type": "stream",
     "text": [
      "Score du recall :  0.9269521410579346\n",
      "Score de la precision :  0.8382687927107062\n",
      "Score F1 :  0.8803827751196173\n"
     ]
    }
   ],
   "source": [
    "import pandas as pd\n",
    "from sklearn.datasets import make_classification\n",
    "from sklearn.linear_model import SGDClassifier\n",
    "from sklearn.metrics import confusion_matrix, precision_score, recall_score, f1_score\n",
    "from sklearn.model_selection import train_test_split, cross_val_predict\n",
    "\n",
    "X, y = make_classification(n_samples=1000, n_features=10, n_informative=3, n_classes=2, random_state=42)\n",
    "\n",
    "X_train, X_test, y_train, y_test = train_test_split(X, y, shuffle=True, train_size=0.8, random_state=42)\n",
    "\n",
    "\n",
    "sgdc_clf = SGDClassifier(random_state=42)\n",
    "sgdc_clf.fit(X_train, y_train)\n",
    "\n",
    "y_train_pred = cross_val_predict(sgdc_clf, X_train, y_train, cv=3)\n",
    "\n",
    "cm = confusion_matrix(y_train, y_train_pred)\n",
    "\n",
    "conf_matrix = pd.DataFrame(cm, index=[\"Actual Class 0\", \"Actual Class 1\"], columns=[\"Predicted Class 0\", \"Predicted Class 1\"])\n",
    "\n",
    "display(conf_matrix)\n",
    "print(\"Score du recall : \", recall_score(y_train, y_train_pred))\n",
    "print(\"Score de la precision : \", precision_score(y_train, y_train_pred))\n",
    "print(\"Score F1 : \", f1_score(y_train, y_train_pred))\n",
    "\n",
    "y_scores = cross_val_predict(sgdc_clf, y_train, y_train_pred)"
   ]
  }
 ],
 "metadata": {
  "kernelspec": {
   "display_name": ".venv",
   "language": "python",
   "name": "python3"
  },
  "language_info": {
   "codemirror_mode": {
    "name": "ipython",
    "version": 3
   },
   "file_extension": ".py",
   "mimetype": "text/x-python",
   "name": "python",
   "nbconvert_exporter": "python",
   "pygments_lexer": "ipython3",
   "version": "3.10.12"
  }
 },
 "nbformat": 4,
 "nbformat_minor": 2
}
