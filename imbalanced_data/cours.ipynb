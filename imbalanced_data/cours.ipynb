{
 "cells": [
  {
   "cell_type": "code",
   "execution_count": 1,
   "id": "3a675e86-7f1c-4fc3-96cb-0eacd7429a6a",
   "metadata": {},
   "outputs": [],
   "source": [
    "from collections import Counter\n",
    "\n",
    "import matplotlib.pyplot as plt\n",
    "import numpy as np\n",
    "from sklearn.datasets import make_classification"
   ]
  },
  {
   "cell_type": "code",
   "execution_count": 18,
   "id": "1d7c10d2-e967-4278-a0a3-3d9e3a2a9eda",
   "metadata": {},
   "outputs": [],
   "source": [
    "def plot_dataset(X: np.array, y: np.array) -> None:\n",
    "    \"\"\"Create scatter plot for samples from each class\"\"\"\n",
    "    n_classes = len(np.unique(y))\n",
    "    class_counts = np.unique(y, return_counts=True)[1]\n",
    "    class_ratios = class_counts = class_counts / len(y)\n",
    "    for class_value in range(n_classes):\n",
    "        # get row indexes for samples with this class\n",
    "        row_ix = np.where(y == class_value)[0]\n",
    "        # create scatter of these samples\n",
    "        plt.scatter(X[row_ix, 0], X[row_ix, 1], label=str(class_value))\n",
    "    # Create title with class ratios\n",
    "    title = \"Class Ratios: \" + \", \".join([f\"{i}: {ratio:.3f}\" for i, ratio in enumerate(class_ratios)])\n",
    "    plt.title(title, size=\"x-large\", weight=\"bold\", c=\"b\")\n",
    "    # show a legend\n",
    "    plt.legend(loc=\"best\")\n",
    "    # show the plot\n",
    "    plt.show()"
   ]
  },
  {
   "cell_type": "markdown",
   "id": "1f885171-9a37-450d-9762-9951b3d9dd9f",
   "metadata": {},
   "source": [
    "# La Classification Déséquilibrée"
   ]
  },
  {
   "cell_type": "markdown",
   "id": "a2bd7c25-ce4c-40d7-a245-b5e8f6448da0",
   "metadata": {},
   "source": [
    "> **PLAN**\n",
    ">\n",
    "> 1. Plan\n",
    "> 2. Fondamentaux\n",
    "> 3. Considérations sur les métriques\n",
    "> 4. Stratification\n",
    "> 5. Pondération\n",
    "> 6. Echantillonnage"
   ]
  },
  {
   "cell_type": "markdown",
   "id": "9ba60e7d-9408-4cc8-8093-7d9db99847df",
   "metadata": {},
   "source": [
    "# Fondamentaux"
   ]
  },
  {
   "cell_type": "markdown",
   "id": "39f3eaaf-7504-40b3-90dc-c629b3b4ca80",
   "metadata": {
    "jp-MarkdownHeadingCollapsed": true
   },
   "source": [
    "## Définition"
   ]
  },
  {
   "cell_type": "markdown",
   "id": "88dd93ee-29c1-4916-b3f0-f0edca546a08",
   "metadata": {},
   "source": [
    "On parle de *classification déséquilibrée* quand on a un problème de classification pour lequel il y a **une répartition qui n'est pas uniforme/équilibrée des classes de la *target* dans le dataset**."
   ]
  },
  {
   "cell_type": "markdown",
   "id": "3257bce8-2aed-48dc-853f-d102e5231330",
   "metadata": {},
   "source": [
    "> **Exemple**\n",
    ">\n",
    "> On collecte des caractéristiques de fleurs et on a 80 exemples d'une première espèce et 20 d'une seconde espèce."
   ]
  },
  {
   "cell_type": "markdown",
   "id": "2d740760-a43a-4adf-8d77-ceb38107512d",
   "metadata": {
    "jp-MarkdownHeadingCollapsed": true
   },
   "source": [
    "## Causes"
   ]
  },
  {
   "cell_type": "markdown",
   "id": "966544e4-d72e-4c66-9b0f-f0881d0e960a",
   "metadata": {},
   "source": [
    "Cela peut être dû à:\n",
    "\n",
    "- un **échantillonage biaisé** (recueil des données dans des circonstances particulières, géographiques ou temporelles)\n",
    "- des **erreurs de mesure ou de saisie** (coquilles ou erreur de report des classes),\n",
    "- une **prédominance *\"naturelle\"* d'une ou plusieurs classes** (détection de pathologies, par exemple)."
   ]
  },
  {
   "cell_type": "markdown",
   "id": "d1c54cfa-1d87-4fe3-8026-e72f360c88fa",
   "metadata": {
    "jp-MarkdownHeadingCollapsed": true
   },
   "source": [
    "## Terminologie"
   ]
  },
  {
   "cell_type": "markdown",
   "id": "e5772fc1-62c4-4f5c-b390-8af07db88ac6",
   "metadata": {},
   "source": [
    "> **RATIO**\n",
    ">\n",
    "> On décrit souvent le déséquilibre à l'aide d'un ratio:\n",
    "> - $20:80$ dans l'exemple précédent,\n",
    "> - $1: 99$ dans un exemple encore plus déséquilibré."
   ]
  },
  {
   "cell_type": "markdown",
   "id": "b2aaa3b9-ed77-4695-a8a6-2fe082ed2917",
   "metadata": {},
   "source": [
    "> **Types de déséquilibre**\n",
    "> - <font color=\"green\">**léger**: inférieur à $1:4$ 👉 **Souvent pas un problème**</font>\n",
    "> - <font color=\"orange\">**important**: entre $1:4$ et $1:100$ compris ☝️ **Peut être challengeant pour le modèle**</font>\n",
    "> - <font color=\"tomato\">**sévère**: inférieur à $1:100$  ⚠️ **Va requérir des techniques spéciales**</font>"
   ]
  },
  {
   "cell_type": "markdown",
   "id": "390591b4-7830-472f-908b-079cd6b49287",
   "metadata": {},
   "source": [
    "> **Pour les classes** (cas binaire)\n",
    ">\n",
    "> On parlera de:\n",
    "> - classe **majoritaire**, étiquetée $0$\n",
    "> - classe **minoritaire**, étiquetée $1$"
   ]
  },
  {
   "cell_type": "markdown",
   "id": "4f9a2769-8e6f-4037-83f0-010647e2a7e7",
   "metadata": {
    "jp-MarkdownHeadingCollapsed": true
   },
   "source": [
    "## ☝️ Le Challenge"
   ]
  },
  {
   "cell_type": "markdown",
   "id": "86400a61-c4c0-4311-bdf4-ef37456b6a03",
   "metadata": {},
   "source": [
    "> 👉 **Souvent, c'est la classe minoritaire qui présente le plus d'intérêt**.\n",
    "> \n",
    "> Or, elle est **plus difficile à prédire**, dans la mesure où **il y a moins d'exemples de cette classe** et que **c'est donc plus challengeant pour le modèle**:\n",
    "> - **d'apprendre les caractéristiques de cette classe**,\n",
    "> - **de différencier les exemples de cette classe de ceux de la ou des classes majoritaires**."
   ]
  },
  {
   "cell_type": "markdown",
   "id": "8e6c2f38-501b-45ac-9578-32cb4566be82",
   "metadata": {},
   "source": [
    "## Quelques Cas Réels"
   ]
  },
  {
   "cell_type": "markdown",
   "id": "69a201d1-4264-4b07-97b4-e7bd5d195046",
   "metadata": {},
   "source": [
    "- Détection de fraude\n",
    "- Prédiction de réclamation\n",
    "- Prédiction de désabonnement\n",
    "- Détection de spam\n",
    "- Détection d'anomalie\n",
    "- Détection d'outlier\n",
    "- Détection d'intrusion\n",
    "- Détection de pathologie rare"
   ]
  },
  {
   "cell_type": "markdown",
   "id": "a9255d04-62b4-40db-92f5-a88f5710b3f8",
   "metadata": {
    "jp-MarkdownHeadingCollapsed": true
   },
   "source": [
    "## Effets Aggravants"
   ]
  },
  {
   "cell_type": "markdown",
   "id": "5334a478-7f61-41bd-949a-c8e80e82cdf0",
   "metadata": {},
   "source": [
    "- la taille du dataset (*Plus d'exemples est souhaitable*),\n",
    "- le *\"bruit\"* parmi les labels,\n",
    "- la distribution des labels (au sens *clusters*)"
   ]
  },
  {
   "cell_type": "markdown",
   "id": "fb5aad87-8930-4b25-8931-13479c819fc6",
   "metadata": {},
   "source": [
    "# Considérations sur les métriques"
   ]
  },
  {
   "cell_type": "markdown",
   "id": "16eba7f8-d25e-45c3-8252-c23344dcad7b",
   "metadata": {},
   "source": [
    "## Non-pertinence de l'*accuracy*"
   ]
  },
  {
   "cell_type": "markdown",
   "id": "2fe103e9-c55c-4209-879f-3801d12a0ac8",
   "metadata": {},
   "source": [
    "## ❌ Diagnostiquer un Modèle / Comparer des modèles"
   ]
  },
  {
   "cell_type": "markdown",
   "id": "b5267cff-796b-415b-afa4-a05a302380c8",
   "metadata": {},
   "source": [
    "- La *courbe ROC* est un bon **outil de diagnostic individuel de modèle**.\n",
    "- Le *score AUC* permet de **comparer des modèles**, le score $F_1$ dans une moindre mesure."
   ]
  },
  {
   "cell_type": "markdown",
   "id": "666899e2-d104-4a92-9a16-3ed168d93663",
   "metadata": {},
   "source": [
    "```python\n",
    "# Implémentations\n",
    "from sklearn.metrics import auc, roc_auc_score, roc_curve\n",
    "```"
   ]
  },
  {
   "cell_type": "markdown",
   "id": "282c3c8f-651c-4aef-af93-ae2526cd1f2f",
   "metadata": {},
   "source": [
    "## Compromis *Precision/Recall*"
   ]
  },
  {
   "cell_type": "markdown",
   "id": "ef9572af-b5b7-4f1f-a44f-6c1bfceae353",
   "metadata": {},
   "source": [
    "### Fréquemment..."
   ]
  },
  {
   "cell_type": "markdown",
   "id": "c94fb660-44c8-4bd8-be71-4938c85f369f",
   "metadata": {},
   "source": [
    "Pour ce type de problème, **les erreurs de type II (*Faux Négatif* (FN)) sont pires que les erreurs de type I (*Faux Positif* (FP))**."
   ]
  },
  {
   "cell_type": "markdown",
   "id": "05454294-7db4-450a-9d49-4cb95e8d73f4",
   "metadata": {},
   "source": [
    "### Exemples"
   ]
  },
  {
   "cell_type": "markdown",
   "id": "d6e7af25-7046-4fcf-88dc-f0438828e70e",
   "metadata": {},
   "source": [
    "> **Prêt Bancaire**\n",
    ">\n",
    "> <font color=\"orange\">**Refuser un prêt à un bon client**</font>\n",
    ">\n",
    "> VS\n",
    ">\n",
    "> <font color=\"tomato\">**Accorder un prêt à un mauvais client qui risque de ne jamais le rembourser**</font>\n",
    "> <hr/>\n",
    ">\n",
    "> **Diagnostic du Cancer**\n",
    ">\n",
    "> <font color=\"orange\">**Diagnostiquer un cancer chez un patient en bonne santé et effectuer des tests médicaux supplémentaires**</font>\n",
    ">\n",
    "> VS\n",
    ">\n",
    "> <font color=\"tomato\">**Laisser partir un patient atteint d'un cancer**</font>\n",
    "> <hr/>\n",
    ">\n",
    "> **Détection de Fraude**\n",
    ">\n",
    "> <font color=\"orange\">**Identifier les bonnes demandes d'indemnisation comme frauduleuses et assurer le suivi avec le client**</font>\n",
    "> \n",
    "> VS\n",
    "> \n",
    "> <font color=\"tomato\">**Honorer les demandes d'indemnisation frauduleuses**</font>"
   ]
  },
  {
   "cell_type": "markdown",
   "id": "3a3ae5ba-7897-4add-aa03-f341aa7cd9a9",
   "metadata": {},
   "source": [
    "👉 On va donc majoritairement chercher à **maximiser le *recall***..."
   ]
  },
  {
   "cell_type": "markdown",
   "id": "4eeee212-3fdc-4d51-a8d8-438b66fa25ab",
   "metadata": {},
   "source": [
    "☝️ Mais **à quel prix de précision?**"
   ]
  },
  {
   "cell_type": "markdown",
   "id": "d5bc773d-1452-43f7-b306-757b0cbe1d19",
   "metadata": {},
   "source": [
    "⚠️ **Un arbitrage sera nécessaire**"
   ]
  },
  {
   "cell_type": "markdown",
   "id": "53f74019-d8b3-4621-9f13-dc561b4eab91",
   "metadata": {},
   "source": [
    "## Outils d'arbitrage"
   ]
  },
  {
   "cell_type": "markdown",
   "id": "c9c043cc-87d9-4dc0-9d93-80d0540f2d23",
   "metadata": {},
   "source": [
    "### Courbe *Precision/Recall*"
   ]
  },
  {
   "cell_type": "markdown",
   "id": "798926dd-2438-4598-8ed9-e92c3737254c",
   "metadata": {},
   "source": [
    "```python\n",
    "# Implémentation\n",
    "from sklearn.metrics import precision_recall_curve\n",
    "```"
   ]
  },
  {
   "cell_type": "code",
   "execution_count": null,
   "id": "115ef2d4-2c70-4424-8cd9-bad87676104e",
   "metadata": {},
   "outputs": [],
   "source": []
  },
  {
   "cell_type": "markdown",
   "id": "f311ca85-41ab-4c21-badb-c0d8d712dc5f",
   "metadata": {},
   "source": [
    "### $F-mesures$"
   ]
  },
  {
   "cell_type": "markdown",
   "id": "f4da6794-31ab-45a8-9045-4e6d2098737d",
   "metadata": {},
   "source": [
    "### ❌ $F_1$ Macro et Micro"
   ]
  },
  {
   "cell_type": "markdown",
   "id": "1a75b988-a15b-4463-951f-131671531ad2",
   "metadata": {},
   "source": [
    "```python\n",
    "# Implémentations\n",
    "from sklearn.metrics import classification_report, f1_score\n",
    "```"
   ]
  },
  {
   "cell_type": "code",
   "execution_count": null,
   "id": "1da92c5a-d648-4245-b2ee-3b96515a6c59",
   "metadata": {},
   "outputs": [],
   "source": []
  },
  {
   "cell_type": "code",
   "execution_count": null,
   "id": "a5f2155b-8ab3-4ce1-84a6-0de003512002",
   "metadata": {},
   "outputs": [],
   "source": []
  },
  {
   "cell_type": "markdown",
   "id": "189db5a2-fbdc-40eb-9117-0d5e9e961e0c",
   "metadata": {},
   "source": [
    "### $F_{\\beta}$"
   ]
  },
  {
   "cell_type": "markdown",
   "id": "647cd630-e699-4665-8ea9-3d947afea91d",
   "metadata": {},
   "source": [
    "On peut utiliser une **version corrigée du $F_1$ score**, afin de **favoriser l'une des deux métriques antagonistes**, en contrôlant l'équilibre de ces mesures à l'aide d'un paramètre $\\beta$."
   ]
  },
  {
   "cell_type": "markdown",
   "id": "f38fa1c5-c98d-4bdc-9190-5e1443f2ea34",
   "metadata": {},
   "source": [
    "$$\\large F_{\\beta} = \\frac{(1 + \\beta^2) \\times Precision \\times Recall}{\\beta^2 \\times Precision + Recall}$$"
   ]
  },
  {
   "cell_type": "markdown",
   "id": "d000e4be-7bac-49b1-86aa-3ab30d8e7d8f",
   "metadata": {},
   "source": [
    "Pour certains problèmes, nous pourrions être intéressés par **un $F_{\\beta}$ score accordant plus d'attention à la *précision***, par exemple lorsque\n",
    "- il est plus important de minimiser les *faux positifs* (FP),\n",
    "- mais que les *faux négatifs* (FN) restent importants.\n",
    "\n",
    "Inversement, sur d'autres problèmes, nous pourrions être intéressés par **un $F_{\\beta}$ score accordant plus d'attention au *rappel***, par exemple lorsque:\n",
    "- il est plus important de mémoriser les *faux négatifs* (FN),\n",
    "- mais que les *faux positifs* (FP) restent importants."
   ]
  },
  {
   "cell_type": "markdown",
   "id": "c0925803-9b3f-4d89-853b-3c2072840ef2",
   "metadata": {},
   "source": [
    "Il y a trois valeurs communes pour le paramètre $\\beta$:\n",
    "- *$F_{0.5}$*: plus de poids sur la *précision*, moins de poids sur le *rappel*,\n",
    "- *$F_1$*: autant de poids pour les deux métriques,\n",
    "- *$F_2$*: moins de poids sur la *précision*, plus de poids sur le *rappel*."
   ]
  },
  {
   "cell_type": "markdown",
   "id": "63ca8b96-c9e8-429b-b57b-ebc8a4567905",
   "metadata": {},
   "source": [
    "```python\n",
    "from sklearn.metrics import fbeta_score\n",
    "```"
   ]
  },
  {
   "cell_type": "markdown",
   "id": "e5be9026-294d-4838-b5fe-5c10fe202fea",
   "metadata": {},
   "source": [
    "## 🔎 Choisir une métrique d'évaluation"
   ]
  },
  {
   "cell_type": "markdown",
   "id": "719d6225-9a27-4922-bdda-abfd2b827c12",
   "metadata": {},
   "source": [
    "<img src=\"https://i.ibb.co/b5qqNWM/Choosing-metric.png\" alt=\"Choosing-metric\" border=\"0\">"
   ]
  },
  {
   "cell_type": "markdown",
   "id": "277ea025-4183-4398-9552-4978c47910bd",
   "metadata": {},
   "source": [
    "# Stratification"
   ]
  },
  {
   "cell_type": "code",
   "execution_count": 2,
   "id": "5612255d-6797-4322-a8c7-b5f3bf34aba5",
   "metadata": {},
   "outputs": [
    {
     "name": "stdout",
     "output_type": "stream",
     "text": [
      "> Class=0 : 990/1000 99.0 %\n",
      "> Class=1 : 10/1000 1.0 %\n"
     ]
    }
   ],
   "source": [
    "# generate 2 class dataset\n",
    "X, y = make_classification(n_samples=1000, n_classes=2, weights=[0.99, 0.01], flip_y=0, random_state=1)\n",
    "# summarize dataset\n",
    "classes = np.unique(y)\n",
    "total = len(y)\n",
    "for c in classes:\n",
    "\tn_examples = len(y[y==c])\n",
    "\tpercent = n_examples / total * 100\n",
    "\tprint(f'> Class={c} : {n_examples}/{total} {percent:.1f} %')"
   ]
  },
  {
   "cell_type": "markdown",
   "id": "f20e0faf-b994-4484-a0cb-9803c72c6d1f",
   "metadata": {},
   "source": [
    "## Du Hold-Out"
   ]
  },
  {
   "cell_type": "markdown",
   "id": "86e60ac8-17ce-45b7-915f-6ac2782af08c",
   "metadata": {},
   "source": [
    "### Sans Stratification"
   ]
  },
  {
   "cell_type": "code",
   "execution_count": 30,
   "id": "1eae9475-0557-4d21-88a4-c479d90b969f",
   "metadata": {},
   "outputs": [
    {
     "name": "stdout",
     "output_type": "stream",
     "text": [
      ">Train: 0=4957, 1=43, Test: 0=4943, 1=57\n"
     ]
    }
   ],
   "source": [
    "from sklearn.model_selection import train_test_split\n",
    "\n",
    "\n",
    "X_train, X_test, y_train, y_test = train_test_split(X, y, test_size=0.5, random_state=2)\n",
    "# summarize\n",
    "train_0, train_1 = len(y_train[y_train==0]), len(y_train[y_train==1])\n",
    "test_0, test_1 = len(y_test[y_test==0]), len(y_test[y_test==1])\n",
    "print('>Train: 0=%d, 1=%d, Test: 0=%d, 1=%d' % (train_0, train_1, test_0, test_1))"
   ]
  },
  {
   "cell_type": "markdown",
   "id": "2f897f83-267d-4aa9-9208-0a035d932cad",
   "metadata": {},
   "source": [
    "Avec une classe minoritaire (et un nombre d'exemples assez restreints, le hasard peut contribuer à produire un *train set* et un *test set* différents en termes de répartition de la *target*"
   ]
  },
  {
   "cell_type": "markdown",
   "id": "7df3a67c-3a93-47d6-9791-234bc6b37442",
   "metadata": {},
   "source": [
    "### Stratification avec `stratify=y`"
   ]
  },
  {
   "cell_type": "code",
   "execution_count": 12,
   "id": "82e645ba-c16f-423b-8b0d-4c23f7609e17",
   "metadata": {},
   "outputs": [
    {
     "name": "stdout",
     "output_type": "stream",
     "text": [
      ">Train: 0=495, 1=5, Test: 0=495, 1=5\n"
     ]
    }
   ],
   "source": [
    "X_train, X_test, y_train, y_test = train_test_split(X, y,\n",
    "                                                    test_size=0.5, random_state=2,\n",
    "                                                    stratify=y)  # <= ONLY CHANGE\n",
    "# summarize\n",
    "train_0, train_1 = len(y_train[y_train==0]), len(y_train[y_train==1])\n",
    "test_0, test_1 = len(y_test[y_test==0]), len(y_test[y_test==1])\n",
    "print('>Train: 0=%d, 1=%d, Test: 0=%d, 1=%d' % (train_0, train_1, test_0, test_1))"
   ]
  },
  {
   "cell_type": "markdown",
   "id": "35cbb2dd-ae6a-4865-a9de-6fa2de10e1fe",
   "metadata": {},
   "source": [
    "## De la Cross-Validation"
   ]
  },
  {
   "cell_type": "markdown",
   "id": "94e069ad-f79d-485f-bad3-abb48411b96b",
   "metadata": {},
   "source": [
    "### Cross-Validation Classique (avec `KFold`)"
   ]
  },
  {
   "cell_type": "code",
   "execution_count": 29,
   "id": "499e7f42-d231-490d-9f52-96d1b526d605",
   "metadata": {},
   "outputs": [
    {
     "name": "stdout",
     "output_type": "stream",
     "text": [
      ">Train: 0=7915, 1=85, Test: 0=1985, 1=15\n",
      ">Train: 0=7924, 1=76, Test: 0=1976, 1=24\n",
      ">Train: 0=7918, 1=82, Test: 0=1982, 1=18\n",
      ">Train: 0=7920, 1=80, Test: 0=1980, 1=20\n",
      ">Train: 0=7923, 1=77, Test: 0=1977, 1=23\n"
     ]
    }
   ],
   "source": [
    "from sklearn.model_selection import KFold\n",
    "\n",
    "\n",
    "kfold = KFold(n_splits=5, shuffle=True, random_state=1)\n",
    "# enumerate the splits and summarize the distributions\n",
    "for train_ix, test_ix in kfold.split(X):\n",
    "\t# select rows\n",
    "\tX_train, X_test = X[train_ix], X[test_ix]\n",
    "\ty_train, y_test = y[train_ix], y[test_ix]\n",
    "\t# summarize train and test composition\n",
    "\ttrain_0, train_1 = len(y_train[y_train==0]), len(y_train[y_train==1])\n",
    "\ttest_0, test_1 = len(y_test[y_test==0]), len(y_test[y_test==1])\n",
    "\tprint(f'>Train: 0={train_0}, 1={train_1}, Test: 0={test_0}, 1={test_1}')"
   ]
  },
  {
   "cell_type": "markdown",
   "id": "5056266d-e20b-440e-bb7b-91236f1d58d3",
   "metadata": {},
   "source": [
    "😱 Malheureusement, le hasard a fait que le *test set* du fold 4 **ne contient AUCUN représentant de la classe minoritaire**."
   ]
  },
  {
   "cell_type": "markdown",
   "id": "a90b2a3b-4162-41a1-9639-0a9039f65680",
   "metadata": {},
   "source": [
    "### Cross-Validation Stratifiée (`StratifiedKFold`)"
   ]
  },
  {
   "cell_type": "code",
   "execution_count": 28,
   "id": "4325cbd6-9a8d-447e-9d4e-6e2c113ba90d",
   "metadata": {},
   "outputs": [
    {
     "name": "stdout",
     "output_type": "stream",
     "text": [
      ">Train: 0=7920, 1=80, Test: 0=1980, 1=20\n",
      ">Train: 0=7920, 1=80, Test: 0=1980, 1=20\n",
      ">Train: 0=7920, 1=80, Test: 0=1980, 1=20\n",
      ">Train: 0=7920, 1=80, Test: 0=1980, 1=20\n",
      ">Train: 0=7920, 1=80, Test: 0=1980, 1=20\n"
     ]
    }
   ],
   "source": [
    "from sklearn.model_selection import StratifiedKFold\n",
    "\n",
    "\n",
    "# ⬇️ THE ONLY CHANGE IS THE FOLLOWING LINE\n",
    "kfold = StratifiedKFold(n_splits=5, shuffle=True, random_state=1)\n",
    "# enumerate the splits and summarize the distributions\n",
    "for train_ix, test_ix in kfold.split(X, y):\n",
    "\t# select rows\n",
    "\tX_train, X_test = X[train_ix], X[test_ix]\n",
    "\ty_train, y_test = y[train_ix], y[test_ix]\n",
    "\t# summarize train and test composition\n",
    "\ttrain_0, train_1 = len(y_train[y_train==0]), len(y_train[y_train==1])\n",
    "\ttest_0, test_1 = len(y_test[y_test==0]), len(y_test[y_test==1])\n",
    "\tprint('>Train: 0=%d, 1=%d, Test: 0=%d, 1=%d' % (train_0, train_1, test_0, test_1))"
   ]
  },
  {
   "cell_type": "markdown",
   "id": "5d4df6cd-38bb-43ef-8677-b0f595b51c3d",
   "metadata": {},
   "source": [
    "### ❌ Cross-Validation Répétée et Stratifiée (`RepeatedStratifiedKFold`)"
   ]
  },
  {
   "cell_type": "markdown",
   "id": "c73b20de-d04f-4ae4-9d67-0721e8a3e89a",
   "metadata": {},
   "source": [
    "<font color=\"tomato\">**Plus robuste: A EXPLIQUER**</font>"
   ]
  },
  {
   "cell_type": "markdown",
   "id": "875aff3c-9dc5-41e1-88bc-cc9bb4fdb612",
   "metadata": {},
   "source": [
    "# Pondération"
   ]
  },
  {
   "cell_type": "markdown",
   "id": "fcefa6b1-c292-41a6-94e0-a0aa34fc6285",
   "metadata": {},
   "source": [
    "Cette partie met à profit des fonctions de Scikit-Learn permettant de **pondére**:\n",
    "- **les classes de la *target***\n",
    "- **chaque observation**\n",
    "\n",
    "en vue, éventuellement, de limiter leur influence."
   ]
  },
  {
   "cell_type": "code",
   "execution_count": 45,
   "id": "c1d685c1-3f13-4430-a6fb-d9cdf3cb6886",
   "metadata": {},
   "outputs": [],
   "source": [
    "X, y = make_classification(n_samples=1000, n_features=2, n_redundant=0,\n",
    "                           n_clusters_per_class=1, weights=[0.95, 0.05],\n",
    "                           class_sep=2, random_state=42)"
   ]
  },
  {
   "cell_type": "code",
   "execution_count": 46,
   "id": "8080ba9b-c96f-4dff-9289-3b5692d77bd4",
   "metadata": {},
   "outputs": [
    {
     "data": {
      "image/png": "[encoded data removed]",
      "text/plain": [
       "<Figure size 640x480 with 1 Axes>"
      ]
     },
     "metadata": {},
     "output_type": "display_data"
    }
   ],
   "source": [
    "plot_dataset(X, y)"
   ]
  },
  {
   "cell_type": "code",
   "execution_count": 56,
   "id": "571ace5e-72ca-448b-9e28-dd99f834fb6d",
   "metadata": {},
   "outputs": [],
   "source": [
    "from sklearn.linear_model import LogisticRegression\n",
    "from sklearn.metrics import roc_auc_score"
   ]
  },
  {
   "cell_type": "code",
   "execution_count": 64,
   "id": "524ae27a-e1cc-444e-b6ae-1c98d9265a48",
   "metadata": {},
   "outputs": [],
   "source": [
    "X_train, X_test, y_train, y_test = train_test_split(X, y,\n",
    "                                                    test_size=0.2,\n",
    "                                                    random_state=42,\n",
    "                                                    stratify=y\n",
    "                                                   )"
   ]
  },
  {
   "cell_type": "markdown",
   "id": "1a8f2ed3-1b13-41c8-a22e-331bc88a66f2",
   "metadata": {},
   "source": [
    "## Sans pondération"
   ]
  },
  {
   "cell_type": "code",
   "execution_count": 65,
   "id": "bcdb8973-0f30-4dd6-a174-921e04e8ae7f",
   "metadata": {},
   "outputs": [
    {
     "name": "stdout",
     "output_type": "stream",
     "text": [
      "Mean ROC AUC on train: 0.961\n",
      "ROC AUC on test: 0.885\n"
     ]
    }
   ],
   "source": [
    "model = LogisticRegression()\n",
    "\n",
    "cv = RepeatedStratifiedKFold(n_splits=10, n_repeats=3, random_state=1)\n",
    "scores = cross_val_score(model,\n",
    "                         X_train, y_train,\n",
    "                         scoring=\"roc_auc\",\n",
    "                         cv=cv,\n",
    "                         n_jobs=-1)\n",
    "print(f'Mean ROC AUC on train: {np.mean(scores):.3f}')\n",
    "\n",
    "model.fit(X_train, y_train)\n",
    "\n",
    "y_probs = model.predict_proba(X_test)[:, 1]  # Get probabilities for the positive class\n",
    "\n",
    "auc_test = roc_auc_score(y_test, y_probs)\n",
    "print(f\"ROC AUC on test: {auc_test:.3f}\")"
   ]
  },
  {
   "cell_type": "markdown",
   "id": "9c4a55c9-837a-4992-b373-4aaa59f5b101",
   "metadata": {},
   "source": [
    "## Avec pondération"
   ]
  },
  {
   "cell_type": "code",
   "execution_count": 75,
   "id": "134182b2-1db2-4da7-898f-e71076730b01",
   "metadata": {},
   "outputs": [
    {
     "name": "stdout",
     "output_type": "stream",
     "text": [
      "Mean ROC AUC on train: 0.956\n",
      "ROC AUC on test: 0.806\n"
     ]
    }
   ],
   "source": [
    "from sklearn.utils.class_weight import compute_class_weight\n",
    "\n",
    "\n",
    "class_weights = compute_class_weight(\"balanced\", classes=np.unique(y_train), y=y_train)\n",
    "class_weights_dict = {k: class_weights[k] for k in (0, 1)}\n",
    "\n",
    "model = LogisticRegression(class_weight=class_weights_dict)\n",
    "\n",
    "cv = RepeatedStratifiedKFold(n_splits=10, n_repeats=3, random_state=1)\n",
    "scores = cross_val_score(model,\n",
    "                         X_train, y_train,\n",
    "                         scoring=\"roc_auc\",\n",
    "                         cv=cv,\n",
    "                         n_jobs=-1)\n",
    "print(f'Mean ROC AUC on train: {np.mean(scores):.3f}')\n",
    "\n",
    "model.fit(X_train, y_train)\n",
    "\n",
    "y_probs = model.predict_proba(X_test)[:, 1]  # Get probabilities for the positive class\n",
    "\n",
    "auc_test = roc_auc_score(y_test, y_probs)\n",
    "print(f\"ROC AUC on test: {auc_test:.3f}\")"
   ]
  },
  {
   "cell_type": "code",
   "execution_count": null,
   "id": "4b5fca67-8b9d-4a9a-884d-ab1dd38a99f5",
   "metadata": {},
   "outputs": [],
   "source": []
  },
  {
   "cell_type": "code",
   "execution_count": null,
   "id": "b6b3f218-e787-4688-8daa-641e9c7596bc",
   "metadata": {},
   "outputs": [],
   "source": []
  },
  {
   "cell_type": "code",
   "execution_count": null,
   "id": "f520442f-a0d0-4af8-8ceb-6764ec4558d7",
   "metadata": {},
   "outputs": [],
   "source": []
  },
  {
   "cell_type": "markdown",
   "id": "89b334f2-292e-4ccf-8bb5-88f2ea2abc20",
   "metadata": {},
   "source": [
    "# Echantillonnage Basique"
   ]
  },
  {
   "cell_type": "markdown",
   "id": "e8ca0761-1e5c-42c6-a4e4-8620a6539044",
   "metadata": {},
   "source": [
    "## Définition"
   ]
  },
  {
   "cell_type": "markdown",
   "id": "b6464e49-0ce5-49c1-b43d-b1c8b4e6746e",
   "metadata": {},
   "source": [
    "> L'***échantillonnage des données*** (*Data Sampling*) consiste à créer une nouvelle version transformée de l'ensemble de données de formation **dans laquelle les exemples sélectionnés ont une distribution de classe différente**.\n",
    "> \n",
    "> Il s'agit d'une stratégie simple et efficace pour les problèmes de classification déséquilibrée."
   ]
  },
  {
   "cell_type": "markdown",
   "id": "0f590b6e-7068-46c6-84ee-3cd9394c3fa3",
   "metadata": {},
   "source": [
    "## Deux Stratégies"
   ]
  },
  {
   "cell_type": "markdown",
   "id": "01c72106-8519-4285-8035-132ee71588aa",
   "metadata": {},
   "source": [
    "> ⬆️ Le ***suréchantillonnage*** (*Oversampling*) ***aléatoire*** consiste à:\n",
    "> - **sélectionner au hasard** des exemples de la classe **minoritaire**, **avec remplacement**,\n",
    "> - à les **ajouter** à l'ensemble de données d'**entraînement**.\n",
    "\n",
    "> </hr>\n",
    "> \n",
    "> ⬇️ Le ***sous-échantillonnage*** (*Undersampling*) ***aléatoire*** consiste à:\n",
    "> - **sélectionner au hasard** des exemples de la classe **majoritaire**,\n",
    "> - les **supprimer** de l'ensemble de données d'**entraînement**."
   ]
  },
  {
   "cell_type": "markdown",
   "id": "ff409bfc-81a4-40d3-90b0-3652d957a9d0",
   "metadata": {},
   "source": [
    "Dans les deux cas, **le processus se poursuit itérativement jusqu'à ce qu'une distribution plus équilibrée soit atteinte** dans les données d'entraînement, par exemple une répartion égale entre les classes."
   ]
  },
  {
   "cell_type": "markdown",
   "id": "6f236c81-e7de-4abb-b473-0e638f8254d5",
   "metadata": {},
   "source": [
    "## Avantages"
   ]
  },
  {
   "cell_type": "markdown",
   "id": "2c14bef5-8f6c-40b1-a9df-28bdecfc828c",
   "metadata": {},
   "source": [
    "> Ce sont des algorithmes \"naïfs\", car:\n",
    "> - ne supposent rien sur les données,\n",
    "> - n'utilisent aucune heuristique.\n",
    "> \n",
    "> Par conséquent, leur mise en oeuvre est:\n",
    "> - facile,\n",
    "> - rapide."
   ]
  },
  {
   "cell_type": "markdown",
   "id": "b00488a4-1c86-4e1b-8257-4c0cf0942e72",
   "metadata": {},
   "source": [
    "### Limites"
   ]
  },
  {
   "cell_type": "markdown",
   "id": "1d6d023e-33d4-408a-a3a6-e0ed17d5e06f",
   "metadata": {},
   "source": [
    "> **Il peut être utile d'ajuster la distribution de la classe cible**.\n",
    "> \n",
    "> Dans certains cas, la recherche d'une distribution équilibrée, pour un ensemble de données fortement déséquilibré, **peut amener les algorithmes concernés à overfitter sur la classe minoritaire, ce qui accroît l'erreur de généralisation**.\n",
    "> \n",
    "> L'effet peut ainsi être une meilleure performance sur l'ensemble de données d'entraînement, mais de moins bonnes performances sur l'ensemble de données de test."
   ]
  },
  {
   "cell_type": "markdown",
   "id": "0a5834c2-3864-4202-8d3b-26ef19321912",
   "metadata": {},
   "source": [
    "### Evaluation"
   ]
  },
  {
   "cell_type": "markdown",
   "id": "59031044-0b7c-419a-8278-5d72c2635568",
   "metadata": {},
   "source": [
    "> Pour avoir un aperçu de l'impact de la méthode, il est judicieux de:\n",
    "> - **surveiller les performances sur les ensembles de données d'entraînement et de test après le suréchantillonnage** et de\n",
    "> - **comparer les résultats avec ceux sans la méthode de suréchantillonnage, avec les données d'entraînement d'origine**.\n",
    "> \n",
    "> L'augmentation du nombre d'exemples pour la classe minoritaire, en particulier si l'asymétrie des classes était importante, peut également entraîner une **augmentation de calcul lors de l'ajustement du modèle**, surtout si l'on considère que le modèle voit les mêmes exemples dans l'ensemble de données d'apprentissage."
   ]
  },
  {
   "cell_type": "markdown",
   "id": "2746aec4-f9c9-48ef-898f-47fd4a173749",
   "metadata": {},
   "source": [
    "## Oversampling (*sur-échantillonnage*)"
   ]
  },
  {
   "cell_type": "markdown",
   "id": "297e4c6a-f9b6-4d7b-bad3-d4fb1af740f4",
   "metadata": {},
   "source": [
    "### Motivations et Avantages"
   ]
  },
  {
   "cell_type": "markdown",
   "id": "01cdbb2a-bb75-4306-8594-2e6a35c99d24",
   "metadata": {},
   "source": [
    "> 👉 Cette technique prend tout son sens si non seulement la proportion mais aussi l'effectif de la classe minoritaire est réduit.\n",
    "\n",
    "> Elle peut s'avérer efficace pour les algorithmes d'apprentissage automatique...\n",
    "> - qui sont **affectés par une distribution asymétrique**, et\n",
    "> - **où de multiples exemples dupliqués pour une classe donnée peuvent influencer les résultats**.\n",
    "> \n",
    "> Il peut s'agir:\n",
    "> - d'algorithmes qui apprennent les coefficients de manière itérative, comme les réseaux neuronaux artificiels qui utilisent la descente de gradient stochastique, ou\n",
    "> - les modèles qui recherchent de bonnes séparations des données, comme les machines à vecteurs de support et les arbres de décision."
   ]
  },
  {
   "cell_type": "markdown",
   "id": "4743476f-c51d-4236-87a6-2de3d0cfd012",
   "metadata": {},
   "source": [
    "### Limites"
   ]
  },
  {
   "cell_type": "markdown",
   "id": "dfd745d3-b5a1-4ed2-9199-0d155d17116a",
   "metadata": {},
   "source": [
    "> **Il peut être utile d'ajuster la distribution de la classe cible**.\n",
    "> \n",
    "> Dans certains cas, la recherche d'une distribution équilibrée, pour un ensemble de données fortement déséquilibré, **peut amener les algorithmes concernés à overfitter sur la classe minoritaire, ce qui accroît l'erreur de généralisation**.\n",
    "> \n",
    "> L'effet peut ainsi être une meilleure performance sur l'ensemble de données d'entraînement, mais de moins bonnes performances sur l'ensemble de données de test."
   ]
  },
  {
   "cell_type": "markdown",
   "id": "3192513b-c3b0-4098-9b63-a1171af30c89",
   "metadata": {},
   "source": [
    "### Evaluation"
   ]
  },
  {
   "cell_type": "markdown",
   "id": "a00e5003-0510-4f8a-8d28-5c719eabf878",
   "metadata": {},
   "source": [
    "> Pour avoir un aperçu de l'impact de la méthode, il est judicieux de:\n",
    "> - **surveiller les performances sur les ensembles de données d'entraînement et de test après le suréchantillonnage** et de\n",
    "> - **comparer les résultats avec ceux sans la méthode de suréchantillonnage, avec les données d'entraînement d'origine**.\n",
    "> \n",
    "> L'augmentation du nombre d'exemples pour la classe minoritaire, en particulier si l'asymétrie des classes était importante, peut également entraîner une **augmentation de calcul lors de l'ajustement du modèle**, surtout si l'on considère que le modèle voit les mêmes exemples dans l'ensemble de données d'apprentissage."
   ]
  },
  {
   "cell_type": "markdown",
   "id": "b56b1112-f17d-4989-9f9d-fe2bf60b7504",
   "metadata": {},
   "source": [
    "### Implémentation Basique"
   ]
  },
  {
   "cell_type": "markdown",
   "id": "894a4d94-e420-484f-bf79-993ef0e5210e",
   "metadata": {},
   "source": [
    "L'*oversampling aléatoire* peut être mis en œuvre à l'aide de la classe `RandomOverSampler` du module [`imbalanced-learn`](https://imbalanced-learn.org/stable/).\n",
    "\n",
    "Lorsqu'elle est instanciée, la classe prend un argument `sampling_strategy` qui peut être défini à `'minority'` afin d'**automatiquement équilibrer la classe minoritaire avec la ou les classes majoritaires**."
   ]
  },
  {
   "cell_type": "markdown",
   "id": "438c5079-04f7-4411-87de-1f5f3bc56e27",
   "metadata": {},
   "source": [
    "```python\n",
    "# define oversampling strategy\n",
    "oversample = RandomOverSampler(sampling_strategy='minority'))\n",
    "```\n",
    "\n",
    "Vous pouvez alors **appliquer l'échantillonnage, pour créer vos nouvelles données mieux équilibrées**, avec la méthode `fit_resample`.\n",
    "\n",
    "```python\n",
    "# fit and apply the transform\n",
    "X_over, y_over = oversample.fit_resample(X, y)\n",
    "```\n",
    "\n",
    "Une valeur en `float` peut être spécifiée pour **indiquer le rapport souhaité entre les exemples de la classe minoritaire et ceux de la classe majoritaire** dans l'ensemble de données transformé.\n",
    "\n",
    "```python\n",
    "# define oversampling strategy\n",
    "oversample = RandomOverSampler(sampling_strategy=0.5)\n",
    "```"
   ]
  },
  {
   "cell_type": "code",
   "execution_count": 13,
   "id": "fa8693f9-f155-40ed-bd61-ac2b3d74134e",
   "metadata": {},
   "outputs": [],
   "source": [
    "# define dataset\n",
    "X, y = make_classification(n_samples=10_000, weights=[0.99], flip_y=0)"
   ]
  },
  {
   "cell_type": "code",
   "execution_count": 27,
   "id": "5961ad8b-e272-4214-825d-73916577de20",
   "metadata": {},
   "outputs": [
    {
     "name": "stdout",
     "output_type": "stream",
     "text": [
      "Données d'origine: Counter({0: 9900, 1: 100})\n"
     ]
    },
    {
     "data": {
      "image/png": "[encoded data removed]",
      "text/plain": [
       "<Figure size 640x480 with 1 Axes>"
      ]
     },
     "metadata": {},
     "output_type": "display_data"
    },
    {
     "name": "stdout",
     "output_type": "stream",
     "text": [
      "Après oversampling: Counter({0: 9900, 1: 9900})\n"
     ]
    },
    {
     "data": {
      "image/png": "[encoded data removed]",
      "text/plain": [
       "<Figure size 640x480 with 1 Axes>"
      ]
     },
     "metadata": {},
     "output_type": "display_data"
    }
   ],
   "source": [
    "from imblearn.over_sampling import RandomOverSampler\n",
    "\n",
    "\n",
    "# summarize class distribution\n",
    "print(\"Données d'origine:\", Counter(y))\n",
    "# plot distribution\n",
    "plot_dataset(X, y)\n",
    "# define oversampling strategy\n",
    "oversample = RandomOverSampler(sampling_strategy='minority')\n",
    "# fit and apply the transform\n",
    "X_over, y_over = oversample.fit_resample(X, y)\n",
    "# summarize class distribution\n",
    "print(\"Après oversampling:\", Counter(y_over))\n",
    "plot_dataset(X_over, y_over)"
   ]
  },
  {
   "cell_type": "markdown",
   "id": "514b731a-f747-41c0-9762-ac51768ee5c5",
   "metadata": {},
   "source": [
    "☝️ Le graphe **ne change pas** puisque l'oversampling **duplique des points existants**."
   ]
  },
  {
   "cell_type": "markdown",
   "id": "831e0029-6bb8-49dc-9dc4-c6761595d167",
   "metadata": {},
   "source": [
    "### Dans un Pipeline"
   ]
  },
  {
   "attachments": {},
   "cell_type": "markdown",
   "id": "dce4a3dd-b059-43f5-8ab1-d4c336bac1a6",
   "metadata": {},
   "source": [
    "👉 **Cette transformation peut être utilisée dans le cadre d'un pipeline pour s'assurer qu'elle n'est appliquée qu'à l'ensemble de données de formation dans le cadre d'une cross-validation**.\n",
    "\n",
    "☝️ **Un pipeline scikit-learn ne peut pas être utilisé ; à la place, un pipeline de la bibliothèque `imbalanced-learn` peut être utilisé.**\n",
    "\n",
    "```python\n",
    "# pipeline\n",
    "from imblearn.pipeline import Pipeline  # alternativement make_pipeline\n",
    "\n",
    "steps = [('over', RandomOverSampler()), ('model', DecisionTreeClassifier())]\n",
    "pipeline = Pipeline(steps=step)\n",
    "```"
   ]
  },
  {
   "cell_type": "code",
   "execution_count": 26,
   "id": "5bbb5ae1-ae7e-487d-a282-eaf34cc824e1",
   "metadata": {},
   "outputs": [
    {
     "name": "stdout",
     "output_type": "stream",
     "text": [
      "F-measure: 0.988\n"
     ]
    }
   ],
   "source": [
    "from sklearn.model_selection import cross_val_score\n",
    "from sklearn.model_selection import RepeatedStratifiedKFold\n",
    "from sklearn.tree import DecisionTreeClassifier\n",
    "from imblearn.pipeline import Pipeline\n",
    "\n",
    "\n",
    "# define pipeline\n",
    "steps = [('over', RandomOverSampler()), ('model', DecisionTreeClassifier())]\n",
    "pipeline = Pipeline(steps=steps)\n",
    "# evaluate pipeline\n",
    "cv = RepeatedStratifiedKFold(n_splits=10, n_repeats=3, random_state=1)\n",
    "scores = cross_val_score(pipeline, X, y, scoring='f1_micro', cv=cv, n_jobs=-1)\n",
    "score = np.mean(scores)\n",
    "print(f'F-measure: {score:.3f}')"
   ]
  },
  {
   "cell_type": "markdown",
   "id": "18d9611e-887b-44ba-a172-aec4a5319803",
   "metadata": {},
   "source": [
    "## Undersampling (*sous-échantillonnage*)"
   ]
  },
  {
   "cell_type": "markdown",
   "id": "76e9f601-2258-49b7-8fa3-59c79df0466b",
   "metadata": {},
   "source": [
    "### Motivations"
   ]
  },
  {
   "cell_type": "markdown",
   "id": "3bd1b4e9-bdeb-4c11-b866-c8b81558e7c4",
   "metadata": {},
   "source": [
    "> 👉 Cette approche peut être plus appropriée pour les ensembles de données où **il y a un déséquilibre entre les classes, bien qu'il y ait encore un nombre suffisant d'exemples dans la classe minoritaire**."
   ]
  },
  {
   "cell_type": "markdown",
   "id": "76dae539-63ef-465f-921b-4c10be11448c",
   "metadata": {},
   "source": [
    "### Limites"
   ]
  },
  {
   "cell_type": "markdown",
   "id": "1252a6b4-eb59-414e-8390-55c3def57d6b",
   "metadata": {},
   "source": [
    "> ☝️ L'une des limites du sous-échantillonnage est que **les exemples de la classe majoritaire qui sont supprimés peuvent être utiles, importants, voire critiques pour l'établissement d'une frontière de décision robuste.**.\n",
    ">\n",
    "> Étant donné que les exemples sont supprimés de manière aléatoire, **il n'y a aucun moyen de détecter ou de préserver les bons exemples ou les exemples plus riches en informations de la classe majoritaire**."
   ]
  },
  {
   "cell_type": "markdown",
   "id": "fdc1c3b2-3557-441d-be34-d66b706b6c7f",
   "metadata": {},
   "source": [
    "### Implémentation Basique"
   ]
  },
  {
   "cell_type": "markdown",
   "id": "bbd782e1-593d-4fd6-8e2b-a1ae5238344a",
   "metadata": {},
   "source": [
    "La technique de sous-échantillonnage aléatoire peut être mise en œuvre à l'aide de la classe `RandomUnderSampler`.\n",
    "\n",
    "Cette classe peut être utilisée de la même manière que la classe `RandomOverSampler` de la section précédente, **sauf que les stratégies ont un impact sur la classe majoritaire et non sur la classe minoritaire**.\n",
    "\n",
    "```python\n",
    "# define undersample strategy\n",
    "undersample = RandomUnderSampler(sampling_strategy='majority')\n",
    "```\n",
    "\n",
    "```python\n",
    "# define undersample strategy\n",
    "undersample = RandomUnderSampler(sampling_strategy=0.5)\n",
    "```"
   ]
  },
  {
   "cell_type": "code",
   "execution_count": 25,
   "id": "f04b2fc0-7d19-4d11-8dab-f5339c99839a",
   "metadata": {},
   "outputs": [
    {
     "name": "stdout",
     "output_type": "stream",
     "text": [
      "Données d'origine: Counter({0: 9900, 1: 100})\n"
     ]
    },
    {
     "data": {
      "image/png": "[encoded data removed]",
      "text/plain": [
       "<Figure size 640x480 with 1 Axes>"
      ]
     },
     "metadata": {},
     "output_type": "display_data"
    },
    {
     "name": "stdout",
     "output_type": "stream",
     "text": [
      "Après undersampling: Counter({0: 100, 1: 100})\n"
     ]
    },
    {
     "data": {
      "image/png": "[encoded data removed]",
      "text/plain": [
       "<Figure size 640x480 with 1 Axes>"
      ]
     },
     "metadata": {},
     "output_type": "display_data"
    }
   ],
   "source": [
    "from imblearn.under_sampling import RandomUnderSampler\n",
    "\n",
    "\n",
    "# summarize class distribution\n",
    "print(\"Données d'origine:\", Counter(y))\n",
    "# plot distribution\n",
    "plot_dataset(X, y)\n",
    "# define undersample strategy\n",
    "undersample = RandomUnderSampler(sampling_strategy='majority')\n",
    "# fit and apply the transform\n",
    "X_under, y_under = undersample.fit_resample(X, y)\n",
    "# summarize class distribution\n",
    "print(\"Après undersampling:\", Counter(y_under))\n",
    "# plot distribution\n",
    "plot_dataset(X_under, y_under)"
   ]
  },
  {
   "cell_type": "markdown",
   "id": "5bb6d915-92f3-47a1-9a14-af111c2021a4",
   "metadata": {},
   "source": [
    "### Dans un Pipeline"
   ]
  },
  {
   "cell_type": "markdown",
   "id": "f333e369-f9fa-4f8e-93d4-aa32e022907c",
   "metadata": {},
   "source": [
    "Similairement à la section précédente..."
   ]
  },
  {
   "cell_type": "code",
   "execution_count": 31,
   "id": "1c0e645e-3c7a-487b-9341-abd6619c23dd",
   "metadata": {},
   "outputs": [
    {
     "name": "stdout",
     "output_type": "stream",
     "text": [
      "F-measure: 0.827\n"
     ]
    }
   ],
   "source": [
    "# define pipeline\n",
    "steps = [('under', RandomUnderSampler()), ('model', DecisionTreeClassifier())]\n",
    "pipeline = Pipeline(steps=steps)\n",
    "# evaluate pipeline\n",
    "cv = RepeatedStratifiedKFold(n_splits=10, n_repeats=3, random_state=1)\n",
    "scores = cross_val_score(pipeline, X, y, scoring='f1_micro', cv=cv, n_jobs=-1)\n",
    "score = np.mean(scores)\n",
    "print(f'F-measure: {score:.3f}')"
   ]
  },
  {
   "cell_type": "markdown",
   "id": "25724d1a-2e31-489c-9176-1985799452b0",
   "metadata": {},
   "source": [
    "## Oversampling Elaboré: *SMOTE*"
   ]
  },
  {
   "cell_type": "markdown",
   "id": "4f66c954-1ad2-4cc2-b7a0-9e3e429236ad",
   "metadata": {},
   "source": [
    "### Principe et Motivations"
   ]
  },
  {
   "cell_type": "markdown",
   "id": "db8a55e4-9398-4dfe-82cd-6d2e2b18dd06",
   "metadata": {},
   "source": [
    "Une approche pour traiter les ensembles de données déséquilibrés consiste à suréchantillonner la classe minoritaire.\n",
    "\n",
    "Comme nous venons de le voir, l'approche la plus simple consiste à dupliquer les exemples de la classe minoritaire, bien que ces exemples n'ajoutent pas de nouvelles informations au modèle.\n",
    "\n",
    "Au lieu de cela, **de nouveaux exemples peuvent être synthétisés à partir des exemples existants**.\n",
    "\n",
    "👉 Il s'agit d'un **type d'augmentation des données (*Data Augmentation*) pour la classe minoritaire**, appelé ***SMOTE*** (Synthetic Minority Oversampling TEchnique)\n",
    "\n",
    "```python\n",
    "# Implémentation\n",
    "from imblearn.over_sampling import SMOTE\n",
    "```"
   ]
  },
  {
   "cell_type": "markdown",
   "id": "75c8e107-e872-491f-8685-f96a711567b8",
   "metadata": {},
   "source": [
    "### *SMOTE* pour Equilibrer la Donnée"
   ]
  },
  {
   "cell_type": "code",
   "execution_count": 39,
   "id": "3bfd57ae-f126-40e9-915a-eb102d798b1a",
   "metadata": {},
   "outputs": [],
   "source": [
    "# define dataset\n",
    "X, y = make_classification(n_samples=10000, n_features=2, n_redundant=0,\n",
    "\tn_clusters_per_class=1, weights=[0.99], flip_y=0, random_state=1)"
   ]
  },
  {
   "cell_type": "markdown",
   "id": "ff1bca54-eaa5-4a2a-9fde-b4460e5f4026",
   "metadata": {},
   "source": [
    "#### Sans *SMOTE*"
   ]
  },
  {
   "cell_type": "code",
   "execution_count": 40,
   "id": "ccd5f8bb-98f3-442a-b081-20499c76d642",
   "metadata": {},
   "outputs": [
    {
     "name": "stdout",
     "output_type": "stream",
     "text": [
      "Counter({0: 9900, 1: 100})\n"
     ]
    },
    {
     "data": {
      "image/png": "[encoded data removed]",
      "text/plain": [
       "<Figure size 640x480 with 1 Axes>"
      ]
     },
     "metadata": {},
     "output_type": "display_data"
    }
   ],
   "source": [
    "# summarize class distribution\n",
    "counter = Counter(y)\n",
    "print(counter)\n",
    "# scatter plot of examples by class label\n",
    "for label, _ in counter.items():\n",
    "\trow_ix = np.where(y == label)[0]\n",
    "\tplt.scatter(X[row_ix, 0], X[row_ix, 1], label=str(label))\n",
    "plt.legend(loc=\"best\")\n",
    "plt.show()"
   ]
  },
  {
   "cell_type": "markdown",
   "id": "b68fe20b-4a6a-475b-b706-11d7107125b5",
   "metadata": {},
   "source": [
    "#### Avec *SMOTE*"
   ]
  },
  {
   "cell_type": "code",
   "execution_count": 41,
   "id": "ae139022-dd22-4be0-9c0f-e2792cf5921b",
   "metadata": {},
   "outputs": [
    {
     "name": "stdout",
     "output_type": "stream",
     "text": [
      "Données originelles: Counter({0: 9900, 1: 100})\n",
      "Données après SMOTE: Counter({0: 9900, 1: 9900})\n"
     ]
    },
    {
     "data": {
      "image/png": "[encoded data removed]",
      "text/plain": [
       "<Figure size 640x480 with 1 Axes>"
      ]
     },
     "metadata": {},
     "output_type": "display_data"
    }
   ],
   "source": [
    "from imblearn.over_sampling import SMOTE\n",
    "\n",
    "# summarize class distribution\n",
    "counter = Counter(y)\n",
    "print(\"Données originelles:\", counter)\n",
    "# transform the dataset\n",
    "oversample = SMOTE()\n",
    "X_smote, y_smote = oversample.fit_resample(X, y)\n",
    "# summarize the new class distribution\n",
    "counter = Counter(y_smote)\n",
    "print(\"Données après SMOTE:\", counter)\n",
    "# scatter plot of examples by class label\n",
    "for label, _ in counter.items():\n",
    "\trow_ix = np.where(y_smote == label)[0]\n",
    "\tplt.scatter(X_smote[row_ix, 0], X_smote[row_ix, 1], label=str(label))\n",
    "plt.legend(loc=\"best\")\n",
    "plt.show()"
   ]
  },
  {
   "cell_type": "markdown",
   "id": "141a388f-4c2a-416a-b2d7-385d999352e0",
   "metadata": {},
   "source": [
    "### *SMOTE* pour la Classification"
   ]
  },
  {
   "cell_type": "markdown",
   "id": "a31977ee-542f-4be8-8e6f-0f0b5ba80544",
   "metadata": {},
   "source": [
    "#### Sans *SMOTE*"
   ]
  },
  {
   "cell_type": "code",
   "execution_count": 42,
   "id": "9cbbf461-2abe-4f58-98e4-e1b6f95b265a",
   "metadata": {},
   "outputs": [
    {
     "name": "stdout",
     "output_type": "stream",
     "text": [
      "Mean ROC AUC: 0.771\n"
     ]
    }
   ],
   "source": [
    "# define model\n",
    "model = DecisionTreeClassifier()\n",
    "# evaluate pipeline\n",
    "cv = RepeatedStratifiedKFold(n_splits=10, n_repeats=3, random_state=1)\n",
    "scores = cross_val_score(model, X, y, scoring='roc_auc', cv=cv, n_jobs=-1)\n",
    "print(f'Mean ROC AUC: {np.mean(scores):.3f}')"
   ]
  },
  {
   "cell_type": "markdown",
   "id": "4c836d7b-a322-4169-9ac5-64e37232aa47",
   "metadata": {},
   "source": [
    "#### Avec *SMOTE*"
   ]
  },
  {
   "cell_type": "code",
   "execution_count": 43,
   "id": "ab230cbb-a692-4bd3-b3eb-15ed2ced7aee",
   "metadata": {},
   "outputs": [
    {
     "name": "stdout",
     "output_type": "stream",
     "text": [
      "Mean ROC AUC: 0.814848\n"
     ]
    }
   ],
   "source": [
    "# define pipeline\n",
    "steps = [('over', SMOTE()), ('model', DecisionTreeClassifier())]\n",
    "pipeline = Pipeline(steps=steps)\n",
    "# evaluate pipeline\n",
    "cv = RepeatedStratifiedKFold(n_splits=10, n_repeats=3, random_state=1)\n",
    "scores = cross_val_score(pipeline, X, y, scoring='roc_auc', cv=cv, n_jobs=-1)\n",
    "print(f'Mean ROC AUC: {np.mean(scores):3f}')"
   ]
  },
  {
   "cell_type": "markdown",
   "id": "93b23236-88ac-4444-a51f-c271d03c910b",
   "metadata": {},
   "source": [
    "### Quelques Hyperparamètres"
   ]
  },
  {
   "cell_type": "markdown",
   "id": "352377f8-8e00-499f-8eae-1f20c3bd6c24",
   "metadata": {},
   "source": [
    "👉 Vous pourriez envisager de **tester différents ratios entre la classe minoritaire et la classe majoritaire** (par exemple, en modifiant l'argument `sampling_strategy`) pour voir s'il est possible d'améliorer encore les performances.\n",
    "\n",
    "👉 Un autre domaine à explorer consisterait à **tester différentes valeurs des $k$-voisins les plus proches sélectionnés dans la procédure *SMOTE* lors de la création de chaque nouvel exemple synthétique**.\n",
    "\n",
    "La valeur par défaut est $k = 5$, mais des valeurs plus grandes ou plus petites influenceront les types d'exemples créés et, à leur tour, pourront avoir un impact sur la performance du modèle."
   ]
  },
  {
   "cell_type": "code",
   "execution_count": 44,
   "id": "b56fc133-841e-4a51-8e46-efac82258696",
   "metadata": {},
   "outputs": [
    {
     "name": "stdout",
     "output_type": "stream",
     "text": [
      "> k=1, Mean ROC AUC: 0.762\n",
      "> k=2, Mean ROC AUC: 0.791\n",
      "> k=3, Mean ROC AUC: 0.796\n",
      "> k=4, Mean ROC AUC: 0.799\n",
      "> k=5, Mean ROC AUC: 0.822\n",
      "> k=6, Mean ROC AUC: 0.819\n",
      "> k=7, Mean ROC AUC: 0.813\n"
     ]
    }
   ],
   "source": [
    "# define dataset\n",
    "X, y = make_classification(n_samples=10000, n_features=2, n_redundant=0, n_clusters_per_class=1, weights=[0.99], flip_y=0, random_state=1)\n",
    "# values to evaluate\n",
    "k_values = [1, 2, 3, 4, 5, 6, 7]\n",
    "for k in k_values:\n",
    "\t# define pipeline\n",
    "\tmodel = DecisionTreeClassifier()\n",
    "\tover = SMOTE(sampling_strategy=0.1, k_neighbors=k)\n",
    "\tpipeline = Pipeline(steps=[('over', over), ('model', model)])\n",
    "\t# evaluate pipeline\n",
    "\tcv = RepeatedStratifiedKFold(n_splits=10, n_repeats=3, random_state=1)\n",
    "\tscores = cross_val_score(pipeline, X, y, scoring='roc_auc', cv=cv, n_jobs=-1)\n",
    "\tscore = np.mean(scores)\n",
    "\tprint(f'> k={k}, Mean ROC AUC: {score:.3f}')"
   ]
  },
  {
   "cell_type": "markdown",
   "id": "a4b390b5-f388-4816-b1d8-a133195dc887",
   "metadata": {},
   "source": [
    "## *SMOTE* avec Génération Sélective d'Echantillons"
   ]
  },
  {
   "cell_type": "markdown",
   "id": "bc68b57d-a1da-4775-a802-21ca3f739367",
   "metadata": {},
   "source": [
    "Dans cette section, nous examinerons certaines extensions de SMOTE qui sont **plus sélectives en ce qui concerne les exemples de la classe minoritaire qui servent de base à la génération de nouveaux exemples synthétiques**."
   ]
  },
  {
   "cell_type": "markdown",
   "id": "932470b6-10d5-42d9-823e-2b9d77895573",
   "metadata": {},
   "source": [
    "### Motivations"
   ]
  },
  {
   "cell_type": "markdown",
   "id": "ff02ef49-fbda-44da-83c2-8c6f015ef016",
   "metadata": {},
   "source": [
    "Une extension populaire de SMOTE consiste à **sélectionner les instances de la classe minoritaire qui sont mal classées**, comme dans le cas d'un modèle de classification par *kNN*.\n",
    "\n",
    "Ces exemples mal classés sont probablement ambigus et se situent à la limite de la frontière de décision où l'appartenance à une classe peut se chevaucher.\n",
    "\n",
    "C'est pourquoi cette modification de *SMOTE* est appelée *Borderline-SMOTE*."
   ]
  },
  {
   "cell_type": "code",
   "execution_count": null,
   "id": "8060a9d9-18b9-46ae-83e5-587f5414ef84",
   "metadata": {},
   "outputs": [],
   "source": []
  }
 ],
 "metadata": {
  "kernelspec": {
   "display_name": "Python 3 (ipykernel)",
   "language": "python",
   "name": "python3"
  },
  "language_info": {
   "codemirror_mode": {
    "name": "ipython",
    "version": 3
   },
   "file_extension": ".py",
   "mimetype": "text/x-python",
   "name": "python",
   "nbconvert_exporter": "python",
   "pygments_lexer": "ipython3",
   "version": "3.10.12"
  }
 },
 "nbformat": 4,
 "nbformat_minor": 5
}
