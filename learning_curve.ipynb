{
 "cells": [
  {
   "cell_type": "markdown",
   "metadata": {},
   "source": [
    "<h1>Monitoring/Learning Curve</h1>\n",
    "<p>L'objectif principal du learning curve :<br>\n",
    "Comprendre comment le modèle apprend\n",
    "Identifier les ajustements potentiels à faire pour améliorer sa performance\n",
    "\n",
    "\n",
    "<div style=\"background-color: white;\"><p style=\"color: blue;\">Courbe d'erreur d'entrainement ou train score<br>\n",
    "Permet de comprendre l'évolution de l'erreur du modèle grâce à une mesure de performance\n",
    "comme :<br>\n",
    "la perte(=fonction cout) -> mse(regression), log loss(perte logistique)<br>\n",
    "ou<br>\n",
    "Erreur de classification -> accuracy<br>\n",
    "Coefficient de determination -> r2(pour la regression) <br>\n",
    "D'autres mesures telles que la matrice de confusion... (voir cours ROC)<br>\n",
    "Sur l'ensemble de train à mesure que le nombre d'itération augmente.</p>\n",
    "\n",
    "<p style=\"color: red;;\">Courbe d'erreur de validation ou validation score<br>\n",
    "Indique l'erreur sur un ensemble qui est pas utilisé pour le train. <br>\n",
    "Cette courbe aide à évaluer la capacité du modèle à généraliser sur des nouvelles données. </p></div>"
   ]
  },
  {
   "cell_type": "markdown",
   "metadata": {},
   "source": [
    "<img style=\"width: 300px;\" src=\"https://s3-eu-central-1.amazonaws.com/euc-cdn.freshdesk.com/data/helpdesk/attachments/production/80094719491/original/OtUsUEETkFrWcqAxYQr0i6qd_dRS8xMoRQ.png?1649690810\" alt=\"Description de l'image\" />"
   ]
  },
  {
   "cell_type": "markdown",
   "metadata": {},
   "source": [
    "<div style=\"background-color: white;\"><h1 style=\"color: #000; font-family: bold; text-align: center\">Interprétation des courbes d'apprentissage</h1>\n",
    "\n",
    "\n",
    "<img style=\"width: 60%;\" src=\"img/learning_curve.png\" alt=\"Description de l'image\" />\n",
    "<p style=\"color: #000;\"><strong>Underfitting</strong><br>\n",
    "La courbe de cout(erreur) reste élevé même lorsque le nb d'échantillons augmente.<br>\n",
    "Le modèle s'adapte mal aux données train et généralise mal aux données de validation</p>\n",
    "<p style=\"color: green;\">Biais élevé<br>\n",
    "Le modèle est trop simple et n'a pas la capacité de capturer les relations importantes dans les données.</p>\n",
    "<p style=\"color: #000;\"><strong>Overfitting</strong><br>\n",
    "Bon sur le train mais l'erreur de validation reste élevé. Généralise mal.<br> Il y a un grand écart(gap) entre le train score et le score de validation.</p>\n",
    "<p style=\"color: green;\">Variance élevé<br>\n",
    "Il a appris le bruit spécifique aux données d'entrainement au lieu de la relation sous-jacente,<br>\n",
    "ce qui entraine une performance médiocre sur les données de validation</p>\n",
    "<p style=\"color: #000;\"><strong>Good fitting</strong><br>\n",
    "Erreur de train score et de val score sont faibles et proches l'une de l'autre.<br>\n",
    "Le modèle s'adapte bien aux données train et généralise bien aux données de validation</p>\n",
    "<p style=\"color: green;\">Un bon biais et une bonne variance<br>\n",
    "Erreur de train score et de val score sont faibles et proches l'une de l'autre.<br>\n",
    "Le modèle s'adapte bien aux données train et généralise bien aux données de validation</p></div>\n"
   ]
  },
  {
   "cell_type": "markdown",
   "metadata": {},
   "source": [
    "<img style=\"width: 60%;\" src=\"img/D8tdw.png\" alt=\"Description de l'image\" />"
   ]
  },
  {
   "cell_type": "markdown",
   "metadata": {},
   "source": [
    "Premier exercice : A partir du cours précédent, expliquez les courbes ci-dessous. \n",
    "\n"
   ]
  },
  {
   "cell_type": "code",
   "execution_count": null,
   "metadata": {},
   "outputs": [],
   "source": [
    "#code sklearn learning_curve"
   ]
  },
  {
   "cell_type": "markdown",
   "metadata": {},
   "source": [
    "Créer sa propre learning curve:<br>\n",
    "A partir de vos connaissances, essayez de réaliser une learning curve sur une de vos modèlisations optimisée. \n",
    "1. Sur un modele de regression avec comme mesure de performance une fonction cout comme le MSE\n",
    "1. Si possible, sur un modèle de regression logistique avec comme mesure de performance une fonction cout comme le log loss"
   ]
  }
 ],
 "metadata": {
  "language_info": {
   "name": "python"
  }
 },
 "nbformat": 4,
 "nbformat_minor": 2
}
