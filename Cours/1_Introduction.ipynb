{
 "cells": [
  {
   "cell_type": "markdown",
   "metadata": {},
   "source": [
    "# Qu'est-ce que l'imputation ?"
   ]
  },
  {
   "cell_type": "markdown",
   "metadata": {},
   "source": [
    "L'imputation fait référence à l'action de remplir ou de substituer des valeurs manquantes dans un ensemble de données. L'imputation est une technique courante utilisée lors du prétraitement des données pour traiter les valeurs manquantes et garantir que l'ensemble de données est complet avant d'appliquer des algorithmes de Machine Learning ou d'effectuer des analyses statistiques.\n",
    "\n",
    "Lorsque des données sont collectées, il est fréquent que certaines observations ou variables aient des valeurs manquantes. L'imputation vise à remplacer ces valeurs manquantes par des valeurs estimées ou calculées, permettant ainsi de préserver l'intégrité de l'ensemble de données.\n"
   ]
  },
  {
   "cell_type": "markdown",
   "metadata": {},
   "source": [
    " # Pourquoi imputer ?"
   ]
  },
  {
   "cell_type": "markdown",
   "metadata": {},
   "source": [
    "La plupart des algorithmes de Machine Learning exigent que leurs entrées ne comportent aucune valeur manquante, et ne fonctionneront pas si cette condition n'est pas respectée. Les algorithmes qui tentent de remplir (ou d'imputer) les valeurs manquantes sont appelés algorithmes d'imputation.\n",
    "\n",
    "Les méthodes d'imputation peuvent varier, allant de techniques simples telles que l'utilisation de la moyenne ou de la médiane, à des méthodes plus avancées telles que l'imputation itérative. L'objectif est de minimiser l'impact des valeurs manquantes sur l'analyse des données tout en préservant la représentativité globale de l'ensemble de données. "
   ]
  },
  {
   "cell_type": "markdown",
   "metadata": {},
   "source": [
    "# Univarié Vs Multivarié \n",
    "\n",
    "#### Univarié\n",
    "\n",
    " \n",
    "\n",
    "Le terme \"Univariate Imputation\" se réfère à une approche où les valeurs manquantes d'une variable sont estimées en se basant uniquement sur les données non manquantes de cette variable spécifique. C'est à dire, chaque variable est traitée de manière indépendante, sans tenir compte des autres variables dans l'ensemble de données. \n"
   ]
  },
  {
   "cell_type": "markdown",
   "metadata": {},
   "source": [
    "\n",
    "Par exemple, avec un imputeur univarié comme SimpleImputer, si vous avez une colonne avec des valeurs manquantes, la méthode utilisera uniquement les valeurs existantes dans cette colonne pour estimer et remplacer les valeurs manquantes \n",
    "\n",
    " \n"
   ]
  },
  {
   "cell_type": "markdown",
   "metadata": {},
   "source": [
    "#### Multivarié\n",
    "\n",
    "Le terme \"Multivariate Imputation\" fait référence à une approche où les valeurs manquantes d'une variable peuvent être estimées en utilisant l'ensemble des dimensions disponibles dans l'ensemble de données. Les algorithmes d'imputation multivariée, tels que KNNImputer, prennent en compte toutes les variables disponibles pour estimer les valeurs manquantes. Cela peut être particulièrement utile lorsque les variables sont interdépendantes ou que des relations complexes existent entre différentes dimensions. "
   ]
  }
 ],
 "metadata": {
  "kernelspec": {
   "display_name": "MLImputer",
   "language": "python",
   "name": "python3"
  },
  "language_info": {
   "name": "python",
   "version": "3.9.12"
  }
 },
 "nbformat": 4,
 "nbformat_minor": 2
}
