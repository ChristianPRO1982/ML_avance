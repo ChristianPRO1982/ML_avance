{
 "cells": [
  {
   "cell_type": "markdown",
   "metadata": {},
   "source": [
    "KNNImputer est un imputeur multivarié, il utilise l'ensemble des dimensions disponibles dans l'ensemble de données pour estimer les valeurs manquantes. Pour chaque valeur manquante d'une variable, il prend en compte les valeurs des plus proches voisins qui ont des données disponibles pour cette variable, en utilisant la distance euclidienne comme métrique par défaut. "
   ]
  },
  {
   "cell_type": "markdown",
   "metadata": {},
   "source": [
    "La classe KNNImputer offre une méthode d'imputation pour remplir les valeurs manquantes en utilisant l'approche du KNN (K-Nearest Neighbors). Par défaut, une métrique de distance euclidienne prenant en charge les valeurs manquantes, appelée nan_euclidean_distances, est utilisée pour trouver les voisins les plus proches. Chaque caractéristique manquante est imputée en utilisant les valeurs des plus proches voisins qui ont une valeur pour cette caractéristique. "
   ]
  },
  {
   "cell_type": "markdown",
   "metadata": {},
   "source": [
    "Les caractéristiques manquantes d'un échantillon sont imputées en moyennant uniformément ou en pondérant par la distance chaque voisin. Si un échantillon a plus d'une caractéristique manquante, les voisins pour cet échantillon peuvent varier en fonction de la caractéristique particulière en cours d'imputation. Lorsque le nombre de voisins disponibles est inférieur à 'n_neighbors' et qu'il n'y a pas de distances définies par rapport à l'ensemble d'entraînement, la moyenne de l'ensemble d'entraînement pour cette caractéristique est utilisée lors de l'imputation. "
   ]
  },
  {
   "cell_type": "markdown",
   "metadata": {},
   "source": [
    "S'il y a au moins un voisin a une distance définie, la moyenne pondérée ou non pondérée des voisins restants sera utilisée lors de l'imputation. Si une caractéristique est toujours manquante dans l'ensemble d'entraînement, elle est supprimée lors de la transformation. "
   ]
  },
  {
   "cell_type": "markdown",
   "metadata": {},
   "source": [
    "    imputer = KNNImputer(n_neighbors=3) \n",
    "\n",
    "    imputer.fit_transform(X) "
   ]
  },
  {
   "cell_type": "markdown",
   "metadata": {},
   "source": [
    "KNNImputer va analyser les données les plus semblables et remplacer l'information manquante par la valeur de l'échantillion ou des cas d'échantillon les plus semblables. "
   ]
  },
  {
   "cell_type": "markdown",
   "metadata": {},
   "source": [
    "En résumé, KNNImputer utilise la méthode du K-Nearest Neighbors pour estimer les valeurs manquantes en se basant sur les caractéristiques des voisins les plus proches, avec une gestion flexible des distances et des valeurs manquantes. Cela en fait une approche puissante pour l'imputation des données manquantes. "
   ]
  },
  {
   "cell_type": "markdown",
   "metadata": {},
   "source": []
  }
 ],
 "metadata": {
  "kernelspec": {
   "display_name": "MLImputer",
   "language": "python",
   "name": "python3"
  },
  "language_info": {
   "name": "python",
   "version": "3.9.12"
  }
 },
 "nbformat": 4,
 "nbformat_minor": 2
}
