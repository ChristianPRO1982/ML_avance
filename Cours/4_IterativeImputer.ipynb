{
 "cells": [
  {
   "cell_type": "markdown",
   "metadata": {},
   "source": [
    "## IterativeImputer\n",
    "\n",
    "IterativeImputer est une méthode d'imputation multivariée. Contrairement à d'autres méthodes d'imputation plus simples comme la moyenne ou la médiane, IterativeImputer utilise un modèle de régression pour estimer les valeurs manquantes dans les données. \n",
    "\n",
    "Voici une description de IterativeImputer : \n",
    "\n",
    "Principe de fonctionnement : \n",
    "\n",
    "Initialisation : Les valeurs manquantes sont initialement remplies par des valeurs estimées (peut être la moyenne, la médiane, ou tout autre choix spécifié par l'utilisateur). \n",
    "\n",
    "Régression itérative : Un modèle de régression est ensuite utilisé pour estimer les valeurs manquantes en utilisant les valeurs déjà imputées et les autres caractéristiques non manquantes comme variables indépendantes. Le processus est répété plusieurs fois pour converger vers des estimations plus précises. \n",
    "\n",
    "Répétition : Les étapes 1 et 2 sont répétées plusieurs fois jusqu'à ce que la convergence soit atteinte ou qu'un nombre fixe d'itérations soit réalisé. "
   ]
  },
  {
   "cell_type": "code",
   "execution_count": 1,
   "metadata": {},
   "outputs": [
    {
     "name": "stdout",
     "output_type": "stream",
     "text": [
      "[[1.         2.         3.00203274]\n",
      " [4.         4.99796925 6.        ]\n",
      " [7.         8.         9.        ]]\n"
     ]
    }
   ],
   "source": [
    "from sklearn.experimental import enable_iterative_imputer\n",
    "from sklearn.impute import IterativeImputer\n",
    "import numpy as np\n",
    "\n",
    "X = np.array([[1, 2, np.nan], [4, np.nan, 6], [7, 8, 9]])\n",
    "\n",
    "imputer = IterativeImputer(max_iter=10, random_state=0)\n",
    "X_imputed = imputer.fit_transform(X)\n",
    "\n",
    "print(X_imputed)\n"
   ]
  },
  {
   "cell_type": "markdown",
   "metadata": {},
   "source": [
    "### Paramètres principaux : \n",
    "\n",
    "max_iter : Le nombre maximal d'itérations à effectuer. \n",
    "\n",
    "random_state : Permet de spécifier une graine aléatoire pour assurer la reproductibilité des résultats. \n",
    "\n",
    "estimator : Le modèle de régression utilisé. Par défaut, il utilise un modèle de régression bayésienne, mais l'utilisateur peut spécifier un autre modèle compatible avec l'interface scikit-learn. "
   ]
  },
  {
   "cell_type": "markdown",
   "metadata": {},
   "source": [
    "#### Avantages : \n",
    "\n",
    "Adaptabilité : IterativeImputer est capable de gérer des relations complexes entre les variables en utilisant un modèle de régression. \n",
    "\n",
    "Flexibilité : Il peut être utilisé avec différents modèles de régression en fonction des besoins de l'utilisateur. \n",
    "\n"
   ]
  },
  {
   "cell_type": "markdown",
   "metadata": {},
   "source": [
    "#### Limitations : \n",
    "\n",
    "Temps de calcul : En raison du processus itératif, IterativeImputer peut être plus coûteux en termes de temps de calcul que d'autres méthodes plus simples. \n",
    "\n",
    "Sensibilité aux paramètres : Les résultats peuvent dépendre des paramètres tels que le nombre maximal d'itérations. "
   ]
  },
  {
   "cell_type": "markdown",
   "metadata": {},
   "source": [
    "Le choix entre la moyenne et la médiane pour l'imputation de données dépend de la distribution des données et de la présence potentielle de valeurs aberrantes. Voici quelques conseils pour vous aider à prendre une décision : \n",
    "\n",
    "Distribution normale ou symétrique : \n",
    "\n",
    "Si vos données suivent une distribution normale ou symétrique, la moyenne est généralement un choix approprié. La moyenne est sensible aux valeurs extrêmes, mais elle offre une mesure de tendance centrale qui peut être représentative dans ce cas. \n",
    "\n",
    "Distribution asymétrique ou présence de valeurs aberrantes : \n",
    "\n",
    "Si vos données ne suivent pas une distribution normale ou si vous avez des valeurs aberrantes qui peuvent influencer la moyenne de manière significative, il peut être préférable d'utiliser la médiane. La médiane est moins sensible aux valeurs extrêmes, car elle représente la valeur centrale lorsque les données sont ordonnées. \n",
    "\n",
    "Robustesse : \n",
    "\n",
    "Si la robustesse de l'estimation est une préoccupation, la médiane est souvent préférée, car elle est moins influencée par les valeurs extrêmes. La médiane est une mesure robuste de la tendance centrale, tandis que la moyenne peut être sensible aux valeurs aberrantes. \n",
    "\n",
    "Type de données : \n",
    "\n",
    "Pour des données ordinales ou catégorielles, la médiane peut être plus appropriée car elle tient compte de l'ordre des valeurs sans supposer une échelle continue. La moyenne peut ne pas avoir de sens dans ce contexte. \n",
    "\n",
    "Objectif de l'analyse : \n",
    "\n",
    "Considérez l'objectif de votre analyse. Si la moyenne est une mesure plus appropriée pour votre question de recherche ou si elle est plus interprétable dans votre contexte, vous pouvez choisir de l'utiliser malgré la présence potentielle de valeurs aberrantes. \n",
    "\n",
    "En résumé, le choix entre la moyenne et la médiane dépend de la distribution des données, de la présence de valeurs aberrantes et de la nature spécifique de vos données. Il est parfois judicieux d'essayer les deux approches et de comparer les résultats pour prendre une décision informée. Si vous effectuez une imputation dans le cadre d'une analyse préliminaire, vous pouvez également envisager de comparer l'impact des deux méthodes sur vos résultats finaux. "
   ]
  },
  {
   "cell_type": "markdown",
   "metadata": {},
   "source": []
  }
 ],
 "metadata": {
  "kernelspec": {
   "display_name": "base",
   "language": "python",
   "name": "python3"
  },
  "language_info": {
   "codemirror_mode": {
    "name": "ipython",
    "version": 3
   },
   "file_extension": ".py",
   "mimetype": "text/x-python",
   "name": "python",
   "nbconvert_exporter": "python",
   "pygments_lexer": "ipython3",
   "version": "3.9.12"
  }
 },
 "nbformat": 4,
 "nbformat_minor": 2
}
