{
 "cells": [
  {
   "cell_type": "code",
   "execution_count": 1,
   "metadata": {},
   "outputs": [
    {
     "data": {
      "text/html": [
       "<div>\n",
       "<style scoped>\n",
       "    .dataframe tbody tr th:only-of-type {\n",
       "        vertical-align: middle;\n",
       "    }\n",
       "\n",
       "    .dataframe tbody tr th {\n",
       "        vertical-align: top;\n",
       "    }\n",
       "\n",
       "    .dataframe thead th {\n",
       "        text-align: right;\n",
       "    }\n",
       "</style>\n",
       "<table border=\"1\" class=\"dataframe\">\n",
       "  <thead>\n",
       "    <tr style=\"text-align: right;\">\n",
       "      <th></th>\n",
       "      <th>nom_athlete</th>\n",
       "      <th>discipline</th>\n",
       "      <th>temps_performance</th>\n",
       "      <th>nombre_medailles</th>\n",
       "      <th>score_performance</th>\n",
       "    </tr>\n",
       "  </thead>\n",
       "  <tbody>\n",
       "    <tr>\n",
       "      <th>0</th>\n",
       "      <td>Athlete1</td>\n",
       "      <td>Natation</td>\n",
       "      <td>13.458232</td>\n",
       "      <td>NaN</td>\n",
       "      <td>89.506568</td>\n",
       "    </tr>\n",
       "    <tr>\n",
       "      <th>1</th>\n",
       "      <td>Athlete2</td>\n",
       "      <td>Triathlon</td>\n",
       "      <td>NaN</td>\n",
       "      <td>2.0</td>\n",
       "      <td>62.805558</td>\n",
       "    </tr>\n",
       "    <tr>\n",
       "      <th>2</th>\n",
       "      <td>Athlete3</td>\n",
       "      <td>Course</td>\n",
       "      <td>10.925203</td>\n",
       "      <td>NaN</td>\n",
       "      <td>68.106297</td>\n",
       "    </tr>\n",
       "    <tr>\n",
       "      <th>3</th>\n",
       "      <td>Athlete4</td>\n",
       "      <td>Triathlon</td>\n",
       "      <td>NaN</td>\n",
       "      <td>4.0</td>\n",
       "      <td>84.115257</td>\n",
       "    </tr>\n",
       "    <tr>\n",
       "      <th>4</th>\n",
       "      <td>Athlete5</td>\n",
       "      <td>Natation</td>\n",
       "      <td>11.337710</td>\n",
       "      <td>NaN</td>\n",
       "      <td>61.702935</td>\n",
       "    </tr>\n",
       "    <tr>\n",
       "      <th>...</th>\n",
       "      <td>...</td>\n",
       "      <td>...</td>\n",
       "      <td>...</td>\n",
       "      <td>...</td>\n",
       "      <td>...</td>\n",
       "    </tr>\n",
       "    <tr>\n",
       "      <th>495</th>\n",
       "      <td>Athlete496</td>\n",
       "      <td>Course</td>\n",
       "      <td>11.617301</td>\n",
       "      <td>NaN</td>\n",
       "      <td>83.926334</td>\n",
       "    </tr>\n",
       "    <tr>\n",
       "      <th>496</th>\n",
       "      <td>Athlete497</td>\n",
       "      <td>Cyclisme</td>\n",
       "      <td>NaN</td>\n",
       "      <td>5.0</td>\n",
       "      <td>59.735148</td>\n",
       "    </tr>\n",
       "    <tr>\n",
       "      <th>497</th>\n",
       "      <td>Athlete498</td>\n",
       "      <td>Natation</td>\n",
       "      <td>16.139037</td>\n",
       "      <td>NaN</td>\n",
       "      <td>65.058655</td>\n",
       "    </tr>\n",
       "    <tr>\n",
       "      <th>498</th>\n",
       "      <td>Athlete499</td>\n",
       "      <td>Course</td>\n",
       "      <td>NaN</td>\n",
       "      <td>1.0</td>\n",
       "      <td>88.225056</td>\n",
       "    </tr>\n",
       "    <tr>\n",
       "      <th>499</th>\n",
       "      <td>Athlete500</td>\n",
       "      <td>Course</td>\n",
       "      <td>19.808700</td>\n",
       "      <td>NaN</td>\n",
       "      <td>59.751464</td>\n",
       "    </tr>\n",
       "  </tbody>\n",
       "</table>\n",
       "<p>500 rows × 5 columns</p>\n",
       "</div>"
      ],
      "text/plain": [
       "    nom_athlete discipline  temps_performance  nombre_medailles  \\\n",
       "0      Athlete1   Natation          13.458232               NaN   \n",
       "1      Athlete2  Triathlon                NaN               2.0   \n",
       "2      Athlete3     Course          10.925203               NaN   \n",
       "3      Athlete4  Triathlon                NaN               4.0   \n",
       "4      Athlete5   Natation          11.337710               NaN   \n",
       "..          ...        ...                ...               ...   \n",
       "495  Athlete496     Course          11.617301               NaN   \n",
       "496  Athlete497   Cyclisme                NaN               5.0   \n",
       "497  Athlete498   Natation          16.139037               NaN   \n",
       "498  Athlete499     Course                NaN               1.0   \n",
       "499  Athlete500     Course          19.808700               NaN   \n",
       "\n",
       "     score_performance  \n",
       "0            89.506568  \n",
       "1            62.805558  \n",
       "2            68.106297  \n",
       "3            84.115257  \n",
       "4            61.702935  \n",
       "..                 ...  \n",
       "495          83.926334  \n",
       "496          59.735148  \n",
       "497          65.058655  \n",
       "498          88.225056  \n",
       "499          59.751464  \n",
       "\n",
       "[500 rows x 5 columns]"
      ]
     },
     "execution_count": 1,
     "metadata": {},
     "output_type": "execute_result"
    }
   ],
   "source": [
    "import pandas as pd\n",
    "import numpy as np\n",
    "from sklearn.impute import SimpleImputer\n",
    "np.random.seed(42)\n",
    "\n",
    "\n",
    "df = pd.read_csv('../Datasets/Dataset_Performances_Sportives.csv')\n",
    "df"
   ]
  },
  {
   "cell_type": "code",
   "execution_count": 2,
   "metadata": {},
   "outputs": [
    {
     "data": {
      "text/plain": [
       "nom_athlete            0\n",
       "discipline           157\n",
       "temps_performance    174\n",
       "nombre_medailles     169\n",
       "score_performance      0\n",
       "dtype: int64"
      ]
     },
     "execution_count": 2,
     "metadata": {},
     "output_type": "execute_result"
    }
   ],
   "source": [
    "df.isnull().sum()"
   ]
  },
  {
   "cell_type": "code",
   "execution_count": 3,
   "metadata": {},
   "outputs": [],
   "source": [
    "# colonnes = \n",
    "\n",
    "\n",
    "# imputer = \n",
    "\n",
    "# colonne_imputed = imputer.fit_transform(df[colonnes])\n",
    "\n",
    "# df[colonnes] = colonne_imputed\n",
    "# df.head(10)"
   ]
  },
  {
   "cell_type": "code",
   "execution_count": 4,
   "metadata": {},
   "outputs": [
    {
     "data": {
      "text/plain": [
       "nom_athlete            0\n",
       "discipline           157\n",
       "temps_performance    174\n",
       "nombre_medailles     169\n",
       "score_performance      0\n",
       "dtype: int64"
      ]
     },
     "execution_count": 4,
     "metadata": {},
     "output_type": "execute_result"
    }
   ],
   "source": [
    "df.isnull().sum()"
   ]
  }
 ],
 "metadata": {
  "kernelspec": {
   "display_name": "Python 3",
   "language": "python",
   "name": "python3"
  },
  "language_info": {
   "codemirror_mode": {
    "name": "ipython",
    "version": 3
   },
   "file_extension": ".py",
   "mimetype": "text/x-python",
   "name": "python",
   "nbconvert_exporter": "python",
   "pygments_lexer": "ipython3",
   "version": "3.11.7"
  }
 },
 "nbformat": 4,
 "nbformat_minor": 2
}
