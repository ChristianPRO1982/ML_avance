{
 "cells": [
  {
   "cell_type": "markdown",
   "metadata": {},
   "source": [
    "### Quand imputer : \n",
    "\n",
    "Si les données manquantes semblent être distribuées de manière aléatoire et ne présentent pas de schéma particulier, l'imputation peut être une approche raisonnable pour remplir ces lacunes. Cela peut contribuer à préserver la structure générale des données. \n",
    "\n",
    " \n",
    "\n",
    "Si la taille de l'échantillon est limitée et que la suppression des lignes avec des valeurs manquantes entraînerait une perte significative d'informations, l'imputation peut être une solution pour maintenir la taille de l'échantillon. \n",
    "\n",
    " \n",
    "\n",
    "Dans certaines situations, l'imputation peut aider à réduire le biais introduit par les données manquantes. Cela dépend cependant de la manière dont les données sont manquantes et du choix de la méthode d'imputation. \n",
    "\n",
    " \n",
    "\n",
    "Si vous avez des méthodes d'imputation appropriées qui peuvent estimer raisonnablement bien les valeurs manquantes, comme l'imputation par la moyenne, la médiane, la régression, etc., alors l'imputation peut être une option valable. \n",
    "\n",
    " \n"
   ]
  },
  {
   "cell_type": "markdown",
   "metadata": {},
   "source": [
    "\n",
    "### Quand ne pas imputer : \n",
    "\n",
    " \n",
    "\n",
    "Si les données manquantes présentent un schéma ou une corrélation avec certaines caractéristiques, imputer les valeurs manquantes peut introduire un biais. Dans de tels cas, il peut être préférable de comprendre pourquoi les données sont manquantes et de traiter le problème à la source. \n",
    "\n",
    " \n",
    "\n",
    "Si la méthode d'imputation choisie est inappropriée pour la distribution des données ou si elle peut introduire des biais importants, il peut être préférable de ne pas imputer et d'explorer d'autres méthodes de gestion des données manquantes. \n",
    "\n",
    " \n",
    "\n",
    "Dans certains cas, l'imputation peut ne pas être appropriée si elle a un impact significatif sur les résultats de l'analyse. Par exemple, dans des analyses sensibles aux valeurs aberrantes, l'imputation peut modifier considérablement les résultats. "
   ]
  }
 ],
 "metadata": {
  "kernelspec": {
   "display_name": "MLImputer",
   "language": "python",
   "name": "python3"
  },
  "language_info": {
   "name": "python",
   "version": "3.9.12"
  }
 },
 "nbformat": 4,
 "nbformat_minor": 2
}
