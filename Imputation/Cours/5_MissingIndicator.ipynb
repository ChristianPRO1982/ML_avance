{
 "cells": [
  {
   "cell_type": "markdown",
   "metadata": {},
   "source": [
    "### MissingIndicator\n",
    "\n",
    "MissingIndicator indique par un booléen l'absence de valeurs dans le Dataset \n",
    "\n",
    " \n",
    "\n",
    " \n",
    "\n",
    "MissingIndicator est un transformateur utilisé pour transformer un ensemble de données en une matrice binaire correspondante indiquant la présence de valeurs manquantes dans l'ensemble de données. Cela peut être particulièrement utile en conjonction avec des techniques d'imputation. \n",
    "\n",
    " \n",
    "\n",
    "MissingIndicator sert à identifier les positions des valeurs manquantes dans un ensemble de données et à créer une matrice binaire où chaque colonne indique la présence ou l'absence de valeurs manquantes pour la colonne correspondante dans l'ensemble de données. \n",
    "\n",
    " \n",
    "\n",
    "Lorsque vous utilisez des techniques d'imputation telles que SimpleImputer, il est parfois utile de connaître quelles valeurs étaient initialement manquantes. MissingIndicator peut aider à préserver cette information. \n",
    "\n",
    " \n",
    "\n",
    " \n",
    "\n",
    "Vous pouvez spécifier le placeholder pour les valeurs manquantes en utilisant le paramètre missing_values. Par défaut, NaN est utilisé, mais vous pouvez également spécifier d'autres placeholders tels que des entiers. \n",
    "\n"
   ]
  },
  {
   "cell_type": "code",
   "execution_count": 1,
   "metadata": {},
   "outputs": [
    {
     "data": {
      "text/plain": [
       "array([[  1., 100.],\n",
       "       [  2.,  30.],\n",
       "       [  3.,  15.],\n",
       "       [ nan,  nan]])"
      ]
     },
     "execution_count": 1,
     "metadata": {},
     "output_type": "execute_result"
    }
   ],
   "source": [
    "import pandas as pd\n",
    "import numpy as np\n",
    "from sklearn.impute import MissingIndicator\n",
    "\n",
    "X = np.array([[1,100], \n",
    "\n",
    "                [2,30], \n",
    "\n",
    "                [3,15], \n",
    "\n",
    "                [np.nan,np.nan]])\n",
    "\n",
    "X"
   ]
  },
  {
   "cell_type": "code",
   "execution_count": 2,
   "metadata": {},
   "outputs": [
    {
     "data": {
      "text/plain": [
       "array([[False, False],\n",
       "       [False, False],\n",
       "       [False, False],\n",
       "       [ True,  True]])"
      ]
     },
     "execution_count": 2,
     "metadata": {},
     "output_type": "execute_result"
    }
   ],
   "source": [
    "model = MissingIndicator()\n",
    " \n",
    "model.fit_transform(X)"
   ]
  },
  {
   "cell_type": "markdown",
   "metadata": {},
   "source": [
    "En résumé, MissingIndicator est un outil pratique pour travailler avec des valeurs manquantes en conjonction avec des techniques d'imputation, en permettant de préserver et d'utiliser l'information sur les positions des valeurs manquantes dans l'ensemble de données. "
   ]
  },
  {
   "cell_type": "code",
   "execution_count": 3,
   "metadata": {},
   "outputs": [
    {
     "ename": "ModuleNotFoundError",
     "evalue": "No module named 'missingno'",
     "output_type": "error",
     "traceback": [
      "\u001b[1;31m---------------------------------------------------------------------------\u001b[0m",
      "\u001b[1;31mModuleNotFoundError\u001b[0m                       Traceback (most recent call last)",
      "Cell \u001b[1;32mIn[3], line 1\u001b[0m\n\u001b[1;32m----> 1\u001b[0m \u001b[38;5;28;01mimport\u001b[39;00m \u001b[38;5;21;01mmissingno\u001b[39;00m \u001b[38;5;28;01mas\u001b[39;00m \u001b[38;5;21;01mmsno\u001b[39;00m\n\u001b[0;32m      2\u001b[0m \u001b[38;5;28;01mimport\u001b[39;00m \u001b[38;5;21;01mpandas\u001b[39;00m \u001b[38;5;28;01mas\u001b[39;00m \u001b[38;5;21;01mpd\u001b[39;00m\n\u001b[0;32m      3\u001b[0m \u001b[38;5;28;01mimport\u001b[39;00m \u001b[38;5;21;01mnumpy\u001b[39;00m \u001b[38;5;28;01mas\u001b[39;00m \u001b[38;5;21;01mnp\u001b[39;00m\n",
      "\u001b[1;31mModuleNotFoundError\u001b[0m: No module named 'missingno'"
     ]
    }
   ],
   "source": [
    "import missingno as msno\n",
    "import pandas as pd\n",
    "\n",
    "df = pd.read_csv('titanic.csv')\n",
    "\n",
    "msno.bar(df)\n"
   ]
  }
 ],
 "metadata": {
  "kernelspec": {
   "display_name": "MLImputer",
   "language": "python",
   "name": "python3"
  },
  "language_info": {
   "codemirror_mode": {
    "name": "ipython",
    "version": 3
   },
   "file_extension": ".py",
   "mimetype": "text/x-python",
   "name": "python",
   "nbconvert_exporter": "python",
   "pygments_lexer": "ipython3",
   "version": "3.11.7"
  }
 },
 "nbformat": 4,
 "nbformat_minor": 2
}
